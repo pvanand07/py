{
 "cells": [
  {
   "cell_type": "code",
   "execution_count": 1,
   "id": "64d07888",
   "metadata": {
    "execution": {
     "iopub.execute_input": "2022-09-20T12:45:18.661962Z",
     "iopub.status.busy": "2022-09-20T12:45:18.661437Z",
     "iopub.status.idle": "2022-09-20T12:45:18.672390Z",
     "shell.execute_reply": "2022-09-20T12:45:18.671311Z"
    },
    "papermill": {
     "duration": 0.023358,
     "end_time": "2022-09-20T12:45:18.675136",
     "exception": false,
     "start_time": "2022-09-20T12:45:18.651778",
     "status": "completed"
    },
    "tags": []
   },
   "outputs": [],
   "source": [
    "import pandas as pd"
   ]
  },
  {
   "cell_type": "code",
   "execution_count": 2,
   "id": "20ab2db7",
   "metadata": {
    "execution": {
     "iopub.execute_input": "2022-09-20T12:45:18.690422Z",
     "iopub.status.busy": "2022-09-20T12:45:18.689761Z",
     "iopub.status.idle": "2022-09-20T12:45:18.743627Z",
     "shell.execute_reply": "2022-09-20T12:45:18.742785Z"
    },
    "papermill": {
     "duration": 0.064581,
     "end_time": "2022-09-20T12:45:18.746370",
     "exception": false,
     "start_time": "2022-09-20T12:45:18.681789",
     "status": "completed"
    },
    "tags": []
   },
   "outputs": [
    {
     "data": {
      "text/html": [
       "<div>\n",
       "<style scoped>\n",
       "    .dataframe tbody tr th:only-of-type {\n",
       "        vertical-align: middle;\n",
       "    }\n",
       "\n",
       "    .dataframe tbody tr th {\n",
       "        vertical-align: top;\n",
       "    }\n",
       "\n",
       "    .dataframe thead th {\n",
       "        text-align: right;\n",
       "    }\n",
       "</style>\n",
       "<table border=\"1\" class=\"dataframe\">\n",
       "  <thead>\n",
       "    <tr style=\"text-align: right;\">\n",
       "      <th></th>\n",
       "      <th>0</th>\n",
       "      <th>1</th>\n",
       "      <th>2</th>\n",
       "      <th>3</th>\n",
       "      <th>4</th>\n",
       "      <th>5</th>\n",
       "      <th>6</th>\n",
       "      <th>7</th>\n",
       "      <th>8</th>\n",
       "    </tr>\n",
       "  </thead>\n",
       "  <tbody>\n",
       "    <tr>\n",
       "      <th>0</th>\n",
       "      <td>6</td>\n",
       "      <td>148</td>\n",
       "      <td>72</td>\n",
       "      <td>35</td>\n",
       "      <td>0</td>\n",
       "      <td>33.6</td>\n",
       "      <td>0.627</td>\n",
       "      <td>50</td>\n",
       "      <td>1</td>\n",
       "    </tr>\n",
       "    <tr>\n",
       "      <th>1</th>\n",
       "      <td>1</td>\n",
       "      <td>85</td>\n",
       "      <td>66</td>\n",
       "      <td>29</td>\n",
       "      <td>0</td>\n",
       "      <td>26.6</td>\n",
       "      <td>0.351</td>\n",
       "      <td>31</td>\n",
       "      <td>0</td>\n",
       "    </tr>\n",
       "    <tr>\n",
       "      <th>2</th>\n",
       "      <td>8</td>\n",
       "      <td>183</td>\n",
       "      <td>64</td>\n",
       "      <td>0</td>\n",
       "      <td>0</td>\n",
       "      <td>23.3</td>\n",
       "      <td>0.672</td>\n",
       "      <td>32</td>\n",
       "      <td>1</td>\n",
       "    </tr>\n",
       "    <tr>\n",
       "      <th>3</th>\n",
       "      <td>1</td>\n",
       "      <td>89</td>\n",
       "      <td>66</td>\n",
       "      <td>23</td>\n",
       "      <td>94</td>\n",
       "      <td>28.1</td>\n",
       "      <td>0.167</td>\n",
       "      <td>21</td>\n",
       "      <td>0</td>\n",
       "    </tr>\n",
       "    <tr>\n",
       "      <th>4</th>\n",
       "      <td>0</td>\n",
       "      <td>137</td>\n",
       "      <td>40</td>\n",
       "      <td>35</td>\n",
       "      <td>168</td>\n",
       "      <td>43.1</td>\n",
       "      <td>2.288</td>\n",
       "      <td>33</td>\n",
       "      <td>1</td>\n",
       "    </tr>\n",
       "    <tr>\n",
       "      <th>...</th>\n",
       "      <td>...</td>\n",
       "      <td>...</td>\n",
       "      <td>...</td>\n",
       "      <td>...</td>\n",
       "      <td>...</td>\n",
       "      <td>...</td>\n",
       "      <td>...</td>\n",
       "      <td>...</td>\n",
       "      <td>...</td>\n",
       "    </tr>\n",
       "    <tr>\n",
       "      <th>763</th>\n",
       "      <td>10</td>\n",
       "      <td>101</td>\n",
       "      <td>76</td>\n",
       "      <td>48</td>\n",
       "      <td>180</td>\n",
       "      <td>32.9</td>\n",
       "      <td>0.171</td>\n",
       "      <td>63</td>\n",
       "      <td>0</td>\n",
       "    </tr>\n",
       "    <tr>\n",
       "      <th>764</th>\n",
       "      <td>2</td>\n",
       "      <td>122</td>\n",
       "      <td>70</td>\n",
       "      <td>27</td>\n",
       "      <td>0</td>\n",
       "      <td>36.8</td>\n",
       "      <td>0.340</td>\n",
       "      <td>27</td>\n",
       "      <td>0</td>\n",
       "    </tr>\n",
       "    <tr>\n",
       "      <th>765</th>\n",
       "      <td>5</td>\n",
       "      <td>121</td>\n",
       "      <td>72</td>\n",
       "      <td>23</td>\n",
       "      <td>112</td>\n",
       "      <td>26.2</td>\n",
       "      <td>0.245</td>\n",
       "      <td>30</td>\n",
       "      <td>0</td>\n",
       "    </tr>\n",
       "    <tr>\n",
       "      <th>766</th>\n",
       "      <td>1</td>\n",
       "      <td>126</td>\n",
       "      <td>60</td>\n",
       "      <td>0</td>\n",
       "      <td>0</td>\n",
       "      <td>30.1</td>\n",
       "      <td>0.349</td>\n",
       "      <td>47</td>\n",
       "      <td>1</td>\n",
       "    </tr>\n",
       "    <tr>\n",
       "      <th>767</th>\n",
       "      <td>1</td>\n",
       "      <td>93</td>\n",
       "      <td>70</td>\n",
       "      <td>31</td>\n",
       "      <td>0</td>\n",
       "      <td>30.4</td>\n",
       "      <td>0.315</td>\n",
       "      <td>23</td>\n",
       "      <td>0</td>\n",
       "    </tr>\n",
       "  </tbody>\n",
       "</table>\n",
       "<p>768 rows × 9 columns</p>\n",
       "</div>"
      ],
      "text/plain": [
       "      0    1   2   3    4     5      6   7  8\n",
       "0     6  148  72  35    0  33.6  0.627  50  1\n",
       "1     1   85  66  29    0  26.6  0.351  31  0\n",
       "2     8  183  64   0    0  23.3  0.672  32  1\n",
       "3     1   89  66  23   94  28.1  0.167  21  0\n",
       "4     0  137  40  35  168  43.1  2.288  33  1\n",
       "..   ..  ...  ..  ..  ...   ...    ...  .. ..\n",
       "763  10  101  76  48  180  32.9  0.171  63  0\n",
       "764   2  122  70  27    0  36.8  0.340  27  0\n",
       "765   5  121  72  23  112  26.2  0.245  30  0\n",
       "766   1  126  60   0    0  30.1  0.349  47  1\n",
       "767   1   93  70  31    0  30.4  0.315  23  0\n",
       "\n",
       "[768 rows x 9 columns]"
      ]
     },
     "execution_count": 2,
     "metadata": {},
     "output_type": "execute_result"
    }
   ],
   "source": [
    "\n",
    "df = pd.read_csv('../input/pima-indians-diabetes/pima-indians-diabetes.csv',header=None)\n",
    "#df['target']=digits.target\n",
    "df"
   ]
  },
  {
   "cell_type": "code",
   "execution_count": 3,
   "id": "3ee1adf6",
   "metadata": {
    "execution": {
     "iopub.execute_input": "2022-09-20T12:45:18.761427Z",
     "iopub.status.busy": "2022-09-20T12:45:18.760789Z",
     "iopub.status.idle": "2022-09-20T12:45:18.780794Z",
     "shell.execute_reply": "2022-09-20T12:45:18.779963Z"
    },
    "papermill": {
     "duration": 0.03022,
     "end_time": "2022-09-20T12:45:18.783063",
     "exception": false,
     "start_time": "2022-09-20T12:45:18.752843",
     "status": "completed"
    },
    "tags": []
   },
   "outputs": [
    {
     "data": {
      "text/html": [
       "<div>\n",
       "<style scoped>\n",
       "    .dataframe tbody tr th:only-of-type {\n",
       "        vertical-align: middle;\n",
       "    }\n",
       "\n",
       "    .dataframe tbody tr th {\n",
       "        vertical-align: top;\n",
       "    }\n",
       "\n",
       "    .dataframe thead th {\n",
       "        text-align: right;\n",
       "    }\n",
       "</style>\n",
       "<table border=\"1\" class=\"dataframe\">\n",
       "  <thead>\n",
       "    <tr style=\"text-align: right;\">\n",
       "      <th></th>\n",
       "      <th>0</th>\n",
       "      <th>1</th>\n",
       "      <th>2</th>\n",
       "      <th>3</th>\n",
       "      <th>4</th>\n",
       "      <th>5</th>\n",
       "      <th>6</th>\n",
       "      <th>7</th>\n",
       "    </tr>\n",
       "  </thead>\n",
       "  <tbody>\n",
       "    <tr>\n",
       "      <th>0</th>\n",
       "      <td>6</td>\n",
       "      <td>148</td>\n",
       "      <td>72</td>\n",
       "      <td>35</td>\n",
       "      <td>0</td>\n",
       "      <td>33.6</td>\n",
       "      <td>0.627</td>\n",
       "      <td>50</td>\n",
       "    </tr>\n",
       "    <tr>\n",
       "      <th>1</th>\n",
       "      <td>1</td>\n",
       "      <td>85</td>\n",
       "      <td>66</td>\n",
       "      <td>29</td>\n",
       "      <td>0</td>\n",
       "      <td>26.6</td>\n",
       "      <td>0.351</td>\n",
       "      <td>31</td>\n",
       "    </tr>\n",
       "    <tr>\n",
       "      <th>2</th>\n",
       "      <td>8</td>\n",
       "      <td>183</td>\n",
       "      <td>64</td>\n",
       "      <td>0</td>\n",
       "      <td>0</td>\n",
       "      <td>23.3</td>\n",
       "      <td>0.672</td>\n",
       "      <td>32</td>\n",
       "    </tr>\n",
       "    <tr>\n",
       "      <th>3</th>\n",
       "      <td>1</td>\n",
       "      <td>89</td>\n",
       "      <td>66</td>\n",
       "      <td>23</td>\n",
       "      <td>94</td>\n",
       "      <td>28.1</td>\n",
       "      <td>0.167</td>\n",
       "      <td>21</td>\n",
       "    </tr>\n",
       "    <tr>\n",
       "      <th>4</th>\n",
       "      <td>0</td>\n",
       "      <td>137</td>\n",
       "      <td>40</td>\n",
       "      <td>35</td>\n",
       "      <td>168</td>\n",
       "      <td>43.1</td>\n",
       "      <td>2.288</td>\n",
       "      <td>33</td>\n",
       "    </tr>\n",
       "    <tr>\n",
       "      <th>...</th>\n",
       "      <td>...</td>\n",
       "      <td>...</td>\n",
       "      <td>...</td>\n",
       "      <td>...</td>\n",
       "      <td>...</td>\n",
       "      <td>...</td>\n",
       "      <td>...</td>\n",
       "      <td>...</td>\n",
       "    </tr>\n",
       "    <tr>\n",
       "      <th>763</th>\n",
       "      <td>10</td>\n",
       "      <td>101</td>\n",
       "      <td>76</td>\n",
       "      <td>48</td>\n",
       "      <td>180</td>\n",
       "      <td>32.9</td>\n",
       "      <td>0.171</td>\n",
       "      <td>63</td>\n",
       "    </tr>\n",
       "    <tr>\n",
       "      <th>764</th>\n",
       "      <td>2</td>\n",
       "      <td>122</td>\n",
       "      <td>70</td>\n",
       "      <td>27</td>\n",
       "      <td>0</td>\n",
       "      <td>36.8</td>\n",
       "      <td>0.340</td>\n",
       "      <td>27</td>\n",
       "    </tr>\n",
       "    <tr>\n",
       "      <th>765</th>\n",
       "      <td>5</td>\n",
       "      <td>121</td>\n",
       "      <td>72</td>\n",
       "      <td>23</td>\n",
       "      <td>112</td>\n",
       "      <td>26.2</td>\n",
       "      <td>0.245</td>\n",
       "      <td>30</td>\n",
       "    </tr>\n",
       "    <tr>\n",
       "      <th>766</th>\n",
       "      <td>1</td>\n",
       "      <td>126</td>\n",
       "      <td>60</td>\n",
       "      <td>0</td>\n",
       "      <td>0</td>\n",
       "      <td>30.1</td>\n",
       "      <td>0.349</td>\n",
       "      <td>47</td>\n",
       "    </tr>\n",
       "    <tr>\n",
       "      <th>767</th>\n",
       "      <td>1</td>\n",
       "      <td>93</td>\n",
       "      <td>70</td>\n",
       "      <td>31</td>\n",
       "      <td>0</td>\n",
       "      <td>30.4</td>\n",
       "      <td>0.315</td>\n",
       "      <td>23</td>\n",
       "    </tr>\n",
       "  </tbody>\n",
       "</table>\n",
       "<p>768 rows × 8 columns</p>\n",
       "</div>"
      ],
      "text/plain": [
       "      0    1   2   3    4     5      6   7\n",
       "0     6  148  72  35    0  33.6  0.627  50\n",
       "1     1   85  66  29    0  26.6  0.351  31\n",
       "2     8  183  64   0    0  23.3  0.672  32\n",
       "3     1   89  66  23   94  28.1  0.167  21\n",
       "4     0  137  40  35  168  43.1  2.288  33\n",
       "..   ..  ...  ..  ..  ...   ...    ...  ..\n",
       "763  10  101  76  48  180  32.9  0.171  63\n",
       "764   2  122  70  27    0  36.8  0.340  27\n",
       "765   5  121  72  23  112  26.2  0.245  30\n",
       "766   1  126  60   0    0  30.1  0.349  47\n",
       "767   1   93  70  31    0  30.4  0.315  23\n",
       "\n",
       "[768 rows x 8 columns]"
      ]
     },
     "execution_count": 3,
     "metadata": {},
     "output_type": "execute_result"
    }
   ],
   "source": [
    "X = df.drop(df.columns[8],axis='columns')\n",
    "y = df[8]\n",
    "X"
   ]
  },
  {
   "cell_type": "markdown",
   "id": "3002a713",
   "metadata": {
    "papermill": {
     "duration": 0.006515,
     "end_time": "2022-09-20T12:45:18.796515",
     "exception": false,
     "start_time": "2022-09-20T12:45:18.790000",
     "status": "completed"
    },
    "tags": []
   },
   "source": [
    "**OUTLIER REMOVAL**"
   ]
  },
  {
   "cell_type": "code",
   "execution_count": 4,
   "id": "af9d1f62",
   "metadata": {
    "execution": {
     "iopub.execute_input": "2022-09-20T12:45:18.811847Z",
     "iopub.status.busy": "2022-09-20T12:45:18.811428Z",
     "iopub.status.idle": "2022-09-20T12:45:18.844552Z",
     "shell.execute_reply": "2022-09-20T12:45:18.843413Z"
    },
    "papermill": {
     "duration": 0.044056,
     "end_time": "2022-09-20T12:45:18.847258",
     "exception": false,
     "start_time": "2022-09-20T12:45:18.803202",
     "status": "completed"
    },
    "tags": []
   },
   "outputs": [
    {
     "data": {
      "text/html": [
       "<div>\n",
       "<style scoped>\n",
       "    .dataframe tbody tr th:only-of-type {\n",
       "        vertical-align: middle;\n",
       "    }\n",
       "\n",
       "    .dataframe tbody tr th {\n",
       "        vertical-align: top;\n",
       "    }\n",
       "\n",
       "    .dataframe thead th {\n",
       "        text-align: right;\n",
       "    }\n",
       "</style>\n",
       "<table border=\"1\" class=\"dataframe\">\n",
       "  <thead>\n",
       "    <tr style=\"text-align: right;\">\n",
       "      <th></th>\n",
       "      <th>0</th>\n",
       "      <th>1</th>\n",
       "      <th>2</th>\n",
       "      <th>3</th>\n",
       "      <th>4</th>\n",
       "      <th>5</th>\n",
       "      <th>6</th>\n",
       "      <th>7</th>\n",
       "      <th>8</th>\n",
       "    </tr>\n",
       "  </thead>\n",
       "  <tbody>\n",
       "    <tr>\n",
       "      <th>0</th>\n",
       "      <td>6</td>\n",
       "      <td>148</td>\n",
       "      <td>72</td>\n",
       "      <td>35</td>\n",
       "      <td>0</td>\n",
       "      <td>33.6</td>\n",
       "      <td>0.627</td>\n",
       "      <td>50</td>\n",
       "      <td>1</td>\n",
       "    </tr>\n",
       "    <tr>\n",
       "      <th>1</th>\n",
       "      <td>1</td>\n",
       "      <td>85</td>\n",
       "      <td>66</td>\n",
       "      <td>29</td>\n",
       "      <td>0</td>\n",
       "      <td>26.6</td>\n",
       "      <td>0.351</td>\n",
       "      <td>31</td>\n",
       "      <td>0</td>\n",
       "    </tr>\n",
       "    <tr>\n",
       "      <th>2</th>\n",
       "      <td>8</td>\n",
       "      <td>183</td>\n",
       "      <td>64</td>\n",
       "      <td>0</td>\n",
       "      <td>0</td>\n",
       "      <td>23.3</td>\n",
       "      <td>0.672</td>\n",
       "      <td>32</td>\n",
       "      <td>1</td>\n",
       "    </tr>\n",
       "    <tr>\n",
       "      <th>3</th>\n",
       "      <td>1</td>\n",
       "      <td>89</td>\n",
       "      <td>66</td>\n",
       "      <td>23</td>\n",
       "      <td>94</td>\n",
       "      <td>28.1</td>\n",
       "      <td>0.167</td>\n",
       "      <td>21</td>\n",
       "      <td>0</td>\n",
       "    </tr>\n",
       "    <tr>\n",
       "      <th>5</th>\n",
       "      <td>5</td>\n",
       "      <td>116</td>\n",
       "      <td>74</td>\n",
       "      <td>0</td>\n",
       "      <td>0</td>\n",
       "      <td>25.6</td>\n",
       "      <td>0.201</td>\n",
       "      <td>30</td>\n",
       "      <td>0</td>\n",
       "    </tr>\n",
       "    <tr>\n",
       "      <th>...</th>\n",
       "      <td>...</td>\n",
       "      <td>...</td>\n",
       "      <td>...</td>\n",
       "      <td>...</td>\n",
       "      <td>...</td>\n",
       "      <td>...</td>\n",
       "      <td>...</td>\n",
       "      <td>...</td>\n",
       "      <td>...</td>\n",
       "    </tr>\n",
       "    <tr>\n",
       "      <th>763</th>\n",
       "      <td>10</td>\n",
       "      <td>101</td>\n",
       "      <td>76</td>\n",
       "      <td>48</td>\n",
       "      <td>180</td>\n",
       "      <td>32.9</td>\n",
       "      <td>0.171</td>\n",
       "      <td>63</td>\n",
       "      <td>0</td>\n",
       "    </tr>\n",
       "    <tr>\n",
       "      <th>764</th>\n",
       "      <td>2</td>\n",
       "      <td>122</td>\n",
       "      <td>70</td>\n",
       "      <td>27</td>\n",
       "      <td>0</td>\n",
       "      <td>36.8</td>\n",
       "      <td>0.340</td>\n",
       "      <td>27</td>\n",
       "      <td>0</td>\n",
       "    </tr>\n",
       "    <tr>\n",
       "      <th>765</th>\n",
       "      <td>5</td>\n",
       "      <td>121</td>\n",
       "      <td>72</td>\n",
       "      <td>23</td>\n",
       "      <td>112</td>\n",
       "      <td>26.2</td>\n",
       "      <td>0.245</td>\n",
       "      <td>30</td>\n",
       "      <td>0</td>\n",
       "    </tr>\n",
       "    <tr>\n",
       "      <th>766</th>\n",
       "      <td>1</td>\n",
       "      <td>126</td>\n",
       "      <td>60</td>\n",
       "      <td>0</td>\n",
       "      <td>0</td>\n",
       "      <td>30.1</td>\n",
       "      <td>0.349</td>\n",
       "      <td>47</td>\n",
       "      <td>1</td>\n",
       "    </tr>\n",
       "    <tr>\n",
       "      <th>767</th>\n",
       "      <td>1</td>\n",
       "      <td>93</td>\n",
       "      <td>70</td>\n",
       "      <td>31</td>\n",
       "      <td>0</td>\n",
       "      <td>30.4</td>\n",
       "      <td>0.315</td>\n",
       "      <td>23</td>\n",
       "      <td>0</td>\n",
       "    </tr>\n",
       "  </tbody>\n",
       "</table>\n",
       "<p>685 rows × 9 columns</p>\n",
       "</div>"
      ],
      "text/plain": [
       "      0    1   2   3    4     5      6   7  8\n",
       "0     6  148  72  35    0  33.6  0.627  50  1\n",
       "1     1   85  66  29    0  26.6  0.351  31  0\n",
       "2     8  183  64   0    0  23.3  0.672  32  1\n",
       "3     1   89  66  23   94  28.1  0.167  21  0\n",
       "5     5  116  74   0    0  25.6  0.201  30  0\n",
       "..   ..  ...  ..  ..  ...   ...    ...  .. ..\n",
       "763  10  101  76  48  180  32.9  0.171  63  0\n",
       "764   2  122  70  27    0  36.8  0.340  27  0\n",
       "765   5  121  72  23  112  26.2  0.245  30  0\n",
       "766   1  126  60   0    0  30.1  0.349  47  1\n",
       "767   1   93  70  31    0  30.4  0.315  23  0\n",
       "\n",
       "[685 rows x 9 columns]"
      ]
     },
     "execution_count": 4,
     "metadata": {},
     "output_type": "execute_result"
    }
   ],
   "source": [
    "for i in range(8):\n",
    "    df=df[abs(((df.iloc[:,i]-df.iloc[:,i].mean())/df.iloc[:,i].std()))<3]\n",
    "    i+=1\n",
    "df"
   ]
  },
  {
   "cell_type": "markdown",
   "id": "7b734153",
   "metadata": {
    "execution": {
     "iopub.execute_input": "2022-09-20T10:45:50.958201Z",
     "iopub.status.busy": "2022-09-20T10:45:50.957762Z",
     "iopub.status.idle": "2022-09-20T10:45:50.970180Z",
     "shell.execute_reply": "2022-09-20T10:45:50.968675Z",
     "shell.execute_reply.started": "2022-09-20T10:45:50.958162Z"
    },
    "papermill": {
     "duration": 0.007154,
     "end_time": "2022-09-20T12:45:18.861462",
     "exception": false,
     "start_time": "2022-09-20T12:45:18.854308",
     "status": "completed"
    },
    "tags": []
   },
   "source": [
    "from sklearn.preprocessing import StandardScaler\n",
    "scaler = StandardScaler()\n",
    "X_scaled=scaler.fit_transform(X)"
   ]
  },
  {
   "cell_type": "code",
   "execution_count": 5,
   "id": "294ce58c",
   "metadata": {
    "execution": {
     "iopub.execute_input": "2022-09-20T12:45:18.877597Z",
     "iopub.status.busy": "2022-09-20T12:45:18.876685Z",
     "iopub.status.idle": "2022-09-20T12:45:20.066826Z",
     "shell.execute_reply": "2022-09-20T12:45:20.065577Z"
    },
    "papermill": {
     "duration": 1.201577,
     "end_time": "2022-09-20T12:45:20.070022",
     "exception": false,
     "start_time": "2022-09-20T12:45:18.868445",
     "status": "completed"
    },
    "tags": []
   },
   "outputs": [],
   "source": [
    "from sklearn.model_selection import train_test_split\n",
    "X_train, X_test, y_train, y_test = train_test_split(X, y, test_size=0.3, random_state=1)"
   ]
  },
  {
   "cell_type": "code",
   "execution_count": 6,
   "id": "4eb8d075",
   "metadata": {
    "execution": {
     "iopub.execute_input": "2022-09-20T12:45:20.087141Z",
     "iopub.status.busy": "2022-09-20T12:45:20.086680Z",
     "iopub.status.idle": "2022-09-20T12:45:20.251887Z",
     "shell.execute_reply": "2022-09-20T12:45:20.250401Z"
    },
    "papermill": {
     "duration": 0.17718,
     "end_time": "2022-09-20T12:45:20.254737",
     "exception": false,
     "start_time": "2022-09-20T12:45:20.077557",
     "status": "completed"
    },
    "tags": []
   },
   "outputs": [
    {
     "data": {
      "text/plain": [
       "0.7359307359307359"
      ]
     },
     "execution_count": 6,
     "metadata": {},
     "output_type": "execute_result"
    }
   ],
   "source": [
    "from sklearn.pipeline import make_pipeline\n",
    "from sklearn.neighbors import KNeighborsClassifier\n",
    "from sklearn.preprocessing import StandardScaler\n",
    "knn=KNeighborsClassifier(n_neighbors=3)\n",
    "model = make_pipeline(StandardScaler(), knn)\n",
    "model.fit(X_train,y_train)\n",
    "model.score(X_test,y_test)"
   ]
  },
  {
   "cell_type": "code",
   "execution_count": null,
   "id": "0ea99293",
   "metadata": {
    "papermill": {
     "duration": 0.006796,
     "end_time": "2022-09-20T12:45:20.268774",
     "exception": false,
     "start_time": "2022-09-20T12:45:20.261978",
     "status": "completed"
    },
    "tags": []
   },
   "outputs": [],
   "source": []
  },
  {
   "cell_type": "markdown",
   "id": "458c2566",
   "metadata": {
    "execution": {
     "iopub.execute_input": "2022-09-20T10:41:06.335246Z",
     "iopub.status.busy": "2022-09-20T10:41:06.334728Z",
     "iopub.status.idle": "2022-09-20T10:41:06.347572Z",
     "shell.execute_reply": "2022-09-20T10:41:06.346190Z",
     "shell.execute_reply.started": "2022-09-20T10:41:06.335195Z"
    },
    "papermill": {
     "duration": 0.006734,
     "end_time": "2022-09-20T12:45:20.282661",
     "exception": false,
     "start_time": "2022-09-20T12:45:20.275927",
     "status": "completed"
    },
    "tags": []
   },
   "source": [
    "import numpy as np\n",
    "from sklearn.decomposition import PCA\n",
    "pca = PCA(0.95)\n",
    "X_pca=pca.fit_transform(X)"
   ]
  },
  {
   "cell_type": "markdown",
   "id": "8c032806",
   "metadata": {
    "execution": {
     "iopub.execute_input": "2022-09-20T10:41:06.351134Z",
     "iopub.status.busy": "2022-09-20T10:41:06.350524Z",
     "iopub.status.idle": "2022-09-20T10:41:06.359452Z",
     "shell.execute_reply": "2022-09-20T10:41:06.358101Z",
     "shell.execute_reply.started": "2022-09-20T10:41:06.351081Z"
    },
    "papermill": {
     "duration": 0.006791,
     "end_time": "2022-09-20T12:45:20.296539",
     "exception": false,
     "start_time": "2022-09-20T12:45:20.289748",
     "status": "completed"
    },
    "tags": []
   },
   "source": [
    " print(pca.explained_variance_ratio_)"
   ]
  },
  {
   "cell_type": "markdown",
   "id": "6b5808ac",
   "metadata": {
    "execution": {
     "iopub.execute_input": "2022-09-20T10:41:06.368025Z",
     "iopub.status.busy": "2022-09-20T10:41:06.366533Z",
     "iopub.status.idle": "2022-09-20T10:41:06.376934Z",
     "shell.execute_reply": "2022-09-20T10:41:06.375768Z",
     "shell.execute_reply.started": "2022-09-20T10:41:06.367961Z"
    },
    "papermill": {
     "duration": 0.007919,
     "end_time": "2022-09-20T12:45:20.311539",
     "exception": false,
     "start_time": "2022-09-20T12:45:20.303620",
     "status": "completed"
    },
    "tags": []
   },
   "source": [
    "X_train, X_test, y_train, y_test = train_test_split(X_pca, y, test_size=0.2, random_state=1)\n",
    "from sklearn.neighbors import KNeighborsClassifier\n",
    "knn=KNeighborsClassifier(n_neighbors=10)\n",
    "model = make_pipeline(StandardScaler(), knn)"
   ]
  },
  {
   "cell_type": "markdown",
   "id": "917bda1d",
   "metadata": {
    "execution": {
     "iopub.execute_input": "2022-09-20T10:41:06.430556Z",
     "iopub.status.busy": "2022-09-20T10:41:06.429803Z",
     "iopub.status.idle": "2022-09-20T10:41:06.446350Z",
     "shell.execute_reply": "2022-09-20T10:41:06.445016Z",
     "shell.execute_reply.started": "2022-09-20T10:41:06.430498Z"
    },
    "papermill": {
     "duration": 0.006842,
     "end_time": "2022-09-20T12:45:20.325533",
     "exception": false,
     "start_time": "2022-09-20T12:45:20.318691",
     "status": "completed"
    },
    "tags": []
   },
   "source": [
    "model.fit(X_train,y_train)"
   ]
  },
  {
   "cell_type": "markdown",
   "id": "ad98bb8b",
   "metadata": {
    "execution": {
     "iopub.execute_input": "2022-09-20T10:41:06.474664Z",
     "iopub.status.busy": "2022-09-20T10:41:06.474142Z",
     "iopub.status.idle": "2022-09-20T10:41:06.493375Z",
     "shell.execute_reply": "2022-09-20T10:41:06.492398Z",
     "shell.execute_reply.started": "2022-09-20T10:41:06.474626Z"
    },
    "papermill": {
     "duration": 0.006758,
     "end_time": "2022-09-20T12:45:20.339376",
     "exception": false,
     "start_time": "2022-09-20T12:45:20.332618",
     "status": "completed"
    },
    "tags": []
   },
   "source": [
    "model.score(X_test,y_test)"
   ]
  },
  {
   "cell_type": "code",
   "execution_count": 7,
   "id": "4cbc675e",
   "metadata": {
    "execution": {
     "iopub.execute_input": "2022-09-20T12:45:20.356232Z",
     "iopub.status.busy": "2022-09-20T12:45:20.354927Z",
     "iopub.status.idle": "2022-09-20T12:45:20.387297Z",
     "shell.execute_reply": "2022-09-20T12:45:20.386392Z"
    },
    "papermill": {
     "duration": 0.043293,
     "end_time": "2022-09-20T12:45:20.389855",
     "exception": false,
     "start_time": "2022-09-20T12:45:20.346562",
     "status": "completed"
    },
    "tags": []
   },
   "outputs": [
    {
     "data": {
      "text/plain": [
       "0.7922077922077922"
      ]
     },
     "execution_count": 7,
     "metadata": {},
     "output_type": "execute_result"
    }
   ],
   "source": [
    "from sklearn.pipeline import make_pipeline\n",
    "from sklearn.preprocessing import StandardScaler\n",
    "\n",
    "from sklearn.svm import SVC\n",
    "clf = make_pipeline(StandardScaler(), SVC(gamma='auto'))\n",
    "clf.fit(X_train, y_train)\n",
    "clf.score(X_test,y_test)"
   ]
  },
  {
   "cell_type": "code",
   "execution_count": 8,
   "id": "a318a9b2",
   "metadata": {
    "execution": {
     "iopub.execute_input": "2022-09-20T12:45:20.407417Z",
     "iopub.status.busy": "2022-09-20T12:45:20.406701Z",
     "iopub.status.idle": "2022-09-20T12:45:20.448726Z",
     "shell.execute_reply": "2022-09-20T12:45:20.447427Z"
    },
    "papermill": {
     "duration": 0.053622,
     "end_time": "2022-09-20T12:45:20.451254",
     "exception": false,
     "start_time": "2022-09-20T12:45:20.397632",
     "status": "completed"
    },
    "tags": []
   },
   "outputs": [
    {
     "data": {
      "text/plain": [
       "0.7835497835497836"
      ]
     },
     "execution_count": 8,
     "metadata": {},
     "output_type": "execute_result"
    }
   ],
   "source": [
    "from sklearn.linear_model import LogisticRegression\n",
    "model=LogisticRegression(max_iter=1000)\n",
    "model.fit(X_train, y_train)\n",
    "model.score(X_test,y_test)"
   ]
  },
  {
   "cell_type": "code",
   "execution_count": 9,
   "id": "ef9eeb64",
   "metadata": {
    "execution": {
     "iopub.execute_input": "2022-09-20T12:45:20.468247Z",
     "iopub.status.busy": "2022-09-20T12:45:20.467857Z",
     "iopub.status.idle": "2022-09-20T12:45:20.772556Z",
     "shell.execute_reply": "2022-09-20T12:45:20.771404Z"
    },
    "papermill": {
     "duration": 0.316161,
     "end_time": "2022-09-20T12:45:20.775202",
     "exception": false,
     "start_time": "2022-09-20T12:45:20.459041",
     "status": "completed"
    },
    "tags": []
   },
   "outputs": [
    {
     "data": {
      "text/plain": [
       "0.7748917748917749"
      ]
     },
     "execution_count": 9,
     "metadata": {},
     "output_type": "execute_result"
    }
   ],
   "source": [
    "from sklearn.ensemble import RandomForestClassifier\n",
    "model = RandomForestClassifier(max_depth=15, random_state=0)\n",
    "model.fit(X_train, y_train)\n",
    "model.score(X_test,y_test)"
   ]
  },
  {
   "cell_type": "code",
   "execution_count": 10,
   "id": "2e2a0e32",
   "metadata": {
    "execution": {
     "iopub.execute_input": "2022-09-20T12:45:20.791815Z",
     "iopub.status.busy": "2022-09-20T12:45:20.791380Z",
     "iopub.status.idle": "2022-09-20T12:45:20.840892Z",
     "shell.execute_reply": "2022-09-20T12:45:20.839681Z"
    },
    "papermill": {
     "duration": 0.060645,
     "end_time": "2022-09-20T12:45:20.843335",
     "exception": false,
     "start_time": "2022-09-20T12:45:20.782690",
     "status": "completed"
    },
    "tags": []
   },
   "outputs": [
    {
     "data": {
      "text/plain": [
       "0.7162719633307869"
      ]
     },
     "execution_count": 10,
     "metadata": {},
     "output_type": "execute_result"
    }
   ],
   "source": [
    "from sklearn.model_selection import cross_val_score\n",
    "from sklearn.tree import DecisionTreeClassifier\n",
    "\n",
    "scores = cross_val_score(DecisionTreeClassifier(), X, y, cv=5)\n",
    "scores.mean()"
   ]
  },
  {
   "cell_type": "code",
   "execution_count": 11,
   "id": "f553828e",
   "metadata": {
    "execution": {
     "iopub.execute_input": "2022-09-20T12:45:20.860821Z",
     "iopub.status.busy": "2022-09-20T12:45:20.860380Z",
     "iopub.status.idle": "2022-09-20T12:45:21.230059Z",
     "shell.execute_reply": "2022-09-20T12:45:21.228956Z"
    },
    "papermill": {
     "duration": 0.381294,
     "end_time": "2022-09-20T12:45:21.232511",
     "exception": false,
     "start_time": "2022-09-20T12:45:20.851217",
     "status": "completed"
    },
    "tags": []
   },
   "outputs": [
    {
     "data": {
      "text/plain": [
       "0.7337057728119181"
      ]
     },
     "execution_count": 11,
     "metadata": {},
     "output_type": "execute_result"
    }
   ],
   "source": [
    "from sklearn.ensemble import BaggingClassifier\n",
    "bag=BaggingClassifier( base_estimator=DecisionTreeClassifier(),\n",
    "                       n_estimators=100,\n",
    "                       max_samples=0.8,\n",
    "                       oob_score=True,\n",
    "                       random_state=0\n",
    "                     )\n",
    "bag.fit(X_train,y_train)\n",
    "bag.oob_score_"
   ]
  },
  {
   "cell_type": "code",
   "execution_count": 12,
   "id": "fc9f0fbe",
   "metadata": {
    "execution": {
     "iopub.execute_input": "2022-09-20T12:45:21.251512Z",
     "iopub.status.busy": "2022-09-20T12:45:21.250581Z",
     "iopub.status.idle": "2022-09-20T12:45:21.278087Z",
     "shell.execute_reply": "2022-09-20T12:45:21.276789Z"
    },
    "papermill": {
     "duration": 0.04021,
     "end_time": "2022-09-20T12:45:21.281032",
     "exception": false,
     "start_time": "2022-09-20T12:45:21.240822",
     "status": "completed"
    },
    "tags": []
   },
   "outputs": [
    {
     "data": {
      "text/plain": [
       "0.7835497835497836"
      ]
     },
     "execution_count": 12,
     "metadata": {},
     "output_type": "execute_result"
    }
   ],
   "source": [
    "bag.score(X_test,y_test)"
   ]
  },
  {
   "cell_type": "code",
   "execution_count": 13,
   "id": "39333921",
   "metadata": {
    "execution": {
     "iopub.execute_input": "2022-09-20T12:45:21.298977Z",
     "iopub.status.busy": "2022-09-20T12:45:21.298243Z",
     "iopub.status.idle": "2022-09-20T12:45:21.304326Z",
     "shell.execute_reply": "2022-09-20T12:45:21.303490Z"
    },
    "papermill": {
     "duration": 0.017378,
     "end_time": "2022-09-20T12:45:21.306457",
     "exception": false,
     "start_time": "2022-09-20T12:45:21.289079",
     "status": "completed"
    },
    "tags": []
   },
   "outputs": [],
   "source": [
    "def bag(model):\n",
    "    bag_model = BaggingClassifier(\n",
    "    base_estimator=model, \n",
    "    n_estimators=100, \n",
    "    max_samples=0.8, \n",
    "    oob_score=True,\n",
    "    random_state=0\n",
    "    )\n",
    "    scores = cross_val_score(bag_model, X, y, cv=5)\n",
    "    return(scores.mean())"
   ]
  },
  {
   "cell_type": "code",
   "execution_count": 14,
   "id": "f261fd90",
   "metadata": {
    "execution": {
     "iopub.execute_input": "2022-09-20T12:45:21.324504Z",
     "iopub.status.busy": "2022-09-20T12:45:21.323807Z",
     "iopub.status.idle": "2022-09-20T12:45:21.880993Z",
     "shell.execute_reply": "2022-09-20T12:45:21.880125Z"
    },
    "papermill": {
     "duration": 0.569065,
     "end_time": "2022-09-20T12:45:21.883499",
     "exception": false,
     "start_time": "2022-09-20T12:45:21.314434",
     "status": "completed"
    },
    "tags": []
   },
   "outputs": [
    {
     "data": {
      "text/plain": [
       "0.7604617604617605"
      ]
     },
     "execution_count": 14,
     "metadata": {},
     "output_type": "execute_result"
    }
   ],
   "source": [
    "from sklearn.ensemble import RandomForestClassifier\n",
    "\n",
    "scores = cross_val_score(RandomForestClassifier(n_estimators=50), X, y, cv=5)\n",
    "scores.mean()"
   ]
  },
  {
   "cell_type": "code",
   "execution_count": 15,
   "id": "632dbe89",
   "metadata": {
    "execution": {
     "iopub.execute_input": "2022-09-20T12:45:21.902115Z",
     "iopub.status.busy": "2022-09-20T12:45:21.901429Z",
     "iopub.status.idle": "2022-09-20T12:45:31.358767Z",
     "shell.execute_reply": "2022-09-20T12:45:31.357681Z"
    },
    "papermill": {
     "duration": 9.469737,
     "end_time": "2022-09-20T12:45:31.361299",
     "exception": false,
     "start_time": "2022-09-20T12:45:21.891562",
     "status": "completed"
    },
    "tags": []
   },
   "outputs": [
    {
     "data": {
      "text/plain": [
       "0.7734997029114675"
      ]
     },
     "execution_count": 15,
     "metadata": {},
     "output_type": "execute_result"
    }
   ],
   "source": [
    "from sklearn.pipeline import make_pipeline\n",
    "from sklearn.preprocessing import StandardScaler\n",
    "\n",
    "from sklearn.svm import SVC\n",
    "clf = make_pipeline(StandardScaler(), SVC(gamma='auto'))\n",
    "bag(clf)"
   ]
  },
  {
   "cell_type": "code",
   "execution_count": 16,
   "id": "fb6b2dd3",
   "metadata": {
    "execution": {
     "iopub.execute_input": "2022-09-20T12:45:31.379737Z",
     "iopub.status.busy": "2022-09-20T12:45:31.378982Z",
     "iopub.status.idle": "2022-09-20T12:45:50.337713Z",
     "shell.execute_reply": "2022-09-20T12:45:50.336694Z"
    },
    "papermill": {
     "duration": 18.970689,
     "end_time": "2022-09-20T12:45:50.340098",
     "exception": false,
     "start_time": "2022-09-20T12:45:31.369409",
     "status": "completed"
    },
    "tags": []
   },
   "outputs": [
    {
     "data": {
      "text/plain": [
       "0.7721840251252015"
      ]
     },
     "execution_count": 16,
     "metadata": {},
     "output_type": "execute_result"
    }
   ],
   "source": [
    "from sklearn.linear_model import LogisticRegression\n",
    "model=LogisticRegression(max_iter=1000)\n",
    "bag(model)"
   ]
  },
  {
   "cell_type": "code",
   "execution_count": 17,
   "id": "874a7086",
   "metadata": {
    "execution": {
     "iopub.execute_input": "2022-09-20T12:45:50.359028Z",
     "iopub.status.busy": "2022-09-20T12:45:50.357915Z",
     "iopub.status.idle": "2022-09-20T12:45:54.271777Z",
     "shell.execute_reply": "2022-09-20T12:45:54.270748Z"
    },
    "papermill": {
     "duration": 3.926008,
     "end_time": "2022-09-20T12:45:54.274294",
     "exception": false,
     "start_time": "2022-09-20T12:45:50.348286",
     "status": "completed"
    },
    "tags": []
   },
   "outputs": [
    {
     "data": {
      "text/plain": [
       "0.7434767846532553"
      ]
     },
     "execution_count": 17,
     "metadata": {},
     "output_type": "execute_result"
    }
   ],
   "source": [
    "from sklearn.pipeline import make_pipeline\n",
    "from sklearn.neighbors import KNeighborsClassifier\n",
    "knn=KNeighborsClassifier(n_neighbors=3)\n",
    "model = make_pipeline(StandardScaler(), knn)\n",
    "bag(model)"
   ]
  }
 ],
 "metadata": {
  "kernelspec": {
   "display_name": "Python 3",
   "language": "python",
   "name": "python3"
  },
  "language_info": {
   "codemirror_mode": {
    "name": "ipython",
    "version": 3
   },
   "file_extension": ".py",
   "mimetype": "text/x-python",
   "name": "python",
   "nbconvert_exporter": "python",
   "pygments_lexer": "ipython3",
   "version": "3.7.12"
  },
  "papermill": {
   "default_parameters": {},
   "duration": 45.669023,
   "end_time": "2022-09-20T12:45:55.004632",
   "environment_variables": {},
   "exception": null,
   "input_path": "__notebook__.ipynb",
   "output_path": "__notebook__.ipynb",
   "parameters": {},
   "start_time": "2022-09-20T12:45:09.335609",
   "version": "2.3.4"
  }
 },
 "nbformat": 4,
 "nbformat_minor": 5
}

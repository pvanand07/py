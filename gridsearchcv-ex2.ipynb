{
 "cells": [
  {
   "cell_type": "raw",
   "id": "cfd93701",
   "metadata": {
    "papermill": {
     "duration": 0.003465,
     "end_time": "2022-09-18T17:05:35.141291",
     "exception": false,
     "start_time": "2022-09-18T17:05:35.137826",
     "status": "completed"
    },
    "tags": []
   },
   "source": []
  },
  {
   "cell_type": "code",
   "execution_count": 1,
   "id": "fa86efde",
   "metadata": {
    "_cell_guid": "b1076dfc-b9ad-4769-8c92-a6c4dae69d19",
    "_uuid": "8f2839f25d086af736a60e9eeb907d3b93b6e0e5",
    "execution": {
     "iopub.execute_input": "2022-09-18T17:05:35.147836Z",
     "iopub.status.busy": "2022-09-18T17:05:35.147346Z",
     "iopub.status.idle": "2022-09-18T17:05:36.666449Z",
     "shell.execute_reply": "2022-09-18T17:05:36.665117Z"
    },
    "papermill": {
     "duration": 1.526351,
     "end_time": "2022-09-18T17:05:36.670024",
     "exception": false,
     "start_time": "2022-09-18T17:05:35.143673",
     "status": "completed"
    },
    "tags": []
   },
   "outputs": [],
   "source": [
    "# This Python 3 environment comes with many helpful analytics libraries installed\n",
    "# It is defined by the kaggle/python Docker image: https://github.com/kaggle/docker-python\n",
    "# For example, here's several helpful packages to load\n",
    "\n",
    "import numpy as np # linear algebra\n",
    "import pandas as pd # data processing, CSV file I/O (e.g. pd.read_csv)\n",
    "from sklearn import svm\n",
    "from sklearn.ensemble import RandomForestClassifier\n",
    "from sklearn.linear_model import LogisticRegression\n",
    "from sklearn.naive_bayes import GaussianNB\n",
    "from sklearn.naive_bayes import MultinomialNB\n",
    "from sklearn.tree import DecisionTreeClassifier\n",
    "from sklearn import datasets,svm\n",
    "iris=datasets.load_iris()\n",
    "# Input data files are available in the read-only \"../input/\" directory\n",
    "# For example, running this (by clicking run or pressing Shift+Enter) will list all files under the input directory\n",
    "\n",
    "import os\n",
    "for dirname, _, filenames in os.walk('/kaggle/input'):\n",
    "    for filename in filenames:\n",
    "        print(os.path.join(dirname, filename))\n",
    "\n",
    "# You can write up to 20GB to the current directory (/kaggle/working/) that gets preserved as output when you create a version using \"Save & Run All\" \n",
    "# You can also write temporary files to /kaggle/temp/, but they won't be saved outside of the current session"
   ]
  },
  {
   "cell_type": "code",
   "execution_count": 2,
   "id": "87c1b1a9",
   "metadata": {
    "execution": {
     "iopub.execute_input": "2022-09-18T17:05:36.681588Z",
     "iopub.status.busy": "2022-09-18T17:05:36.680130Z",
     "iopub.status.idle": "2022-09-18T17:05:36.693212Z",
     "shell.execute_reply": "2022-09-18T17:05:36.691702Z"
    },
    "papermill": {
     "duration": 0.019784,
     "end_time": "2022-09-18T17:05:36.695583",
     "exception": false,
     "start_time": "2022-09-18T17:05:36.675799",
     "status": "completed"
    },
    "tags": []
   },
   "outputs": [
    {
     "data": {
      "text/plain": [
       "{'C': array([1.00000000e-04, 2.63665090e-04, 6.95192796e-04, 1.83298071e-03,\n",
       "        4.83293024e-03, 1.27427499e-02, 3.35981829e-02, 8.85866790e-02,\n",
       "        2.33572147e-01, 6.15848211e-01, 1.62377674e+00, 4.28133240e+00,\n",
       "        1.12883789e+01, 2.97635144e+01, 7.84759970e+01, 2.06913808e+02,\n",
       "        5.45559478e+02, 1.43844989e+03, 3.79269019e+03, 1.00000000e+04]),\n",
       " 'solver': ['lbfgs', 'newton-cg', 'liblinear', 'sag', 'saga'],\n",
       " 'max_iter': [100, 1000, 2500, 5000]}"
      ]
     },
     "execution_count": 2,
     "metadata": {},
     "output_type": "execute_result"
    }
   ],
   "source": [
    "model_param=[{\n",
    "    'C' : np.logspace(-4, 4, 20),\n",
    "    'solver' : ['lbfgs','newton-cg','liblinear','sag','saga'],\n",
    "    'max_iter' : [100, 1000,2500, 5000]},\n",
    "#'svcparam':{'kernel' : ['poly', 'rbf', 'sigmoid'],'C' : [50, 10, 1.0, 0.1, 0.01],'gamma' : ['scale']},\n",
    "{'n_estimators' : [10, 100, 1000],'max_features' : ['sqrt', 'log2']}]\n",
    "\n",
    "model_param[0]"
   ]
  },
  {
   "cell_type": "code",
   "execution_count": 3,
   "id": "f874f48e",
   "metadata": {
    "execution": {
     "iopub.execute_input": "2022-09-18T17:05:36.701952Z",
     "iopub.status.busy": "2022-09-18T17:05:36.701523Z",
     "iopub.status.idle": "2022-09-18T17:05:45.213787Z",
     "shell.execute_reply": "2022-09-18T17:05:45.212575Z"
    },
    "papermill": {
     "duration": 8.518122,
     "end_time": "2022-09-18T17:05:45.216162",
     "exception": false,
     "start_time": "2022-09-18T17:05:36.698040",
     "status": "completed"
    },
    "tags": []
   },
   "outputs": [
    {
     "name": "stdout",
     "output_type": "stream",
     "text": [
      "{'solver': 'newton-cg', 'max_iter': 2500, 'C': 29.763514416313132}\n",
      "0.9800000000000001\n",
      "{'n_estimators': 100, 'max_features': 'log2'}\n",
      "0.9666666666666668\n"
     ]
    }
   ],
   "source": [
    "from sklearn.model_selection import RandomizedSearchCV\n",
    "i=0\n",
    "for model in [LogisticRegression(),RandomForestClassifier()]: \n",
    "    clf=RandomizedSearchCV(model,model_param[i],cv=5,return_train_score=False,n_iter=3)\n",
    "    clf.fit(iris.data,iris.target)\n",
    "    i+=1\n",
    "    print(clf.best_params_)\n",
    "    print(clf.best_score_)"
   ]
  }
 ],
 "metadata": {
  "kernelspec": {
   "display_name": "Python 3",
   "language": "python",
   "name": "python3"
  },
  "language_info": {
   "codemirror_mode": {
    "name": "ipython",
    "version": 3
   },
   "file_extension": ".py",
   "mimetype": "text/x-python",
   "name": "python",
   "nbconvert_exporter": "python",
   "pygments_lexer": "ipython3",
   "version": "3.7.12"
  },
  "papermill": {
   "default_parameters": {},
   "duration": 22.591729,
   "end_time": "2022-09-18T17:05:46.345029",
   "environment_variables": {},
   "exception": null,
   "input_path": "__notebook__.ipynb",
   "output_path": "__notebook__.ipynb",
   "parameters": {},
   "start_time": "2022-09-18T17:05:23.753300",
   "version": "2.3.4"
  }
 },
 "nbformat": 4,
 "nbformat_minor": 5
}

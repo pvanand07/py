{
 "cells": [
  {
   "cell_type": "code",
   "execution_count": 1,
   "id": "e7d617e0",
   "metadata": {
    "execution": {
     "iopub.execute_input": "2022-09-12T16:48:40.395172Z",
     "iopub.status.busy": "2022-09-12T16:48:40.394674Z",
     "iopub.status.idle": "2022-09-12T16:48:40.406074Z",
     "shell.execute_reply": "2022-09-12T16:48:40.405208Z"
    },
    "papermill": {
     "duration": 0.019133,
     "end_time": "2022-09-12T16:48:40.408364",
     "exception": false,
     "start_time": "2022-09-12T16:48:40.389231",
     "status": "completed"
    },
    "tags": []
   },
   "outputs": [],
   "source": [
    "import pandas as pd\n",
    "import matplotlib.pyplot as plt"
   ]
  },
  {
   "cell_type": "code",
   "execution_count": 2,
   "id": "fd6da18a",
   "metadata": {
    "execution": {
     "iopub.execute_input": "2022-09-12T16:48:40.415725Z",
     "iopub.status.busy": "2022-09-12T16:48:40.415354Z",
     "iopub.status.idle": "2022-09-12T16:48:40.457404Z",
     "shell.execute_reply": "2022-09-12T16:48:40.456435Z"
    },
    "papermill": {
     "duration": 0.048243,
     "end_time": "2022-09-12T16:48:40.459592",
     "exception": false,
     "start_time": "2022-09-12T16:48:40.411349",
     "status": "completed"
    },
    "tags": []
   },
   "outputs": [
    {
     "data": {
      "text/html": [
       "<div>\n",
       "<style scoped>\n",
       "    .dataframe tbody tr th:only-of-type {\n",
       "        vertical-align: middle;\n",
       "    }\n",
       "\n",
       "    .dataframe tbody tr th {\n",
       "        vertical-align: top;\n",
       "    }\n",
       "\n",
       "    .dataframe thead th {\n",
       "        text-align: right;\n",
       "    }\n",
       "</style>\n",
       "<table border=\"1\" class=\"dataframe\">\n",
       "  <thead>\n",
       "    <tr style=\"text-align: right;\">\n",
       "      <th></th>\n",
       "      <th>sepal_length</th>\n",
       "      <th>sepal_width</th>\n",
       "      <th>petal_length</th>\n",
       "      <th>petal_width</th>\n",
       "      <th>species</th>\n",
       "    </tr>\n",
       "  </thead>\n",
       "  <tbody>\n",
       "    <tr>\n",
       "      <th>0</th>\n",
       "      <td>5.1</td>\n",
       "      <td>3.5</td>\n",
       "      <td>1.4</td>\n",
       "      <td>0.2</td>\n",
       "      <td>Iris-setosa</td>\n",
       "    </tr>\n",
       "    <tr>\n",
       "      <th>1</th>\n",
       "      <td>4.9</td>\n",
       "      <td>3.0</td>\n",
       "      <td>1.4</td>\n",
       "      <td>0.2</td>\n",
       "      <td>Iris-setosa</td>\n",
       "    </tr>\n",
       "    <tr>\n",
       "      <th>2</th>\n",
       "      <td>4.7</td>\n",
       "      <td>3.2</td>\n",
       "      <td>1.3</td>\n",
       "      <td>0.2</td>\n",
       "      <td>Iris-setosa</td>\n",
       "    </tr>\n",
       "    <tr>\n",
       "      <th>3</th>\n",
       "      <td>4.6</td>\n",
       "      <td>3.1</td>\n",
       "      <td>1.5</td>\n",
       "      <td>0.2</td>\n",
       "      <td>Iris-setosa</td>\n",
       "    </tr>\n",
       "    <tr>\n",
       "      <th>4</th>\n",
       "      <td>5.0</td>\n",
       "      <td>3.6</td>\n",
       "      <td>1.4</td>\n",
       "      <td>0.2</td>\n",
       "      <td>Iris-setosa</td>\n",
       "    </tr>\n",
       "    <tr>\n",
       "      <th>...</th>\n",
       "      <td>...</td>\n",
       "      <td>...</td>\n",
       "      <td>...</td>\n",
       "      <td>...</td>\n",
       "      <td>...</td>\n",
       "    </tr>\n",
       "    <tr>\n",
       "      <th>145</th>\n",
       "      <td>6.7</td>\n",
       "      <td>3.0</td>\n",
       "      <td>5.2</td>\n",
       "      <td>2.3</td>\n",
       "      <td>Iris-virginica</td>\n",
       "    </tr>\n",
       "    <tr>\n",
       "      <th>146</th>\n",
       "      <td>6.3</td>\n",
       "      <td>2.5</td>\n",
       "      <td>5.0</td>\n",
       "      <td>1.9</td>\n",
       "      <td>Iris-virginica</td>\n",
       "    </tr>\n",
       "    <tr>\n",
       "      <th>147</th>\n",
       "      <td>6.5</td>\n",
       "      <td>3.0</td>\n",
       "      <td>5.2</td>\n",
       "      <td>2.0</td>\n",
       "      <td>Iris-virginica</td>\n",
       "    </tr>\n",
       "    <tr>\n",
       "      <th>148</th>\n",
       "      <td>6.2</td>\n",
       "      <td>3.4</td>\n",
       "      <td>5.4</td>\n",
       "      <td>2.3</td>\n",
       "      <td>Iris-virginica</td>\n",
       "    </tr>\n",
       "    <tr>\n",
       "      <th>149</th>\n",
       "      <td>5.9</td>\n",
       "      <td>3.0</td>\n",
       "      <td>5.1</td>\n",
       "      <td>1.8</td>\n",
       "      <td>Iris-virginica</td>\n",
       "    </tr>\n",
       "  </tbody>\n",
       "</table>\n",
       "<p>150 rows × 5 columns</p>\n",
       "</div>"
      ],
      "text/plain": [
       "     sepal_length  sepal_width  petal_length  petal_width         species\n",
       "0             5.1          3.5           1.4          0.2     Iris-setosa\n",
       "1             4.9          3.0           1.4          0.2     Iris-setosa\n",
       "2             4.7          3.2           1.3          0.2     Iris-setosa\n",
       "3             4.6          3.1           1.5          0.2     Iris-setosa\n",
       "4             5.0          3.6           1.4          0.2     Iris-setosa\n",
       "..            ...          ...           ...          ...             ...\n",
       "145           6.7          3.0           5.2          2.3  Iris-virginica\n",
       "146           6.3          2.5           5.0          1.9  Iris-virginica\n",
       "147           6.5          3.0           5.2          2.0  Iris-virginica\n",
       "148           6.2          3.4           5.4          2.3  Iris-virginica\n",
       "149           5.9          3.0           5.1          1.8  Iris-virginica\n",
       "\n",
       "[150 rows x 5 columns]"
      ]
     },
     "execution_count": 2,
     "metadata": {},
     "output_type": "execute_result"
    }
   ],
   "source": [
    "df=pd.read_csv('../input/iris-flower-dataset/IRIS.csv')\n",
    "df"
   ]
  },
  {
   "cell_type": "code",
   "execution_count": 3,
   "id": "44ee827d",
   "metadata": {
    "execution": {
     "iopub.execute_input": "2022-09-12T16:48:40.467585Z",
     "iopub.status.busy": "2022-09-12T16:48:40.466657Z",
     "iopub.status.idle": "2022-09-12T16:48:41.651660Z",
     "shell.execute_reply": "2022-09-12T16:48:41.650306Z"
    },
    "papermill": {
     "duration": 1.191676,
     "end_time": "2022-09-12T16:48:41.654301",
     "exception": false,
     "start_time": "2022-09-12T16:48:40.462625",
     "status": "completed"
    },
    "tags": []
   },
   "outputs": [
    {
     "name": "stdout",
     "output_type": "stream",
     "text": [
      "4\n"
     ]
    },
    {
     "data": {
      "image/png": "[encoded data removed]",
      "text/plain": [
       "<Figure size 432x288 with 1 Axes>"
      ]
     },
     "metadata": {
      "needs_background": "light"
     },
     "output_type": "display_data"
    },
    {
     "data": {
      "image/png": "[encoded data removed]",
      "text/plain": [
       "<Figure size 432x288 with 1 Axes>"
      ]
     },
     "metadata": {
      "needs_background": "light"
     },
     "output_type": "display_data"
    },
    {
     "data": {
      "image/png": "[encoded data removed]",
      "text/plain": [
       "<Figure size 432x288 with 1 Axes>"
      ]
     },
     "metadata": {
      "needs_background": "light"
     },
     "output_type": "display_data"
    },
    {
     "data": {
      "image/png": "[encoded data removed]",
      "text/plain": [
       "<Figure size 432x288 with 1 Axes>"
      ]
     },
     "metadata": {
      "needs_background": "light"
     },
     "output_type": "display_data"
    },
    {
     "data": {
      "image/png": "[encoded data removed]",
      "text/plain": [
       "<Figure size 432x288 with 1 Axes>"
      ]
     },
     "metadata": {
      "needs_background": "light"
     },
     "output_type": "display_data"
    },
    {
     "data": {
      "image/png": "[encoded data removed]",
      "text/plain": [
       "<Figure size 432x288 with 1 Axes>"
      ]
     },
     "metadata": {
      "needs_background": "light"
     },
     "output_type": "display_data"
    }
   ],
   "source": [
    "df.species.nunique()\n",
    "#plt.scatter()\n",
    "l=len(list(df.columns))-1\n",
    "print(l)\n",
    "#https://www.geeksforgeeks.org/print-all-possible-combinations-of-r-elements-in-a-given-array-of-size-n/\n",
    "for i in range(l-1):\n",
    "    for j in range(i+1,l,1):\n",
    "        plt.scatter(df.iloc[:,i],df.iloc[:,j])\n",
    "        plt.xlabel(list(df.columns)[i])\n",
    "        plt.ylabel(list(df.columns)[j])\n",
    "        plt.show()"
   ]
  },
  {
   "cell_type": "code",
   "execution_count": 4,
   "id": "bd97f867",
   "metadata": {
    "execution": {
     "iopub.execute_input": "2022-09-12T16:48:41.665947Z",
     "iopub.status.busy": "2022-09-12T16:48:41.665554Z",
     "iopub.status.idle": "2022-09-12T16:48:43.121819Z",
     "shell.execute_reply": "2022-09-12T16:48:43.120382Z"
    },
    "papermill": {
     "duration": 1.46565,
     "end_time": "2022-09-12T16:48:43.125275",
     "exception": false,
     "start_time": "2022-09-12T16:48:41.659625",
     "status": "completed"
    },
    "tags": []
   },
   "outputs": [],
   "source": [
    "from pandas import get_dummies\n",
    "from sklearn.linear_model import LogisticRegression\n",
    "model = LogisticRegression()\n",
    "from sklearn.model_selection import train_test_split"
   ]
  },
  {
   "cell_type": "code",
   "execution_count": 5,
   "id": "87a05797",
   "metadata": {
    "execution": {
     "iopub.execute_input": "2022-09-12T16:48:43.138386Z",
     "iopub.status.busy": "2022-09-12T16:48:43.137662Z",
     "iopub.status.idle": "2022-09-12T16:48:43.146511Z",
     "shell.execute_reply": "2022-09-12T16:48:43.145266Z"
    },
    "papermill": {
     "duration": 0.017864,
     "end_time": "2022-09-12T16:48:43.149031",
     "exception": false,
     "start_time": "2022-09-12T16:48:43.131167",
     "status": "completed"
    },
    "tags": []
   },
   "outputs": [],
   "source": [
    "#dummies=get_dummies(df['species'])\n",
    "#df2=pd.concat([df,dummies],axis='columns')\n",
    "df2=df.drop(['species'],axis='columns')"
   ]
  },
  {
   "cell_type": "code",
   "execution_count": 6,
   "id": "1295e593",
   "metadata": {
    "execution": {
     "iopub.execute_input": "2022-09-12T16:48:43.161987Z",
     "iopub.status.busy": "2022-09-12T16:48:43.161077Z",
     "iopub.status.idle": "2022-09-12T16:48:43.211123Z",
     "shell.execute_reply": "2022-09-12T16:48:43.209375Z"
    },
    "papermill": {
     "duration": 0.059196,
     "end_time": "2022-09-12T16:48:43.213795",
     "exception": false,
     "start_time": "2022-09-12T16:48:43.154599",
     "status": "completed"
    },
    "tags": []
   },
   "outputs": [
    {
     "name": "stderr",
     "output_type": "stream",
     "text": [
      "/opt/conda/lib/python3.7/site-packages/sklearn/base.py:451: UserWarning: X does not have valid feature names, but LogisticRegression was fitted with feature names\n",
      "  \"X does not have valid feature names, but\"\n"
     ]
    },
    {
     "data": {
      "text/plain": [
       "array(['Iris-setosa'], dtype=object)"
      ]
     },
     "execution_count": 6,
     "metadata": {},
     "output_type": "execute_result"
    }
   ],
   "source": [
    "\n",
    "X_train, X_test, y_train, y_test = train_test_split(df2,df.species, test_size=0.2)\n",
    "model.fit(X_train, y_train)\n",
    "model.score(X_test, y_test)\n",
    "model.predict([[4.6,3.1,1.5,0.2]])"
   ]
  },
  {
   "cell_type": "code",
   "execution_count": null,
   "id": "8de4a7a4",
   "metadata": {
    "papermill": {
     "duration": 0.004573,
     "end_time": "2022-09-12T16:48:43.223096",
     "exception": false,
     "start_time": "2022-09-12T16:48:43.218523",
     "status": "completed"
    },
    "tags": []
   },
   "outputs": [],
   "source": []
  }
 ],
 "metadata": {
  "kernelspec": {
   "display_name": "Python 3",
   "language": "python",
   "name": "python3"
  },
  "language_info": {
   "codemirror_mode": {
    "name": "ipython",
    "version": 3
   },
   "file_extension": ".py",
   "mimetype": "text/x-python",
   "name": "python",
   "nbconvert_exporter": "python",
   "pygments_lexer": "ipython3",
   "version": "3.7.12"
  },
  "papermill": {
   "default_parameters": {},
   "duration": 12.940791,
   "end_time": "2022-09-12T16:48:43.950084",
   "environment_variables": {},
   "exception": null,
   "input_path": "__notebook__.ipynb",
   "output_path": "__notebook__.ipynb",
   "parameters": {},
   "start_time": "2022-09-12T16:48:31.009293",
   "version": "2.3.4"
  }
 },
 "nbformat": 4,
 "nbformat_minor": 5
}

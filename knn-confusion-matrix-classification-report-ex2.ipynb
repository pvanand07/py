{
 "cells": [
  {
   "cell_type": "markdown",
   "id": "d5ac9293",
   "metadata": {
    "papermill": {
     "duration": 0.006137,
     "end_time": "2022-09-20T10:51:06.291449",
     "exception": false,
     "start_time": "2022-09-20T10:51:06.285312",
     "status": "completed"
    },
    "tags": []
   },
   "source": [
    "<h2 style='color:blue' align=\"center\">KNN (K Nearest Neighbors) Classification: Machine Tutorial Using Python Sklearn EX2</h2>"
   ]
  },
  {
   "cell_type": "code",
   "execution_count": 1,
   "id": "21eba770",
   "metadata": {
    "execution": {
     "iopub.execute_input": "2022-09-20T10:51:06.304179Z",
     "iopub.status.busy": "2022-09-20T10:51:06.303236Z",
     "iopub.status.idle": "2022-09-20T10:51:07.499640Z",
     "shell.execute_reply": "2022-09-20T10:51:07.497673Z"
    },
    "papermill": {
     "duration": 1.205994,
     "end_time": "2022-09-20T10:51:07.502679",
     "exception": false,
     "start_time": "2022-09-20T10:51:06.296685",
     "status": "completed"
    },
    "tags": []
   },
   "outputs": [],
   "source": [
    "import pandas as pd\n",
    "from sklearn.datasets import load_digits"
   ]
  },
  {
   "cell_type": "code",
   "execution_count": 2,
   "id": "02fcd226",
   "metadata": {
    "execution": {
     "iopub.execute_input": "2022-09-20T10:51:07.521599Z",
     "iopub.status.busy": "2022-09-20T10:51:07.520596Z",
     "iopub.status.idle": "2022-09-20T10:51:07.690157Z",
     "shell.execute_reply": "2022-09-20T10:51:07.689311Z"
    },
    "papermill": {
     "duration": 0.182991,
     "end_time": "2022-09-20T10:51:07.692884",
     "exception": false,
     "start_time": "2022-09-20T10:51:07.509893",
     "status": "completed"
    },
    "tags": []
   },
   "outputs": [
    {
     "data": {
      "text/html": [
       "<div>\n",
       "<style scoped>\n",
       "    .dataframe tbody tr th:only-of-type {\n",
       "        vertical-align: middle;\n",
       "    }\n",
       "\n",
       "    .dataframe tbody tr th {\n",
       "        vertical-align: top;\n",
       "    }\n",
       "\n",
       "    .dataframe thead th {\n",
       "        text-align: right;\n",
       "    }\n",
       "</style>\n",
       "<table border=\"1\" class=\"dataframe\">\n",
       "  <thead>\n",
       "    <tr style=\"text-align: right;\">\n",
       "      <th></th>\n",
       "      <th>pixel_0_0</th>\n",
       "      <th>pixel_0_1</th>\n",
       "      <th>pixel_0_2</th>\n",
       "      <th>pixel_0_3</th>\n",
       "      <th>pixel_0_4</th>\n",
       "      <th>pixel_0_5</th>\n",
       "      <th>pixel_0_6</th>\n",
       "      <th>pixel_0_7</th>\n",
       "      <th>pixel_1_0</th>\n",
       "      <th>pixel_1_1</th>\n",
       "      <th>...</th>\n",
       "      <th>pixel_6_7</th>\n",
       "      <th>pixel_7_0</th>\n",
       "      <th>pixel_7_1</th>\n",
       "      <th>pixel_7_2</th>\n",
       "      <th>pixel_7_3</th>\n",
       "      <th>pixel_7_4</th>\n",
       "      <th>pixel_7_5</th>\n",
       "      <th>pixel_7_6</th>\n",
       "      <th>pixel_7_7</th>\n",
       "      <th>target</th>\n",
       "    </tr>\n",
       "  </thead>\n",
       "  <tbody>\n",
       "    <tr>\n",
       "      <th>0</th>\n",
       "      <td>0.0</td>\n",
       "      <td>0.0</td>\n",
       "      <td>5.0</td>\n",
       "      <td>13.0</td>\n",
       "      <td>9.0</td>\n",
       "      <td>1.0</td>\n",
       "      <td>0.0</td>\n",
       "      <td>0.0</td>\n",
       "      <td>0.0</td>\n",
       "      <td>0.0</td>\n",
       "      <td>...</td>\n",
       "      <td>0.0</td>\n",
       "      <td>0.0</td>\n",
       "      <td>0.0</td>\n",
       "      <td>6.0</td>\n",
       "      <td>13.0</td>\n",
       "      <td>10.0</td>\n",
       "      <td>0.0</td>\n",
       "      <td>0.0</td>\n",
       "      <td>0.0</td>\n",
       "      <td>0</td>\n",
       "    </tr>\n",
       "    <tr>\n",
       "      <th>1</th>\n",
       "      <td>0.0</td>\n",
       "      <td>0.0</td>\n",
       "      <td>0.0</td>\n",
       "      <td>12.0</td>\n",
       "      <td>13.0</td>\n",
       "      <td>5.0</td>\n",
       "      <td>0.0</td>\n",
       "      <td>0.0</td>\n",
       "      <td>0.0</td>\n",
       "      <td>0.0</td>\n",
       "      <td>...</td>\n",
       "      <td>0.0</td>\n",
       "      <td>0.0</td>\n",
       "      <td>0.0</td>\n",
       "      <td>0.0</td>\n",
       "      <td>11.0</td>\n",
       "      <td>16.0</td>\n",
       "      <td>10.0</td>\n",
       "      <td>0.0</td>\n",
       "      <td>0.0</td>\n",
       "      <td>1</td>\n",
       "    </tr>\n",
       "    <tr>\n",
       "      <th>2</th>\n",
       "      <td>0.0</td>\n",
       "      <td>0.0</td>\n",
       "      <td>0.0</td>\n",
       "      <td>4.0</td>\n",
       "      <td>15.0</td>\n",
       "      <td>12.0</td>\n",
       "      <td>0.0</td>\n",
       "      <td>0.0</td>\n",
       "      <td>0.0</td>\n",
       "      <td>0.0</td>\n",
       "      <td>...</td>\n",
       "      <td>0.0</td>\n",
       "      <td>0.0</td>\n",
       "      <td>0.0</td>\n",
       "      <td>0.0</td>\n",
       "      <td>3.0</td>\n",
       "      <td>11.0</td>\n",
       "      <td>16.0</td>\n",
       "      <td>9.0</td>\n",
       "      <td>0.0</td>\n",
       "      <td>2</td>\n",
       "    </tr>\n",
       "    <tr>\n",
       "      <th>3</th>\n",
       "      <td>0.0</td>\n",
       "      <td>0.0</td>\n",
       "      <td>7.0</td>\n",
       "      <td>15.0</td>\n",
       "      <td>13.0</td>\n",
       "      <td>1.0</td>\n",
       "      <td>0.0</td>\n",
       "      <td>0.0</td>\n",
       "      <td>0.0</td>\n",
       "      <td>8.0</td>\n",
       "      <td>...</td>\n",
       "      <td>0.0</td>\n",
       "      <td>0.0</td>\n",
       "      <td>0.0</td>\n",
       "      <td>7.0</td>\n",
       "      <td>13.0</td>\n",
       "      <td>13.0</td>\n",
       "      <td>9.0</td>\n",
       "      <td>0.0</td>\n",
       "      <td>0.0</td>\n",
       "      <td>3</td>\n",
       "    </tr>\n",
       "    <tr>\n",
       "      <th>4</th>\n",
       "      <td>0.0</td>\n",
       "      <td>0.0</td>\n",
       "      <td>0.0</td>\n",
       "      <td>1.0</td>\n",
       "      <td>11.0</td>\n",
       "      <td>0.0</td>\n",
       "      <td>0.0</td>\n",
       "      <td>0.0</td>\n",
       "      <td>0.0</td>\n",
       "      <td>0.0</td>\n",
       "      <td>...</td>\n",
       "      <td>0.0</td>\n",
       "      <td>0.0</td>\n",
       "      <td>0.0</td>\n",
       "      <td>0.0</td>\n",
       "      <td>2.0</td>\n",
       "      <td>16.0</td>\n",
       "      <td>4.0</td>\n",
       "      <td>0.0</td>\n",
       "      <td>0.0</td>\n",
       "      <td>4</td>\n",
       "    </tr>\n",
       "    <tr>\n",
       "      <th>...</th>\n",
       "      <td>...</td>\n",
       "      <td>...</td>\n",
       "      <td>...</td>\n",
       "      <td>...</td>\n",
       "      <td>...</td>\n",
       "      <td>...</td>\n",
       "      <td>...</td>\n",
       "      <td>...</td>\n",
       "      <td>...</td>\n",
       "      <td>...</td>\n",
       "      <td>...</td>\n",
       "      <td>...</td>\n",
       "      <td>...</td>\n",
       "      <td>...</td>\n",
       "      <td>...</td>\n",
       "      <td>...</td>\n",
       "      <td>...</td>\n",
       "      <td>...</td>\n",
       "      <td>...</td>\n",
       "      <td>...</td>\n",
       "      <td>...</td>\n",
       "    </tr>\n",
       "    <tr>\n",
       "      <th>1792</th>\n",
       "      <td>0.0</td>\n",
       "      <td>0.0</td>\n",
       "      <td>4.0</td>\n",
       "      <td>10.0</td>\n",
       "      <td>13.0</td>\n",
       "      <td>6.0</td>\n",
       "      <td>0.0</td>\n",
       "      <td>0.0</td>\n",
       "      <td>0.0</td>\n",
       "      <td>1.0</td>\n",
       "      <td>...</td>\n",
       "      <td>0.0</td>\n",
       "      <td>0.0</td>\n",
       "      <td>0.0</td>\n",
       "      <td>2.0</td>\n",
       "      <td>14.0</td>\n",
       "      <td>15.0</td>\n",
       "      <td>9.0</td>\n",
       "      <td>0.0</td>\n",
       "      <td>0.0</td>\n",
       "      <td>9</td>\n",
       "    </tr>\n",
       "    <tr>\n",
       "      <th>1793</th>\n",
       "      <td>0.0</td>\n",
       "      <td>0.0</td>\n",
       "      <td>6.0</td>\n",
       "      <td>16.0</td>\n",
       "      <td>13.0</td>\n",
       "      <td>11.0</td>\n",
       "      <td>1.0</td>\n",
       "      <td>0.0</td>\n",
       "      <td>0.0</td>\n",
       "      <td>0.0</td>\n",
       "      <td>...</td>\n",
       "      <td>0.0</td>\n",
       "      <td>0.0</td>\n",
       "      <td>0.0</td>\n",
       "      <td>6.0</td>\n",
       "      <td>16.0</td>\n",
       "      <td>14.0</td>\n",
       "      <td>6.0</td>\n",
       "      <td>0.0</td>\n",
       "      <td>0.0</td>\n",
       "      <td>0</td>\n",
       "    </tr>\n",
       "    <tr>\n",
       "      <th>1794</th>\n",
       "      <td>0.0</td>\n",
       "      <td>0.0</td>\n",
       "      <td>1.0</td>\n",
       "      <td>11.0</td>\n",
       "      <td>15.0</td>\n",
       "      <td>1.0</td>\n",
       "      <td>0.0</td>\n",
       "      <td>0.0</td>\n",
       "      <td>0.0</td>\n",
       "      <td>0.0</td>\n",
       "      <td>...</td>\n",
       "      <td>0.0</td>\n",
       "      <td>0.0</td>\n",
       "      <td>0.0</td>\n",
       "      <td>2.0</td>\n",
       "      <td>9.0</td>\n",
       "      <td>13.0</td>\n",
       "      <td>6.0</td>\n",
       "      <td>0.0</td>\n",
       "      <td>0.0</td>\n",
       "      <td>8</td>\n",
       "    </tr>\n",
       "    <tr>\n",
       "      <th>1795</th>\n",
       "      <td>0.0</td>\n",
       "      <td>0.0</td>\n",
       "      <td>2.0</td>\n",
       "      <td>10.0</td>\n",
       "      <td>7.0</td>\n",
       "      <td>0.0</td>\n",
       "      <td>0.0</td>\n",
       "      <td>0.0</td>\n",
       "      <td>0.0</td>\n",
       "      <td>0.0</td>\n",
       "      <td>...</td>\n",
       "      <td>0.0</td>\n",
       "      <td>0.0</td>\n",
       "      <td>0.0</td>\n",
       "      <td>5.0</td>\n",
       "      <td>12.0</td>\n",
       "      <td>16.0</td>\n",
       "      <td>12.0</td>\n",
       "      <td>0.0</td>\n",
       "      <td>0.0</td>\n",
       "      <td>9</td>\n",
       "    </tr>\n",
       "    <tr>\n",
       "      <th>1796</th>\n",
       "      <td>0.0</td>\n",
       "      <td>0.0</td>\n",
       "      <td>10.0</td>\n",
       "      <td>14.0</td>\n",
       "      <td>8.0</td>\n",
       "      <td>1.0</td>\n",
       "      <td>0.0</td>\n",
       "      <td>0.0</td>\n",
       "      <td>0.0</td>\n",
       "      <td>2.0</td>\n",
       "      <td>...</td>\n",
       "      <td>0.0</td>\n",
       "      <td>0.0</td>\n",
       "      <td>1.0</td>\n",
       "      <td>8.0</td>\n",
       "      <td>12.0</td>\n",
       "      <td>14.0</td>\n",
       "      <td>12.0</td>\n",
       "      <td>1.0</td>\n",
       "      <td>0.0</td>\n",
       "      <td>8</td>\n",
       "    </tr>\n",
       "  </tbody>\n",
       "</table>\n",
       "<p>1797 rows × 65 columns</p>\n",
       "</div>"
      ],
      "text/plain": [
       "      pixel_0_0  pixel_0_1  pixel_0_2  pixel_0_3  pixel_0_4  pixel_0_5  \\\n",
       "0           0.0        0.0        5.0       13.0        9.0        1.0   \n",
       "1           0.0        0.0        0.0       12.0       13.0        5.0   \n",
       "2           0.0        0.0        0.0        4.0       15.0       12.0   \n",
       "3           0.0        0.0        7.0       15.0       13.0        1.0   \n",
       "4           0.0        0.0        0.0        1.0       11.0        0.0   \n",
       "...         ...        ...        ...        ...        ...        ...   \n",
       "1792        0.0        0.0        4.0       10.0       13.0        6.0   \n",
       "1793        0.0        0.0        6.0       16.0       13.0       11.0   \n",
       "1794        0.0        0.0        1.0       11.0       15.0        1.0   \n",
       "1795        0.0        0.0        2.0       10.0        7.0        0.0   \n",
       "1796        0.0        0.0       10.0       14.0        8.0        1.0   \n",
       "\n",
       "      pixel_0_6  pixel_0_7  pixel_1_0  pixel_1_1  ...  pixel_6_7  pixel_7_0  \\\n",
       "0           0.0        0.0        0.0        0.0  ...        0.0        0.0   \n",
       "1           0.0        0.0        0.0        0.0  ...        0.0        0.0   \n",
       "2           0.0        0.0        0.0        0.0  ...        0.0        0.0   \n",
       "3           0.0        0.0        0.0        8.0  ...        0.0        0.0   \n",
       "4           0.0        0.0        0.0        0.0  ...        0.0        0.0   \n",
       "...         ...        ...        ...        ...  ...        ...        ...   \n",
       "1792        0.0        0.0        0.0        1.0  ...        0.0        0.0   \n",
       "1793        1.0        0.0        0.0        0.0  ...        0.0        0.0   \n",
       "1794        0.0        0.0        0.0        0.0  ...        0.0        0.0   \n",
       "1795        0.0        0.0        0.0        0.0  ...        0.0        0.0   \n",
       "1796        0.0        0.0        0.0        2.0  ...        0.0        0.0   \n",
       "\n",
       "      pixel_7_1  pixel_7_2  pixel_7_3  pixel_7_4  pixel_7_5  pixel_7_6  \\\n",
       "0           0.0        6.0       13.0       10.0        0.0        0.0   \n",
       "1           0.0        0.0       11.0       16.0       10.0        0.0   \n",
       "2           0.0        0.0        3.0       11.0       16.0        9.0   \n",
       "3           0.0        7.0       13.0       13.0        9.0        0.0   \n",
       "4           0.0        0.0        2.0       16.0        4.0        0.0   \n",
       "...         ...        ...        ...        ...        ...        ...   \n",
       "1792        0.0        2.0       14.0       15.0        9.0        0.0   \n",
       "1793        0.0        6.0       16.0       14.0        6.0        0.0   \n",
       "1794        0.0        2.0        9.0       13.0        6.0        0.0   \n",
       "1795        0.0        5.0       12.0       16.0       12.0        0.0   \n",
       "1796        1.0        8.0       12.0       14.0       12.0        1.0   \n",
       "\n",
       "      pixel_7_7  target  \n",
       "0           0.0       0  \n",
       "1           0.0       1  \n",
       "2           0.0       2  \n",
       "3           0.0       3  \n",
       "4           0.0       4  \n",
       "...         ...     ...  \n",
       "1792        0.0       9  \n",
       "1793        0.0       0  \n",
       "1794        0.0       8  \n",
       "1795        0.0       9  \n",
       "1796        0.0       8  \n",
       "\n",
       "[1797 rows x 65 columns]"
      ]
     },
     "execution_count": 2,
     "metadata": {},
     "output_type": "execute_result"
    }
   ],
   "source": [
    "digits=load_digits()\n",
    "df = pd.DataFrame(digits.data,columns=digits.feature_names)\n",
    "df['target']=digits.target\n",
    "df\n"
   ]
  },
  {
   "cell_type": "code",
   "execution_count": 3,
   "id": "be76d5ed",
   "metadata": {
    "execution": {
     "iopub.execute_input": "2022-09-20T10:51:07.706086Z",
     "iopub.status.busy": "2022-09-20T10:51:07.705397Z",
     "iopub.status.idle": "2022-09-20T10:51:07.711130Z",
     "shell.execute_reply": "2022-09-20T10:51:07.710052Z"
    },
    "papermill": {
     "duration": 0.01509,
     "end_time": "2022-09-20T10:51:07.713484",
     "exception": false,
     "start_time": "2022-09-20T10:51:07.698394",
     "status": "completed"
    },
    "tags": []
   },
   "outputs": [],
   "source": [
    "import matplotlib.pyplot as plt\n",
    "%matplotlib inline"
   ]
  },
  {
   "cell_type": "markdown",
   "id": "27a9c056",
   "metadata": {
    "papermill": {
     "duration": 0.00512,
     "end_time": "2022-09-20T10:51:07.724097",
     "exception": false,
     "start_time": "2022-09-20T10:51:07.718977",
     "status": "completed"
    },
    "tags": []
   },
   "source": [
    "**Sepal length vs Sepal Width (Setosa vs Versicolor)**"
   ]
  },
  {
   "cell_type": "markdown",
   "id": "8f4ebb00",
   "metadata": {
    "papermill": {
     "duration": 0.005059,
     "end_time": "2022-09-20T10:51:07.734457",
     "exception": false,
     "start_time": "2022-09-20T10:51:07.729398",
     "status": "completed"
    },
    "tags": []
   },
   "source": [
    "plt.xlabel('Sepal Length')\n",
    "plt.ylabel('Sepal Width')\n",
    "plt.scatter(df0['sepal length (cm)'], df0['sepal width (cm)'],color=\"green\",marker='+')\n",
    "plt.scatter(df1['sepal length (cm)'], df1['sepal width (cm)'],color=\"blue\",marker='.')"
   ]
  },
  {
   "cell_type": "markdown",
   "id": "4df2b83a",
   "metadata": {
    "papermill": {
     "duration": 0.005061,
     "end_time": "2022-09-20T10:51:07.744764",
     "exception": false,
     "start_time": "2022-09-20T10:51:07.739703",
     "status": "completed"
    },
    "tags": []
   },
   "source": [
    "**Petal length vs Pepal Width (Setosa vs Versicolor)**"
   ]
  },
  {
   "cell_type": "markdown",
   "id": "3362545e",
   "metadata": {
    "papermill": {
     "duration": 0.005113,
     "end_time": "2022-09-20T10:51:07.755194",
     "exception": false,
     "start_time": "2022-09-20T10:51:07.750081",
     "status": "completed"
    },
    "tags": []
   },
   "source": [
    "**Train test split**"
   ]
  },
  {
   "cell_type": "code",
   "execution_count": 4,
   "id": "9f2b785b",
   "metadata": {
    "execution": {
     "iopub.execute_input": "2022-09-20T10:51:07.767764Z",
     "iopub.status.busy": "2022-09-20T10:51:07.767353Z",
     "iopub.status.idle": "2022-09-20T10:51:07.824913Z",
     "shell.execute_reply": "2022-09-20T10:51:07.823584Z"
    },
    "papermill": {
     "duration": 0.067172,
     "end_time": "2022-09-20T10:51:07.827691",
     "exception": false,
     "start_time": "2022-09-20T10:51:07.760519",
     "status": "completed"
    },
    "tags": []
   },
   "outputs": [],
   "source": [
    "from sklearn.model_selection import train_test_split"
   ]
  },
  {
   "cell_type": "code",
   "execution_count": 5,
   "id": "1b54f1f6",
   "metadata": {
    "execution": {
     "iopub.execute_input": "2022-09-20T10:51:07.840959Z",
     "iopub.status.busy": "2022-09-20T10:51:07.840255Z",
     "iopub.status.idle": "2022-09-20T10:51:07.848982Z",
     "shell.execute_reply": "2022-09-20T10:51:07.848068Z"
    },
    "papermill": {
     "duration": 0.018204,
     "end_time": "2022-09-20T10:51:07.851473",
     "exception": false,
     "start_time": "2022-09-20T10:51:07.833269",
     "status": "completed"
    },
    "tags": []
   },
   "outputs": [],
   "source": [
    "X = df.drop(['target'], axis='columns')\n",
    "y = df.target"
   ]
  },
  {
   "cell_type": "code",
   "execution_count": 6,
   "id": "74207285",
   "metadata": {
    "execution": {
     "iopub.execute_input": "2022-09-20T10:51:07.864310Z",
     "iopub.status.busy": "2022-09-20T10:51:07.863760Z",
     "iopub.status.idle": "2022-09-20T10:51:07.872769Z",
     "shell.execute_reply": "2022-09-20T10:51:07.871746Z"
    },
    "papermill": {
     "duration": 0.01819,
     "end_time": "2022-09-20T10:51:07.875189",
     "exception": false,
     "start_time": "2022-09-20T10:51:07.856999",
     "status": "completed"
    },
    "tags": []
   },
   "outputs": [],
   "source": [
    "X_train, X_test, y_train, y_test = train_test_split(X, y, test_size=0.2, random_state=1)"
   ]
  },
  {
   "cell_type": "markdown",
   "id": "27ccef63",
   "metadata": {
    "papermill": {
     "duration": 0.005289,
     "end_time": "2022-09-20T10:51:07.885970",
     "exception": false,
     "start_time": "2022-09-20T10:51:07.880681",
     "status": "completed"
    },
    "tags": []
   },
   "source": [
    "**Create KNN (K Neighrest Neighbour Classifier)**"
   ]
  },
  {
   "cell_type": "code",
   "execution_count": 7,
   "id": "e6113df9",
   "metadata": {
    "execution": {
     "iopub.execute_input": "2022-09-20T10:51:07.899307Z",
     "iopub.status.busy": "2022-09-20T10:51:07.898493Z",
     "iopub.status.idle": "2022-09-20T10:51:08.031925Z",
     "shell.execute_reply": "2022-09-20T10:51:08.030732Z"
    },
    "papermill": {
     "duration": 0.143462,
     "end_time": "2022-09-20T10:51:08.034852",
     "exception": false,
     "start_time": "2022-09-20T10:51:07.891390",
     "status": "completed"
    },
    "tags": []
   },
   "outputs": [],
   "source": [
    "from sklearn.neighbors import KNeighborsClassifier\n",
    "knn = KNeighborsClassifier(n_neighbors=10)"
   ]
  },
  {
   "cell_type": "code",
   "execution_count": 8,
   "id": "5a13ee82",
   "metadata": {
    "execution": {
     "iopub.execute_input": "2022-09-20T10:51:08.047705Z",
     "iopub.status.busy": "2022-09-20T10:51:08.047269Z",
     "iopub.status.idle": "2022-09-20T10:51:08.059707Z",
     "shell.execute_reply": "2022-09-20T10:51:08.058551Z"
    },
    "papermill": {
     "duration": 0.021885,
     "end_time": "2022-09-20T10:51:08.062310",
     "exception": false,
     "start_time": "2022-09-20T10:51:08.040425",
     "status": "completed"
    },
    "tags": []
   },
   "outputs": [
    {
     "data": {
      "text/plain": [
       "KNeighborsClassifier(n_neighbors=10)"
      ]
     },
     "execution_count": 8,
     "metadata": {},
     "output_type": "execute_result"
    }
   ],
   "source": [
    "knn.fit(X_train, y_train)"
   ]
  },
  {
   "cell_type": "code",
   "execution_count": 9,
   "id": "1d49bc1a",
   "metadata": {
    "execution": {
     "iopub.execute_input": "2022-09-20T10:51:08.077036Z",
     "iopub.status.busy": "2022-09-20T10:51:08.075865Z",
     "iopub.status.idle": "2022-09-20T10:51:08.149586Z",
     "shell.execute_reply": "2022-09-20T10:51:08.147971Z"
    },
    "papermill": {
     "duration": 0.086034,
     "end_time": "2022-09-20T10:51:08.153928",
     "exception": false,
     "start_time": "2022-09-20T10:51:08.067894",
     "status": "completed"
    },
    "tags": []
   },
   "outputs": [
    {
     "data": {
      "text/plain": [
       "0.9944444444444445"
      ]
     },
     "execution_count": 9,
     "metadata": {},
     "output_type": "execute_result"
    }
   ],
   "source": [
    "knn.score(X_test, y_test)"
   ]
  },
  {
   "cell_type": "markdown",
   "id": "bc86a5c9",
   "metadata": {
    "papermill": {
     "duration": 0.013448,
     "end_time": "2022-09-20T10:51:08.182011",
     "exception": false,
     "start_time": "2022-09-20T10:51:08.168563",
     "status": "completed"
    },
    "tags": []
   },
   "source": [
    "**Plot Confusion Matrix**"
   ]
  },
  {
   "cell_type": "code",
   "execution_count": 10,
   "id": "f476a490",
   "metadata": {
    "execution": {
     "iopub.execute_input": "2022-09-20T10:51:08.212830Z",
     "iopub.status.busy": "2022-09-20T10:51:08.211654Z",
     "iopub.status.idle": "2022-09-20T10:51:08.286005Z",
     "shell.execute_reply": "2022-09-20T10:51:08.284181Z"
    },
    "papermill": {
     "duration": 0.096271,
     "end_time": "2022-09-20T10:51:08.292202",
     "exception": false,
     "start_time": "2022-09-20T10:51:08.195931",
     "status": "completed"
    },
    "scrolled": true,
    "tags": []
   },
   "outputs": [
    {
     "data": {
      "text/plain": [
       "array([[43,  0,  0,  0,  0,  0,  0,  0,  0,  0],\n",
       "       [ 0, 35,  0,  0,  0,  0,  0,  0,  0,  0],\n",
       "       [ 0,  0, 35,  0,  0,  0,  0,  1,  0,  0],\n",
       "       [ 0,  0,  0, 41,  0,  0,  0,  0,  0,  0],\n",
       "       [ 0,  0,  0,  0, 38,  0,  0,  0,  0,  0],\n",
       "       [ 0,  0,  0,  0,  0, 30,  0,  0,  0,  0],\n",
       "       [ 0,  0,  0,  0,  0,  0, 37,  0,  0,  0],\n",
       "       [ 0,  0,  0,  0,  0,  0,  0, 37,  0,  0],\n",
       "       [ 0,  0,  0,  0,  0,  0,  0,  0, 28,  1],\n",
       "       [ 0,  0,  0,  0,  0,  0,  0,  0,  0, 34]])"
      ]
     },
     "execution_count": 10,
     "metadata": {},
     "output_type": "execute_result"
    }
   ],
   "source": [
    "from sklearn.metrics import confusion_matrix\n",
    "y_pred = knn.predict(X_test)\n",
    "cm = confusion_matrix(y_test, y_pred)\n",
    "cm"
   ]
  },
  {
   "cell_type": "code",
   "execution_count": 11,
   "id": "ce194a74",
   "metadata": {
    "execution": {
     "iopub.execute_input": "2022-09-20T10:51:08.326956Z",
     "iopub.status.busy": "2022-09-20T10:51:08.326230Z",
     "iopub.status.idle": "2022-09-20T10:51:09.213902Z",
     "shell.execute_reply": "2022-09-20T10:51:09.212645Z"
    },
    "papermill": {
     "duration": 0.90802,
     "end_time": "2022-09-20T10:51:09.216687",
     "exception": false,
     "start_time": "2022-09-20T10:51:08.308667",
     "status": "completed"
    },
    "tags": []
   },
   "outputs": [
    {
     "data": {
      "text/plain": [
       "Text(42.0, 0.5, 'Truth')"
      ]
     },
     "execution_count": 11,
     "metadata": {},
     "output_type": "execute_result"
    },
    {
     "data": {
      "image/png": "[encoded data removed]",
      "text/plain": [
       "<Figure size 504x360 with 2 Axes>"
      ]
     },
     "metadata": {
      "needs_background": "light"
     },
     "output_type": "display_data"
    }
   ],
   "source": [
    "%matplotlib inline\n",
    "import matplotlib.pyplot as plt\n",
    "import seaborn as sn\n",
    "plt.figure(figsize=(7,5))\n",
    "sn.heatmap(cm, annot=True)\n",
    "plt.xlabel('Predicted')\n",
    "plt.ylabel('Truth')"
   ]
  },
  {
   "cell_type": "markdown",
   "id": "88692b02",
   "metadata": {
    "papermill": {
     "duration": 0.005757,
     "end_time": "2022-09-20T10:51:09.228636",
     "exception": false,
     "start_time": "2022-09-20T10:51:09.222879",
     "status": "completed"
    },
    "tags": []
   },
   "source": [
    "**Print classification report for precesion, recall and f1-score for each classes**"
   ]
  },
  {
   "cell_type": "code",
   "execution_count": 12,
   "id": "280f8f69",
   "metadata": {
    "execution": {
     "iopub.execute_input": "2022-09-20T10:51:09.242587Z",
     "iopub.status.busy": "2022-09-20T10:51:09.242215Z",
     "iopub.status.idle": "2022-09-20T10:51:09.256603Z",
     "shell.execute_reply": "2022-09-20T10:51:09.254598Z"
    },
    "papermill": {
     "duration": 0.024876,
     "end_time": "2022-09-20T10:51:09.259506",
     "exception": false,
     "start_time": "2022-09-20T10:51:09.234630",
     "status": "completed"
    },
    "scrolled": true,
    "tags": []
   },
   "outputs": [
    {
     "name": "stdout",
     "output_type": "stream",
     "text": [
      "              precision    recall  f1-score   support\n",
      "\n",
      "           0       1.00      1.00      1.00        43\n",
      "           1       1.00      1.00      1.00        35\n",
      "           2       1.00      0.97      0.99        36\n",
      "           3       1.00      1.00      1.00        41\n",
      "           4       1.00      1.00      1.00        38\n",
      "           5       1.00      1.00      1.00        30\n",
      "           6       1.00      1.00      1.00        37\n",
      "           7       0.97      1.00      0.99        37\n",
      "           8       1.00      0.97      0.98        29\n",
      "           9       0.97      1.00      0.99        34\n",
      "\n",
      "    accuracy                           0.99       360\n",
      "   macro avg       0.99      0.99      0.99       360\n",
      "weighted avg       0.99      0.99      0.99       360\n",
      "\n"
     ]
    }
   ],
   "source": [
    "from sklearn.metrics import classification_report\n",
    "\n",
    "print(classification_report(y_test, y_pred))"
   ]
  },
  {
   "cell_type": "markdown",
   "id": "d00e52b5",
   "metadata": {
    "papermill": {
     "duration": 0.00615,
     "end_time": "2022-09-20T10:51:09.272562",
     "exception": false,
     "start_time": "2022-09-20T10:51:09.266412",
     "status": "completed"
    },
    "tags": []
   },
   "source": [
    "**Do not forget to work on exercise, exercise link is below** \n",
    "\n",
    "https://github.com/codebasics/py/blob/master/ML/17_knn_classification/knn_exercise.md\n"
   ]
  }
 ],
 "metadata": {
  "kernelspec": {
   "display_name": "Python 3",
   "language": "python",
   "name": "python3"
  },
  "language_info": {
   "codemirror_mode": {
    "name": "ipython",
    "version": 3
   },
   "file_extension": ".py",
   "mimetype": "text/x-python",
   "name": "python",
   "nbconvert_exporter": "python",
   "pygments_lexer": "ipython3",
   "version": "3.7.12"
  },
  "papermill": {
   "default_parameters": {},
   "duration": 13.349922,
   "end_time": "2022-09-20T10:51:10.103068",
   "environment_variables": {},
   "exception": null,
   "input_path": "__notebook__.ipynb",
   "output_path": "__notebook__.ipynb",
   "parameters": {},
   "start_time": "2022-09-20T10:50:56.753146",
   "version": "2.3.4"
  }
 },
 "nbformat": 4,
 "nbformat_minor": 5
}

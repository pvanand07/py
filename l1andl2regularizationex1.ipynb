{
 "cells": [
  {
   "cell_type": "code",
   "execution_count": 1,
   "id": "cee03194",
   "metadata": {
    "_cell_guid": "b1076dfc-b9ad-4769-8c92-a6c4dae69d19",
    "_uuid": "8f2839f25d086af736a60e9eeb907d3b93b6e0e5",
    "execution": {
     "iopub.execute_input": "2022-09-19T18:07:02.020300Z",
     "iopub.status.busy": "2022-09-19T18:07:02.019178Z",
     "iopub.status.idle": "2022-09-19T18:07:03.299141Z",
     "shell.execute_reply": "2022-09-19T18:07:03.297402Z"
    },
    "papermill": {
     "duration": 1.290615,
     "end_time": "2022-09-19T18:07:03.302712",
     "exception": false,
     "start_time": "2022-09-19T18:07:02.012097",
     "status": "completed"
    },
    "tags": []
   },
   "outputs": [
    {
     "name": "stdout",
     "output_type": "stream",
     "text": [
      "/kaggle/input/ml-codebasics/bhp.csv\n",
      "/kaggle/input/ml-codebasics/bhp (1).csv\n",
      "/kaggle/input/ml-codebasics/homeprices.csv\n",
      "/kaggle/input/ml-codebasics/carprices.csv\n",
      "/kaggle/input/ml-codebasics/homeprices (3).csv\n",
      "/kaggle/input/ml-codebasics/heart (1).csv\n",
      "/kaggle/input/ml-codebasics/canada_per_capita_income.csv\n",
      "/kaggle/input/ml-codebasics/hiring.csv\n",
      "/kaggle/input/ml-codebasics/titanic.csv\n",
      "/kaggle/input/ml-codebasics/heights (1).csv\n",
      "/kaggle/input/ml-codebasics/insurance_data.csv\n",
      "/kaggle/input/ml-codebasics/homeprices (2).csv\n",
      "/kaggle/input/ml-codebasics/HR_comma_sep.csv\n",
      "/kaggle/input/ml-codebasics/Melbourne_housing_FULL.csv\n",
      "/kaggle/input/ml-codebasics/height_weight.csv\n",
      "/kaggle/input/ml-codebasics/heights (2).csv\n",
      "/kaggle/input/ml-codebasics/heights.csv\n",
      "/kaggle/input/ml-codebasics/income.csv\n",
      "/kaggle/input/ml-codebasics/spam.csv\n",
      "/kaggle/input/ml-codebasics/salaries.csv\n",
      "/kaggle/input/ml-codebasics/prediction.csv\n",
      "/kaggle/input/ml-codebasics/AB_NYC_2019.csv\n",
      "/kaggle/input/ml-codebasics/test_scores.csv\n",
      "/kaggle/input/ml-codebasics/areas.csv\n",
      "/kaggle/input/ml-codebasics/titanic (1).csv\n",
      "/kaggle/input/ml-codebasics/carprices (1).csv\n",
      "/kaggle/input/ml-codebasics/homeprices (1).csv\n",
      "/kaggle/input/ml-codebasics/heart.csv\n",
      "/kaggle/input/ml-codebasics/diabetes.csv\n"
     ]
    }
   ],
   "source": [
    "# This Python 3 environment comes with many helpful analytics libraries installed\n",
    "# It is defined by the kaggle/python Docker image: https://github.com/kaggle/docker-python\n",
    "# For example, here's several helpful packages to load\n",
    "\n",
    "import numpy as np # linear algebra\n",
    "import pandas as pd # data processing, CSV file I/O (e.g. pd.read_csv)\n",
    "import matplotlib.pyplot as plt\n",
    "import seaborn as sns\n",
    "# Suppress Warnings for clean notebook\n",
    "import warnings\n",
    "warnings.filterwarnings('ignore')\n",
    "# Input data files are available in the read-only \"../input/\" directory\n",
    "# For example, running this (by clicking run or pressing Shift+Enter) will list all files under the input directory\n",
    "\n",
    "import os\n",
    "for dirname, _, filenames in os.walk('/kaggle/input'):\n",
    "    for filename in filenames:\n",
    "        print(os.path.join(dirname, filename))\n",
    "\n",
    "# You can write up to 20GB to the current directory (/kaggle/working/) that gets preserved as output when you create a version using \"Save & Run All\" \n",
    "# You can also write temporary files to /kaggle/temp/, but they won't be saved outside of the current session"
   ]
  },
  {
   "cell_type": "code",
   "execution_count": 2,
   "id": "278bd88e",
   "metadata": {
    "execution": {
     "iopub.execute_input": "2022-09-19T18:07:03.312852Z",
     "iopub.status.busy": "2022-09-19T18:07:03.312423Z",
     "iopub.status.idle": "2022-09-19T18:07:03.665860Z",
     "shell.execute_reply": "2022-09-19T18:07:03.664386Z"
    },
    "papermill": {
     "duration": 0.363174,
     "end_time": "2022-09-19T18:07:03.670061",
     "exception": false,
     "start_time": "2022-09-19T18:07:03.306887",
     "status": "completed"
    },
    "tags": []
   },
   "outputs": [
    {
     "name": "stdout",
     "output_type": "stream",
     "text": [
      "Suburb            351\n",
      "Rooms              12\n",
      "Type                3\n",
      "Price            2871\n",
      "Method              9\n",
      "SellerG           388\n",
      "Distance          215\n",
      "Bedroom2           15\n",
      "Bathroom           11\n",
      "Car                15\n",
      "Landsize         1684\n",
      "BuildingArea      740\n",
      "YearBuilt         160\n",
      "CouncilArea        33\n",
      "Regionname          8\n",
      "Propertycount     342\n",
      "dtype: int64\n"
     ]
    },
    {
     "data": {
      "text/html": [
       "<div>\n",
       "<style scoped>\n",
       "    .dataframe tbody tr th:only-of-type {\n",
       "        vertical-align: middle;\n",
       "    }\n",
       "\n",
       "    .dataframe tbody tr th {\n",
       "        vertical-align: top;\n",
       "    }\n",
       "\n",
       "    .dataframe thead th {\n",
       "        text-align: right;\n",
       "    }\n",
       "</style>\n",
       "<table border=\"1\" class=\"dataframe\">\n",
       "  <thead>\n",
       "    <tr style=\"text-align: right;\">\n",
       "      <th></th>\n",
       "      <th>Suburb</th>\n",
       "      <th>Rooms</th>\n",
       "      <th>Type</th>\n",
       "      <th>Price</th>\n",
       "      <th>Method</th>\n",
       "      <th>SellerG</th>\n",
       "      <th>Distance</th>\n",
       "      <th>Bedroom2</th>\n",
       "      <th>Bathroom</th>\n",
       "      <th>Car</th>\n",
       "      <th>Landsize</th>\n",
       "      <th>BuildingArea</th>\n",
       "      <th>YearBuilt</th>\n",
       "      <th>CouncilArea</th>\n",
       "      <th>Regionname</th>\n",
       "      <th>Propertycount</th>\n",
       "    </tr>\n",
       "  </thead>\n",
       "  <tbody>\n",
       "    <tr>\n",
       "      <th>0</th>\n",
       "      <td>Abbotsford</td>\n",
       "      <td>2</td>\n",
       "      <td>h</td>\n",
       "      <td>NaN</td>\n",
       "      <td>SS</td>\n",
       "      <td>Jellis</td>\n",
       "      <td>2.5</td>\n",
       "      <td>2.0</td>\n",
       "      <td>1.0</td>\n",
       "      <td>1.0</td>\n",
       "      <td>126.0</td>\n",
       "      <td>NaN</td>\n",
       "      <td>NaN</td>\n",
       "      <td>Yarra City Council</td>\n",
       "      <td>Northern Metropolitan</td>\n",
       "      <td>4019.0</td>\n",
       "    </tr>\n",
       "    <tr>\n",
       "      <th>1</th>\n",
       "      <td>Abbotsford</td>\n",
       "      <td>2</td>\n",
       "      <td>h</td>\n",
       "      <td>1480000.0</td>\n",
       "      <td>S</td>\n",
       "      <td>Biggin</td>\n",
       "      <td>2.5</td>\n",
       "      <td>2.0</td>\n",
       "      <td>1.0</td>\n",
       "      <td>1.0</td>\n",
       "      <td>202.0</td>\n",
       "      <td>NaN</td>\n",
       "      <td>NaN</td>\n",
       "      <td>Yarra City Council</td>\n",
       "      <td>Northern Metropolitan</td>\n",
       "      <td>4019.0</td>\n",
       "    </tr>\n",
       "    <tr>\n",
       "      <th>2</th>\n",
       "      <td>Abbotsford</td>\n",
       "      <td>2</td>\n",
       "      <td>h</td>\n",
       "      <td>1035000.0</td>\n",
       "      <td>S</td>\n",
       "      <td>Biggin</td>\n",
       "      <td>2.5</td>\n",
       "      <td>2.0</td>\n",
       "      <td>1.0</td>\n",
       "      <td>0.0</td>\n",
       "      <td>156.0</td>\n",
       "      <td>79.0</td>\n",
       "      <td>1900.0</td>\n",
       "      <td>Yarra City Council</td>\n",
       "      <td>Northern Metropolitan</td>\n",
       "      <td>4019.0</td>\n",
       "    </tr>\n",
       "    <tr>\n",
       "      <th>3</th>\n",
       "      <td>Abbotsford</td>\n",
       "      <td>3</td>\n",
       "      <td>u</td>\n",
       "      <td>NaN</td>\n",
       "      <td>VB</td>\n",
       "      <td>Rounds</td>\n",
       "      <td>2.5</td>\n",
       "      <td>3.0</td>\n",
       "      <td>2.0</td>\n",
       "      <td>1.0</td>\n",
       "      <td>0.0</td>\n",
       "      <td>NaN</td>\n",
       "      <td>NaN</td>\n",
       "      <td>Yarra City Council</td>\n",
       "      <td>Northern Metropolitan</td>\n",
       "      <td>4019.0</td>\n",
       "    </tr>\n",
       "    <tr>\n",
       "      <th>4</th>\n",
       "      <td>Abbotsford</td>\n",
       "      <td>3</td>\n",
       "      <td>h</td>\n",
       "      <td>1465000.0</td>\n",
       "      <td>SP</td>\n",
       "      <td>Biggin</td>\n",
       "      <td>2.5</td>\n",
       "      <td>3.0</td>\n",
       "      <td>2.0</td>\n",
       "      <td>0.0</td>\n",
       "      <td>134.0</td>\n",
       "      <td>150.0</td>\n",
       "      <td>1900.0</td>\n",
       "      <td>Yarra City Council</td>\n",
       "      <td>Northern Metropolitan</td>\n",
       "      <td>4019.0</td>\n",
       "    </tr>\n",
       "  </tbody>\n",
       "</table>\n",
       "</div>"
      ],
      "text/plain": [
       "       Suburb  Rooms Type      Price Method SellerG  Distance  Bedroom2  \\\n",
       "0  Abbotsford      2    h        NaN     SS  Jellis       2.5       2.0   \n",
       "1  Abbotsford      2    h  1480000.0      S  Biggin       2.5       2.0   \n",
       "2  Abbotsford      2    h  1035000.0      S  Biggin       2.5       2.0   \n",
       "3  Abbotsford      3    u        NaN     VB  Rounds       2.5       3.0   \n",
       "4  Abbotsford      3    h  1465000.0     SP  Biggin       2.5       3.0   \n",
       "\n",
       "   Bathroom  Car  Landsize  BuildingArea  YearBuilt         CouncilArea  \\\n",
       "0       1.0  1.0     126.0           NaN        NaN  Yarra City Council   \n",
       "1       1.0  1.0     202.0           NaN        NaN  Yarra City Council   \n",
       "2       1.0  0.0     156.0          79.0     1900.0  Yarra City Council   \n",
       "3       2.0  1.0       0.0           NaN        NaN  Yarra City Council   \n",
       "4       2.0  0.0     134.0         150.0     1900.0  Yarra City Council   \n",
       "\n",
       "              Regionname  Propertycount  \n",
       "0  Northern Metropolitan         4019.0  \n",
       "1  Northern Metropolitan         4019.0  \n",
       "2  Northern Metropolitan         4019.0  \n",
       "3  Northern Metropolitan         4019.0  \n",
       "4  Northern Metropolitan         4019.0  "
      ]
     },
     "execution_count": 2,
     "metadata": {},
     "output_type": "execute_result"
    }
   ],
   "source": [
    "df=pd.read_csv('../input/ml-codebasics/Melbourne_housing_FULL.csv')\n",
    "#df.head()\n",
    "\n",
    "#print(df.shape)\n",
    "df.drop(['Address','Date','Postcode','Lattitude','Longtitude'],axis='columns',inplace=True)\n",
    "#print(df.head())\n",
    "df.shape\n",
    "#sum(df.CouncilArea.unique)\n",
    "print(df.nunique())\n",
    "df.isna().sum()\n",
    "df.head()"
   ]
  },
  {
   "cell_type": "code",
   "execution_count": 3,
   "id": "ffb980ac",
   "metadata": {
    "execution": {
     "iopub.execute_input": "2022-09-19T18:07:03.680390Z",
     "iopub.status.busy": "2022-09-19T18:07:03.679957Z",
     "iopub.status.idle": "2022-09-19T18:07:03.746606Z",
     "shell.execute_reply": "2022-09-19T18:07:03.744664Z"
    },
    "papermill": {
     "duration": 0.075669,
     "end_time": "2022-09-19T18:07:03.750091",
     "exception": false,
     "start_time": "2022-09-19T18:07:03.674422",
     "status": "completed"
    },
    "tags": []
   },
   "outputs": [
    {
     "name": "stdout",
     "output_type": "stream",
     "text": [
      "(27244, 16)\n"
     ]
    },
    {
     "data": {
      "text/html": [
       "<div>\n",
       "<style scoped>\n",
       "    .dataframe tbody tr th:only-of-type {\n",
       "        vertical-align: middle;\n",
       "    }\n",
       "\n",
       "    .dataframe tbody tr th {\n",
       "        vertical-align: top;\n",
       "    }\n",
       "\n",
       "    .dataframe thead th {\n",
       "        text-align: right;\n",
       "    }\n",
       "</style>\n",
       "<table border=\"1\" class=\"dataframe\">\n",
       "  <thead>\n",
       "    <tr style=\"text-align: right;\">\n",
       "      <th></th>\n",
       "      <th>Suburb</th>\n",
       "      <th>Rooms</th>\n",
       "      <th>Type</th>\n",
       "      <th>Price</th>\n",
       "      <th>Method</th>\n",
       "      <th>SellerG</th>\n",
       "      <th>Distance</th>\n",
       "      <th>Bedroom2</th>\n",
       "      <th>Bathroom</th>\n",
       "      <th>Car</th>\n",
       "      <th>Landsize</th>\n",
       "      <th>BuildingArea</th>\n",
       "      <th>YearBuilt</th>\n",
       "      <th>CouncilArea</th>\n",
       "      <th>Regionname</th>\n",
       "      <th>Propertycount</th>\n",
       "    </tr>\n",
       "  </thead>\n",
       "  <tbody>\n",
       "    <tr>\n",
       "      <th>1</th>\n",
       "      <td>Abbotsford</td>\n",
       "      <td>2</td>\n",
       "      <td>h</td>\n",
       "      <td>1480000.0</td>\n",
       "      <td>S</td>\n",
       "      <td>Biggin</td>\n",
       "      <td>4019.0</td>\n",
       "      <td>2.0</td>\n",
       "      <td>2.5</td>\n",
       "      <td>1.0</td>\n",
       "      <td>202.0</td>\n",
       "      <td>160.2564</td>\n",
       "      <td>1965.0</td>\n",
       "      <td>Yarra City Council</td>\n",
       "      <td>Northern Metropolitan</td>\n",
       "      <td>1.0</td>\n",
       "    </tr>\n",
       "    <tr>\n",
       "      <th>2</th>\n",
       "      <td>Abbotsford</td>\n",
       "      <td>2</td>\n",
       "      <td>h</td>\n",
       "      <td>1035000.0</td>\n",
       "      <td>S</td>\n",
       "      <td>Biggin</td>\n",
       "      <td>4019.0</td>\n",
       "      <td>2.0</td>\n",
       "      <td>2.5</td>\n",
       "      <td>0.0</td>\n",
       "      <td>156.0</td>\n",
       "      <td>79.0000</td>\n",
       "      <td>1900.0</td>\n",
       "      <td>Yarra City Council</td>\n",
       "      <td>Northern Metropolitan</td>\n",
       "      <td>1.0</td>\n",
       "    </tr>\n",
       "    <tr>\n",
       "      <th>4</th>\n",
       "      <td>Abbotsford</td>\n",
       "      <td>3</td>\n",
       "      <td>h</td>\n",
       "      <td>1465000.0</td>\n",
       "      <td>SP</td>\n",
       "      <td>Biggin</td>\n",
       "      <td>4019.0</td>\n",
       "      <td>3.0</td>\n",
       "      <td>2.5</td>\n",
       "      <td>0.0</td>\n",
       "      <td>134.0</td>\n",
       "      <td>150.0000</td>\n",
       "      <td>1900.0</td>\n",
       "      <td>Yarra City Council</td>\n",
       "      <td>Northern Metropolitan</td>\n",
       "      <td>2.0</td>\n",
       "    </tr>\n",
       "    <tr>\n",
       "      <th>5</th>\n",
       "      <td>Abbotsford</td>\n",
       "      <td>3</td>\n",
       "      <td>h</td>\n",
       "      <td>850000.0</td>\n",
       "      <td>PI</td>\n",
       "      <td>Biggin</td>\n",
       "      <td>4019.0</td>\n",
       "      <td>3.0</td>\n",
       "      <td>2.5</td>\n",
       "      <td>1.0</td>\n",
       "      <td>94.0</td>\n",
       "      <td>160.2564</td>\n",
       "      <td>1965.0</td>\n",
       "      <td>Yarra City Council</td>\n",
       "      <td>Northern Metropolitan</td>\n",
       "      <td>2.0</td>\n",
       "    </tr>\n",
       "    <tr>\n",
       "      <th>6</th>\n",
       "      <td>Abbotsford</td>\n",
       "      <td>4</td>\n",
       "      <td>h</td>\n",
       "      <td>1600000.0</td>\n",
       "      <td>VB</td>\n",
       "      <td>Nelson</td>\n",
       "      <td>4019.0</td>\n",
       "      <td>3.0</td>\n",
       "      <td>2.5</td>\n",
       "      <td>2.0</td>\n",
       "      <td>120.0</td>\n",
       "      <td>142.0000</td>\n",
       "      <td>2014.0</td>\n",
       "      <td>Yarra City Council</td>\n",
       "      <td>Northern Metropolitan</td>\n",
       "      <td>1.0</td>\n",
       "    </tr>\n",
       "  </tbody>\n",
       "</table>\n",
       "</div>"
      ],
      "text/plain": [
       "       Suburb  Rooms Type      Price Method SellerG  Distance  Bedroom2  \\\n",
       "1  Abbotsford      2    h  1480000.0      S  Biggin    4019.0       2.0   \n",
       "2  Abbotsford      2    h  1035000.0      S  Biggin    4019.0       2.0   \n",
       "4  Abbotsford      3    h  1465000.0     SP  Biggin    4019.0       3.0   \n",
       "5  Abbotsford      3    h   850000.0     PI  Biggin    4019.0       3.0   \n",
       "6  Abbotsford      4    h  1600000.0     VB  Nelson    4019.0       3.0   \n",
       "\n",
       "   Bathroom  Car  Landsize  BuildingArea  YearBuilt         CouncilArea  \\\n",
       "1       2.5  1.0     202.0      160.2564     1965.0  Yarra City Council   \n",
       "2       2.5  0.0     156.0       79.0000     1900.0  Yarra City Council   \n",
       "4       2.5  0.0     134.0      150.0000     1900.0  Yarra City Council   \n",
       "5       2.5  1.0      94.0      160.2564     1965.0  Yarra City Council   \n",
       "6       2.5  2.0     120.0      142.0000     2014.0  Yarra City Council   \n",
       "\n",
       "              Regionname  Propertycount  \n",
       "1  Northern Metropolitan            1.0  \n",
       "2  Northern Metropolitan            1.0  \n",
       "4  Northern Metropolitan            2.0  \n",
       "5  Northern Metropolitan            2.0  \n",
       "6  Northern Metropolitan            1.0  "
      ]
     },
     "execution_count": 3,
     "metadata": {},
     "output_type": "execute_result"
    }
   ],
   "source": [
    "df[['Car','Bedroom2','Bathroom','Propertycount','Distance']]=df[['Car','Bedroom2','Distance','Bathroom','Propertycount']].fillna(0)\n",
    "df['Landsize']=df['Landsize'].fillna(df['Landsize'].mean())\n",
    "df['BuildingArea']=df['BuildingArea'].fillna(df['BuildingArea'].mean())\n",
    "df['YearBuilt']=df['YearBuilt'].fillna(df['YearBuilt'].mean())\n",
    "df['YearBuilt']=df['YearBuilt'].round()\n",
    "df.dropna(inplace=True)\n",
    "print(df.shape)\n",
    "df.isna().sum()\n",
    "df.head()\n"
   ]
  },
  {
   "cell_type": "code",
   "execution_count": 4,
   "id": "2a271990",
   "metadata": {
    "execution": {
     "iopub.execute_input": "2022-09-19T18:07:03.761381Z",
     "iopub.status.busy": "2022-09-19T18:07:03.760901Z",
     "iopub.status.idle": "2022-09-19T18:07:03.945547Z",
     "shell.execute_reply": "2022-09-19T18:07:03.944313Z"
    },
    "papermill": {
     "duration": 0.193311,
     "end_time": "2022-09-19T18:07:03.948224",
     "exception": false,
     "start_time": "2022-09-19T18:07:03.754913",
     "status": "completed"
    },
    "tags": []
   },
   "outputs": [
    {
     "data": {
      "text/html": [
       "<div>\n",
       "<style scoped>\n",
       "    .dataframe tbody tr th:only-of-type {\n",
       "        vertical-align: middle;\n",
       "    }\n",
       "\n",
       "    .dataframe tbody tr th {\n",
       "        vertical-align: top;\n",
       "    }\n",
       "\n",
       "    .dataframe thead th {\n",
       "        text-align: right;\n",
       "    }\n",
       "</style>\n",
       "<table border=\"1\" class=\"dataframe\">\n",
       "  <thead>\n",
       "    <tr style=\"text-align: right;\">\n",
       "      <th></th>\n",
       "      <th>Rooms</th>\n",
       "      <th>Price</th>\n",
       "      <th>Distance</th>\n",
       "      <th>Bedroom2</th>\n",
       "      <th>Bathroom</th>\n",
       "      <th>Car</th>\n",
       "      <th>Landsize</th>\n",
       "      <th>BuildingArea</th>\n",
       "      <th>YearBuilt</th>\n",
       "      <th>Propertycount</th>\n",
       "      <th>...</th>\n",
       "      <th>CouncilArea_Wyndham City Council</th>\n",
       "      <th>CouncilArea_Yarra City Council</th>\n",
       "      <th>CouncilArea_Yarra Ranges Shire Council</th>\n",
       "      <th>Regionname_Eastern Victoria</th>\n",
       "      <th>Regionname_Northern Metropolitan</th>\n",
       "      <th>Regionname_Northern Victoria</th>\n",
       "      <th>Regionname_South-Eastern Metropolitan</th>\n",
       "      <th>Regionname_Southern Metropolitan</th>\n",
       "      <th>Regionname_Western Metropolitan</th>\n",
       "      <th>Regionname_Western Victoria</th>\n",
       "    </tr>\n",
       "  </thead>\n",
       "  <tbody>\n",
       "    <tr>\n",
       "      <th>1</th>\n",
       "      <td>2</td>\n",
       "      <td>1480000.0</td>\n",
       "      <td>4019.0</td>\n",
       "      <td>2.0</td>\n",
       "      <td>2.5</td>\n",
       "      <td>1.0</td>\n",
       "      <td>202.0</td>\n",
       "      <td>160.2564</td>\n",
       "      <td>1965.0</td>\n",
       "      <td>1.0</td>\n",
       "      <td>...</td>\n",
       "      <td>0</td>\n",
       "      <td>1</td>\n",
       "      <td>0</td>\n",
       "      <td>0</td>\n",
       "      <td>1</td>\n",
       "      <td>0</td>\n",
       "      <td>0</td>\n",
       "      <td>0</td>\n",
       "      <td>0</td>\n",
       "      <td>0</td>\n",
       "    </tr>\n",
       "    <tr>\n",
       "      <th>2</th>\n",
       "      <td>2</td>\n",
       "      <td>1035000.0</td>\n",
       "      <td>4019.0</td>\n",
       "      <td>2.0</td>\n",
       "      <td>2.5</td>\n",
       "      <td>0.0</td>\n",
       "      <td>156.0</td>\n",
       "      <td>79.0000</td>\n",
       "      <td>1900.0</td>\n",
       "      <td>1.0</td>\n",
       "      <td>...</td>\n",
       "      <td>0</td>\n",
       "      <td>1</td>\n",
       "      <td>0</td>\n",
       "      <td>0</td>\n",
       "      <td>1</td>\n",
       "      <td>0</td>\n",
       "      <td>0</td>\n",
       "      <td>0</td>\n",
       "      <td>0</td>\n",
       "      <td>0</td>\n",
       "    </tr>\n",
       "    <tr>\n",
       "      <th>4</th>\n",
       "      <td>3</td>\n",
       "      <td>1465000.0</td>\n",
       "      <td>4019.0</td>\n",
       "      <td>3.0</td>\n",
       "      <td>2.5</td>\n",
       "      <td>0.0</td>\n",
       "      <td>134.0</td>\n",
       "      <td>150.0000</td>\n",
       "      <td>1900.0</td>\n",
       "      <td>2.0</td>\n",
       "      <td>...</td>\n",
       "      <td>0</td>\n",
       "      <td>1</td>\n",
       "      <td>0</td>\n",
       "      <td>0</td>\n",
       "      <td>1</td>\n",
       "      <td>0</td>\n",
       "      <td>0</td>\n",
       "      <td>0</td>\n",
       "      <td>0</td>\n",
       "      <td>0</td>\n",
       "    </tr>\n",
       "    <tr>\n",
       "      <th>5</th>\n",
       "      <td>3</td>\n",
       "      <td>850000.0</td>\n",
       "      <td>4019.0</td>\n",
       "      <td>3.0</td>\n",
       "      <td>2.5</td>\n",
       "      <td>1.0</td>\n",
       "      <td>94.0</td>\n",
       "      <td>160.2564</td>\n",
       "      <td>1965.0</td>\n",
       "      <td>2.0</td>\n",
       "      <td>...</td>\n",
       "      <td>0</td>\n",
       "      <td>1</td>\n",
       "      <td>0</td>\n",
       "      <td>0</td>\n",
       "      <td>1</td>\n",
       "      <td>0</td>\n",
       "      <td>0</td>\n",
       "      <td>0</td>\n",
       "      <td>0</td>\n",
       "      <td>0</td>\n",
       "    </tr>\n",
       "    <tr>\n",
       "      <th>6</th>\n",
       "      <td>4</td>\n",
       "      <td>1600000.0</td>\n",
       "      <td>4019.0</td>\n",
       "      <td>3.0</td>\n",
       "      <td>2.5</td>\n",
       "      <td>2.0</td>\n",
       "      <td>120.0</td>\n",
       "      <td>142.0000</td>\n",
       "      <td>2014.0</td>\n",
       "      <td>1.0</td>\n",
       "      <td>...</td>\n",
       "      <td>0</td>\n",
       "      <td>1</td>\n",
       "      <td>0</td>\n",
       "      <td>0</td>\n",
       "      <td>1</td>\n",
       "      <td>0</td>\n",
       "      <td>0</td>\n",
       "      <td>0</td>\n",
       "      <td>0</td>\n",
       "      <td>0</td>\n",
       "    </tr>\n",
       "  </tbody>\n",
       "</table>\n",
       "<p>5 rows × 746 columns</p>\n",
       "</div>"
      ],
      "text/plain": [
       "   Rooms      Price  Distance  Bedroom2  Bathroom  Car  Landsize  \\\n",
       "1      2  1480000.0    4019.0       2.0       2.5  1.0     202.0   \n",
       "2      2  1035000.0    4019.0       2.0       2.5  0.0     156.0   \n",
       "4      3  1465000.0    4019.0       3.0       2.5  0.0     134.0   \n",
       "5      3   850000.0    4019.0       3.0       2.5  1.0      94.0   \n",
       "6      4  1600000.0    4019.0       3.0       2.5  2.0     120.0   \n",
       "\n",
       "   BuildingArea  YearBuilt  Propertycount  ...  \\\n",
       "1      160.2564     1965.0            1.0  ...   \n",
       "2       79.0000     1900.0            1.0  ...   \n",
       "4      150.0000     1900.0            2.0  ...   \n",
       "5      160.2564     1965.0            2.0  ...   \n",
       "6      142.0000     2014.0            1.0  ...   \n",
       "\n",
       "   CouncilArea_Wyndham City Council  CouncilArea_Yarra City Council  \\\n",
       "1                                 0                               1   \n",
       "2                                 0                               1   \n",
       "4                                 0                               1   \n",
       "5                                 0                               1   \n",
       "6                                 0                               1   \n",
       "\n",
       "   CouncilArea_Yarra Ranges Shire Council  Regionname_Eastern Victoria  \\\n",
       "1                                       0                            0   \n",
       "2                                       0                            0   \n",
       "4                                       0                            0   \n",
       "5                                       0                            0   \n",
       "6                                       0                            0   \n",
       "\n",
       "   Regionname_Northern Metropolitan  Regionname_Northern Victoria  \\\n",
       "1                                 1                             0   \n",
       "2                                 1                             0   \n",
       "4                                 1                             0   \n",
       "5                                 1                             0   \n",
       "6                                 1                             0   \n",
       "\n",
       "   Regionname_South-Eastern Metropolitan  Regionname_Southern Metropolitan  \\\n",
       "1                                      0                                 0   \n",
       "2                                      0                                 0   \n",
       "4                                      0                                 0   \n",
       "5                                      0                                 0   \n",
       "6                                      0                                 0   \n",
       "\n",
       "   Regionname_Western Metropolitan  Regionname_Western Victoria  \n",
       "1                                0                            0  \n",
       "2                                0                            0  \n",
       "4                                0                            0  \n",
       "5                                0                            0  \n",
       "6                                0                            0  \n",
       "\n",
       "[5 rows x 746 columns]"
      ]
     },
     "execution_count": 4,
     "metadata": {},
     "output_type": "execute_result"
    }
   ],
   "source": [
    "df=pd.get_dummies(df, drop_first=True)\n",
    "df.head()"
   ]
  },
  {
   "cell_type": "code",
   "execution_count": 5,
   "id": "3f60ae76",
   "metadata": {
    "execution": {
     "iopub.execute_input": "2022-09-19T18:07:03.960894Z",
     "iopub.status.busy": "2022-09-19T18:07:03.960472Z",
     "iopub.status.idle": "2022-09-19T18:07:04.044898Z",
     "shell.execute_reply": "2022-09-19T18:07:04.043521Z"
    },
    "papermill": {
     "duration": 0.093966,
     "end_time": "2022-09-19T18:07:04.047806",
     "exception": false,
     "start_time": "2022-09-19T18:07:03.953840",
     "status": "completed"
    },
    "tags": []
   },
   "outputs": [],
   "source": [
    "X=df.drop('Price',axis='columns')\n",
    "y=df.Price"
   ]
  },
  {
   "cell_type": "code",
   "execution_count": 6,
   "id": "89a868bc",
   "metadata": {
    "execution": {
     "iopub.execute_input": "2022-09-19T18:07:04.060014Z",
     "iopub.status.busy": "2022-09-19T18:07:04.059561Z",
     "iopub.status.idle": "2022-09-19T18:07:05.925635Z",
     "shell.execute_reply": "2022-09-19T18:07:05.923944Z"
    },
    "papermill": {
     "duration": 1.876885,
     "end_time": "2022-09-19T18:07:05.929898",
     "exception": false,
     "start_time": "2022-09-19T18:07:04.053013",
     "status": "completed"
    },
    "tags": []
   },
   "outputs": [
    {
     "data": {
      "text/plain": [
       "0.6859388003264826"
      ]
     },
     "execution_count": 6,
     "metadata": {},
     "output_type": "execute_result"
    }
   ],
   "source": [
    "from sklearn.model_selection import train_test_split\n",
    "train_X, test_X, train_y, test_y = train_test_split(X, y, test_size=0.3,random_state=2)\n",
    "from sklearn.linear_model import LinearRegression\n",
    "reg = LinearRegression()\n",
    "reg.fit(train_X, train_y)\n",
    "reg.score(train_X, train_y)"
   ]
  },
  {
   "cell_type": "code",
   "execution_count": 7,
   "id": "7599d9e2",
   "metadata": {
    "execution": {
     "iopub.execute_input": "2022-09-19T18:07:05.957610Z",
     "iopub.status.busy": "2022-09-19T18:07:05.956570Z",
     "iopub.status.idle": "2022-09-19T18:07:06.032616Z",
     "shell.execute_reply": "2022-09-19T18:07:06.030889Z"
    },
    "papermill": {
     "duration": 0.095972,
     "end_time": "2022-09-19T18:07:06.038098",
     "exception": false,
     "start_time": "2022-09-19T18:07:05.942126",
     "status": "completed"
    },
    "tags": []
   },
   "outputs": [
    {
     "data": {
      "text/plain": [
       "0.10132733376288172"
      ]
     },
     "execution_count": 7,
     "metadata": {},
     "output_type": "execute_result"
    }
   ],
   "source": [
    "reg.score(test_X, test_y)"
   ]
  },
  {
   "cell_type": "code",
   "execution_count": 8,
   "id": "042718f1",
   "metadata": {
    "execution": {
     "iopub.execute_input": "2022-09-19T18:07:06.066876Z",
     "iopub.status.busy": "2022-09-19T18:07:06.066123Z",
     "iopub.status.idle": "2022-09-19T18:07:10.177371Z",
     "shell.execute_reply": "2022-09-19T18:07:10.175652Z"
    },
    "papermill": {
     "duration": 4.131354,
     "end_time": "2022-09-19T18:07:10.182799",
     "exception": false,
     "start_time": "2022-09-19T18:07:06.051445",
     "status": "completed"
    },
    "tags": []
   },
   "outputs": [
    {
     "data": {
      "text/plain": [
       "0.6857060705082287"
      ]
     },
     "execution_count": 8,
     "metadata": {},
     "output_type": "execute_result"
    }
   ],
   "source": [
    "from sklearn import linear_model\n",
    "lasso_reg=linear_model.Lasso(alpha=5,max_iter=200,tol=0.01)\n",
    "lasso_reg.fit(train_X,train_y)\n",
    "lasso_reg.score(train_X,train_y)\n"
   ]
  },
  {
   "cell_type": "code",
   "execution_count": 9,
   "id": "fd428f7b",
   "metadata": {
    "execution": {
     "iopub.execute_input": "2022-09-19T18:07:10.211955Z",
     "iopub.status.busy": "2022-09-19T18:07:10.211222Z",
     "iopub.status.idle": "2022-09-19T18:07:10.284745Z",
     "shell.execute_reply": "2022-09-19T18:07:10.283054Z"
    },
    "papermill": {
     "duration": 0.093734,
     "end_time": "2022-09-19T18:07:10.290208",
     "exception": false,
     "start_time": "2022-09-19T18:07:10.196474",
     "status": "completed"
    },
    "tags": []
   },
   "outputs": [
    {
     "data": {
      "text/plain": [
       "0.19332874427717528"
      ]
     },
     "execution_count": 9,
     "metadata": {},
     "output_type": "execute_result"
    }
   ],
   "source": [
    "lasso_reg.score(test_X,test_y)"
   ]
  },
  {
   "cell_type": "code",
   "execution_count": 10,
   "id": "3e255cd7",
   "metadata": {
    "execution": {
     "iopub.execute_input": "2022-09-19T18:07:10.322295Z",
     "iopub.status.busy": "2022-09-19T18:07:10.321349Z",
     "iopub.status.idle": "2022-09-19T18:07:10.880642Z",
     "shell.execute_reply": "2022-09-19T18:07:10.879361Z"
    },
    "papermill": {
     "duration": 0.578436,
     "end_time": "2022-09-19T18:07:10.884745",
     "exception": false,
     "start_time": "2022-09-19T18:07:10.306309",
     "status": "completed"
    },
    "tags": []
   },
   "outputs": [
    {
     "data": {
      "text/plain": [
       "0.6658532262829171"
      ]
     },
     "execution_count": 10,
     "metadata": {},
     "output_type": "execute_result"
    }
   ],
   "source": [
    "from sklearn.linear_model import Ridge\n",
    "ridge_reg= Ridge(alpha=50, max_iter=100, tol=0.1)\n",
    "ridge_reg.fit(train_X, train_y)\n",
    "ridge_reg.score(train_X, train_y)"
   ]
  },
  {
   "cell_type": "code",
   "execution_count": 11,
   "id": "3195df3a",
   "metadata": {
    "execution": {
     "iopub.execute_input": "2022-09-19T18:07:10.914001Z",
     "iopub.status.busy": "2022-09-19T18:07:10.913282Z",
     "iopub.status.idle": "2022-09-19T18:07:10.977212Z",
     "shell.execute_reply": "2022-09-19T18:07:10.975921Z"
    },
    "papermill": {
     "duration": 0.08357,
     "end_time": "2022-09-19T18:07:10.981393",
     "exception": false,
     "start_time": "2022-09-19T18:07:10.897823",
     "status": "completed"
    },
    "tags": []
   },
   "outputs": [
    {
     "data": {
      "text/plain": [
       "0.6706292161875085"
      ]
     },
     "execution_count": 11,
     "metadata": {},
     "output_type": "execute_result"
    }
   ],
   "source": [
    "ridge_reg.score(test_X, test_y)"
   ]
  }
 ],
 "metadata": {
  "kernelspec": {
   "display_name": "Python 3",
   "language": "python",
   "name": "python3"
  },
  "language_info": {
   "codemirror_mode": {
    "name": "ipython",
    "version": 3
   },
   "file_extension": ".py",
   "mimetype": "text/x-python",
   "name": "python",
   "nbconvert_exporter": "python",
   "pygments_lexer": "ipython3",
   "version": "3.7.12"
  },
  "papermill": {
   "default_parameters": {},
   "duration": 21.048609,
   "end_time": "2022-09-19T18:07:11.934153",
   "environment_variables": {},
   "exception": null,
   "input_path": "__notebook__.ipynb",
   "output_path": "__notebook__.ipynb",
   "parameters": {},
   "start_time": "2022-09-19T18:06:50.885544",
   "version": "2.3.4"
  }
 },
 "nbformat": 4,
 "nbformat_minor": 5
}

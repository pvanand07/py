{
 "cells": [
  {
   "cell_type": "code",
   "execution_count": 1,
   "id": "84249593",
   "metadata": {
    "execution": {
     "iopub.execute_input": "2022-09-18T14:13:19.595192Z",
     "iopub.status.busy": "2022-09-18T14:13:19.594551Z",
     "iopub.status.idle": "2022-09-18T14:13:19.672246Z",
     "shell.execute_reply": "2022-09-18T14:13:19.671084Z"
    },
    "papermill": {
     "duration": 0.088199,
     "end_time": "2022-09-18T14:13:19.675688",
     "exception": false,
     "start_time": "2022-09-18T14:13:19.587489",
     "status": "completed"
    },
    "tags": []
   },
   "outputs": [
    {
     "data": {
      "text/html": [
       "<div>\n",
       "<style scoped>\n",
       "    .dataframe tbody tr th:only-of-type {\n",
       "        vertical-align: middle;\n",
       "    }\n",
       "\n",
       "    .dataframe tbody tr th {\n",
       "        vertical-align: top;\n",
       "    }\n",
       "\n",
       "    .dataframe thead th {\n",
       "        text-align: right;\n",
       "    }\n",
       "</style>\n",
       "<table border=\"1\" class=\"dataframe\">\n",
       "  <thead>\n",
       "    <tr style=\"text-align: right;\">\n",
       "      <th></th>\n",
       "      <th>v1</th>\n",
       "      <th>v2</th>\n",
       "      <th>Unnamed: 2</th>\n",
       "      <th>Unnamed: 3</th>\n",
       "      <th>Unnamed: 4</th>\n",
       "    </tr>\n",
       "  </thead>\n",
       "  <tbody>\n",
       "    <tr>\n",
       "      <th>0</th>\n",
       "      <td>ham</td>\n",
       "      <td>Go until jurong point, crazy.. Available only ...</td>\n",
       "      <td>NaN</td>\n",
       "      <td>NaN</td>\n",
       "      <td>NaN</td>\n",
       "    </tr>\n",
       "    <tr>\n",
       "      <th>1</th>\n",
       "      <td>ham</td>\n",
       "      <td>Ok lar... Joking wif u oni...</td>\n",
       "      <td>NaN</td>\n",
       "      <td>NaN</td>\n",
       "      <td>NaN</td>\n",
       "    </tr>\n",
       "    <tr>\n",
       "      <th>2</th>\n",
       "      <td>spam</td>\n",
       "      <td>Free entry in 2 a wkly comp to win FA Cup fina...</td>\n",
       "      <td>NaN</td>\n",
       "      <td>NaN</td>\n",
       "      <td>NaN</td>\n",
       "    </tr>\n",
       "    <tr>\n",
       "      <th>3</th>\n",
       "      <td>ham</td>\n",
       "      <td>U dun say so early hor... U c already then say...</td>\n",
       "      <td>NaN</td>\n",
       "      <td>NaN</td>\n",
       "      <td>NaN</td>\n",
       "    </tr>\n",
       "    <tr>\n",
       "      <th>4</th>\n",
       "      <td>ham</td>\n",
       "      <td>Nah I don't think he goes to usf, he lives aro...</td>\n",
       "      <td>NaN</td>\n",
       "      <td>NaN</td>\n",
       "      <td>NaN</td>\n",
       "    </tr>\n",
       "    <tr>\n",
       "      <th>...</th>\n",
       "      <td>...</td>\n",
       "      <td>...</td>\n",
       "      <td>...</td>\n",
       "      <td>...</td>\n",
       "      <td>...</td>\n",
       "    </tr>\n",
       "    <tr>\n",
       "      <th>5567</th>\n",
       "      <td>spam</td>\n",
       "      <td>This is the 2nd time we have tried 2 contact u...</td>\n",
       "      <td>NaN</td>\n",
       "      <td>NaN</td>\n",
       "      <td>NaN</td>\n",
       "    </tr>\n",
       "    <tr>\n",
       "      <th>5568</th>\n",
       "      <td>ham</td>\n",
       "      <td>Will Ì_ b going to esplanade fr home?</td>\n",
       "      <td>NaN</td>\n",
       "      <td>NaN</td>\n",
       "      <td>NaN</td>\n",
       "    </tr>\n",
       "    <tr>\n",
       "      <th>5569</th>\n",
       "      <td>ham</td>\n",
       "      <td>Pity, * was in mood for that. So...any other s...</td>\n",
       "      <td>NaN</td>\n",
       "      <td>NaN</td>\n",
       "      <td>NaN</td>\n",
       "    </tr>\n",
       "    <tr>\n",
       "      <th>5570</th>\n",
       "      <td>ham</td>\n",
       "      <td>The guy did some bitching but I acted like i'd...</td>\n",
       "      <td>NaN</td>\n",
       "      <td>NaN</td>\n",
       "      <td>NaN</td>\n",
       "    </tr>\n",
       "    <tr>\n",
       "      <th>5571</th>\n",
       "      <td>ham</td>\n",
       "      <td>Rofl. Its true to its name</td>\n",
       "      <td>NaN</td>\n",
       "      <td>NaN</td>\n",
       "      <td>NaN</td>\n",
       "    </tr>\n",
       "  </tbody>\n",
       "</table>\n",
       "<p>5572 rows × 5 columns</p>\n",
       "</div>"
      ],
      "text/plain": [
       "        v1                                                 v2 Unnamed: 2  \\\n",
       "0      ham  Go until jurong point, crazy.. Available only ...        NaN   \n",
       "1      ham                      Ok lar... Joking wif u oni...        NaN   \n",
       "2     spam  Free entry in 2 a wkly comp to win FA Cup fina...        NaN   \n",
       "3      ham  U dun say so early hor... U c already then say...        NaN   \n",
       "4      ham  Nah I don't think he goes to usf, he lives aro...        NaN   \n",
       "...    ...                                                ...        ...   \n",
       "5567  spam  This is the 2nd time we have tried 2 contact u...        NaN   \n",
       "5568   ham              Will Ì_ b going to esplanade fr home?        NaN   \n",
       "5569   ham  Pity, * was in mood for that. So...any other s...        NaN   \n",
       "5570   ham  The guy did some bitching but I acted like i'd...        NaN   \n",
       "5571   ham                         Rofl. Its true to its name        NaN   \n",
       "\n",
       "     Unnamed: 3 Unnamed: 4  \n",
       "0           NaN        NaN  \n",
       "1           NaN        NaN  \n",
       "2           NaN        NaN  \n",
       "3           NaN        NaN  \n",
       "4           NaN        NaN  \n",
       "...         ...        ...  \n",
       "5567        NaN        NaN  \n",
       "5568        NaN        NaN  \n",
       "5569        NaN        NaN  \n",
       "5570        NaN        NaN  \n",
       "5571        NaN        NaN  \n",
       "\n",
       "[5572 rows x 5 columns]"
      ]
     },
     "execution_count": 1,
     "metadata": {},
     "output_type": "execute_result"
    }
   ],
   "source": [
    "import pandas as pd\n",
    "df=pd.read_csv('../input/spamcsv/spam.csv',encoding='ISO-8859-1', engine='python')\n",
    "df"
   ]
  },
  {
   "cell_type": "code",
   "execution_count": 2,
   "id": "e5d05c4e",
   "metadata": {
    "execution": {
     "iopub.execute_input": "2022-09-18T14:13:19.685979Z",
     "iopub.status.busy": "2022-09-18T14:13:19.685544Z",
     "iopub.status.idle": "2022-09-18T14:13:19.745830Z",
     "shell.execute_reply": "2022-09-18T14:13:19.744620Z"
    },
    "papermill": {
     "duration": 0.068477,
     "end_time": "2022-09-18T14:13:19.748457",
     "exception": false,
     "start_time": "2022-09-18T14:13:19.679980",
     "status": "completed"
    },
    "tags": []
   },
   "outputs": [
    {
     "data": {
      "text/html": [
       "<div>\n",
       "<style scoped>\n",
       "    .dataframe tbody tr th:only-of-type {\n",
       "        vertical-align: middle;\n",
       "    }\n",
       "\n",
       "    .dataframe tbody tr th {\n",
       "        vertical-align: top;\n",
       "    }\n",
       "\n",
       "    .dataframe thead tr th {\n",
       "        text-align: left;\n",
       "    }\n",
       "\n",
       "    .dataframe thead tr:last-of-type th {\n",
       "        text-align: right;\n",
       "    }\n",
       "</style>\n",
       "<table border=\"1\" class=\"dataframe\">\n",
       "  <thead>\n",
       "    <tr>\n",
       "      <th></th>\n",
       "      <th colspan=\"4\" halign=\"left\">v2</th>\n",
       "      <th colspan=\"4\" halign=\"left\">Unnamed: 2</th>\n",
       "      <th colspan=\"4\" halign=\"left\">Unnamed: 3</th>\n",
       "      <th colspan=\"4\" halign=\"left\">Unnamed: 4</th>\n",
       "    </tr>\n",
       "    <tr>\n",
       "      <th></th>\n",
       "      <th>count</th>\n",
       "      <th>unique</th>\n",
       "      <th>top</th>\n",
       "      <th>freq</th>\n",
       "      <th>count</th>\n",
       "      <th>unique</th>\n",
       "      <th>top</th>\n",
       "      <th>freq</th>\n",
       "      <th>count</th>\n",
       "      <th>unique</th>\n",
       "      <th>top</th>\n",
       "      <th>freq</th>\n",
       "      <th>count</th>\n",
       "      <th>unique</th>\n",
       "      <th>top</th>\n",
       "      <th>freq</th>\n",
       "    </tr>\n",
       "    <tr>\n",
       "      <th>v1</th>\n",
       "      <th></th>\n",
       "      <th></th>\n",
       "      <th></th>\n",
       "      <th></th>\n",
       "      <th></th>\n",
       "      <th></th>\n",
       "      <th></th>\n",
       "      <th></th>\n",
       "      <th></th>\n",
       "      <th></th>\n",
       "      <th></th>\n",
       "      <th></th>\n",
       "      <th></th>\n",
       "      <th></th>\n",
       "      <th></th>\n",
       "      <th></th>\n",
       "    </tr>\n",
       "  </thead>\n",
       "  <tbody>\n",
       "    <tr>\n",
       "      <th>ham</th>\n",
       "      <td>4825</td>\n",
       "      <td>4516</td>\n",
       "      <td>Sorry, I'll call later</td>\n",
       "      <td>30</td>\n",
       "      <td>45</td>\n",
       "      <td>39</td>\n",
       "      <td>bt not his girlfrnd... G o o d n i g h t . . .@\"</td>\n",
       "      <td>3</td>\n",
       "      <td>10</td>\n",
       "      <td>9</td>\n",
       "      <td>GE</td>\n",
       "      <td>2</td>\n",
       "      <td>6</td>\n",
       "      <td>5</td>\n",
       "      <td>GNT:-)\"</td>\n",
       "      <td>2</td>\n",
       "    </tr>\n",
       "    <tr>\n",
       "      <th>spam</th>\n",
       "      <td>747</td>\n",
       "      <td>653</td>\n",
       "      <td>Please call our customer service representativ...</td>\n",
       "      <td>4</td>\n",
       "      <td>5</td>\n",
       "      <td>4</td>\n",
       "      <td>PO Box 5249</td>\n",
       "      <td>2</td>\n",
       "      <td>2</td>\n",
       "      <td>1</td>\n",
       "      <td>MK17 92H. 450Ppw 16\"</td>\n",
       "      <td>2</td>\n",
       "      <td>0</td>\n",
       "      <td>0</td>\n",
       "      <td>NaN</td>\n",
       "      <td>NaN</td>\n",
       "    </tr>\n",
       "  </tbody>\n",
       "</table>\n",
       "</div>"
      ],
      "text/plain": [
       "        v2                                                                 \\\n",
       "     count unique                                                top freq   \n",
       "v1                                                                          \n",
       "ham   4825   4516                             Sorry, I'll call later   30   \n",
       "spam   747    653  Please call our customer service representativ...    4   \n",
       "\n",
       "     Unnamed: 2                                                            \\\n",
       "          count unique                                                top   \n",
       "v1                                                                          \n",
       "ham          45     39   bt not his girlfrnd... G o o d n i g h t . . .@\"   \n",
       "spam          5      4                                        PO Box 5249   \n",
       "\n",
       "          Unnamed: 3                                    Unnamed: 4         \\\n",
       "     freq      count unique                    top freq      count unique   \n",
       "v1                                                                          \n",
       "ham     3         10      9                     GE    2          6      5   \n",
       "spam    2          2      1   MK17 92H. 450Ppw 16\"    2          0      0   \n",
       "\n",
       "                    \n",
       "          top freq  \n",
       "v1                  \n",
       "ham   GNT:-)\"    2  \n",
       "spam      NaN  NaN  "
      ]
     },
     "execution_count": 2,
     "metadata": {},
     "output_type": "execute_result"
    }
   ],
   "source": [
    "df.groupby('v1').describe()"
   ]
  },
  {
   "cell_type": "code",
   "execution_count": 3,
   "id": "da207416",
   "metadata": {
    "execution": {
     "iopub.execute_input": "2022-09-18T14:13:19.759128Z",
     "iopub.status.busy": "2022-09-18T14:13:19.758716Z",
     "iopub.status.idle": "2022-09-18T14:13:19.771879Z",
     "shell.execute_reply": "2022-09-18T14:13:19.770443Z"
    },
    "papermill": {
     "duration": 0.021391,
     "end_time": "2022-09-18T14:13:19.774409",
     "exception": false,
     "start_time": "2022-09-18T14:13:19.753018",
     "status": "completed"
    },
    "tags": []
   },
   "outputs": [
    {
     "data": {
      "text/plain": [
       "0       0\n",
       "1       0\n",
       "2       1\n",
       "3       0\n",
       "4       0\n",
       "       ..\n",
       "5567    1\n",
       "5568    0\n",
       "5569    0\n",
       "5570    0\n",
       "5571    0\n",
       "Name: spam, Length: 5572, dtype: int64"
      ]
     },
     "execution_count": 3,
     "metadata": {},
     "output_type": "execute_result"
    }
   ],
   "source": [
    "df['spam']=df.v1.apply(lambda x: 1 if x=='spam' else 0)\n",
    "df['spam']"
   ]
  },
  {
   "cell_type": "code",
   "execution_count": 4,
   "id": "3f1d14d0",
   "metadata": {
    "execution": {
     "iopub.execute_input": "2022-09-18T14:13:19.785806Z",
     "iopub.status.busy": "2022-09-18T14:13:19.785056Z",
     "iopub.status.idle": "2022-09-18T14:13:21.060885Z",
     "shell.execute_reply": "2022-09-18T14:13:21.059425Z"
    },
    "papermill": {
     "duration": 1.284798,
     "end_time": "2022-09-18T14:13:21.063800",
     "exception": false,
     "start_time": "2022-09-18T14:13:19.779002",
     "status": "completed"
    },
    "tags": []
   },
   "outputs": [
    {
     "data": {
      "text/plain": [
       "array([[1, 0],\n",
       "       [1, 0]])"
      ]
     },
     "execution_count": 4,
     "metadata": {},
     "output_type": "execute_result"
    }
   ],
   "source": [
    "from sklearn.model_selection import train_test_split\n",
    "X_train, X_test, y_train, y_test = train_test_split(df.v1,df.spam)\n",
    "from sklearn.feature_extraction.text import CountVectorizer\n",
    "v=CountVectorizer()\n",
    "X_train_count=v.fit_transform(X_train.values)\n",
    "X_train_count.toarray()[:2]"
   ]
  },
  {
   "cell_type": "code",
   "execution_count": 5,
   "id": "7821c62d",
   "metadata": {
    "execution": {
     "iopub.execute_input": "2022-09-18T14:13:21.075496Z",
     "iopub.status.busy": "2022-09-18T14:13:21.074911Z",
     "iopub.status.idle": "2022-09-18T14:13:21.096205Z",
     "shell.execute_reply": "2022-09-18T14:13:21.094974Z"
    },
    "papermill": {
     "duration": 0.030342,
     "end_time": "2022-09-18T14:13:21.098860",
     "exception": false,
     "start_time": "2022-09-18T14:13:21.068518",
     "status": "completed"
    },
    "tags": []
   },
   "outputs": [
    {
     "data": {
      "text/plain": [
       "1.0"
      ]
     },
     "execution_count": 5,
     "metadata": {},
     "output_type": "execute_result"
    }
   ],
   "source": [
    "from sklearn.naive_bayes import MultinomialNB\n",
    "model=MultinomialNB()\n",
    "model.fit(X_train_count,y_train)\n",
    "X_test_count=v.fit_transform(X_test.values)\n",
    "X_test_count.toarray()[:2]\n",
    "model.score(X_test_count,y_test)"
   ]
  },
  {
   "cell_type": "code",
   "execution_count": 6,
   "id": "7c4af1f6",
   "metadata": {
    "execution": {
     "iopub.execute_input": "2022-09-18T14:13:21.113538Z",
     "iopub.status.busy": "2022-09-18T14:13:21.112533Z",
     "iopub.status.idle": "2022-09-18T14:13:21.124611Z",
     "shell.execute_reply": "2022-09-18T14:13:21.123725Z"
    },
    "papermill": {
     "duration": 0.021813,
     "end_time": "2022-09-18T14:13:21.126987",
     "exception": false,
     "start_time": "2022-09-18T14:13:21.105174",
     "status": "completed"
    },
    "tags": []
   },
   "outputs": [
    {
     "data": {
      "text/plain": [
       "array([0, 0])"
      ]
     },
     "execution_count": 6,
     "metadata": {},
     "output_type": "execute_result"
    }
   ],
   "source": [
    "emails = [\n",
    "    'Hey mohan, can we get together to watch footbal game tomorrow?',\n",
    "    'Upto 20% discount on parking, exclusive offer just for you. Dont miss this reward!'\n",
    "]\n",
    "emails_count = v.transform(emails)\n",
    "model.predict(emails_count)"
   ]
  },
  {
   "cell_type": "code",
   "execution_count": 7,
   "id": "3dccd11c",
   "metadata": {
    "execution": {
     "iopub.execute_input": "2022-09-18T14:13:21.140383Z",
     "iopub.status.busy": "2022-09-18T14:13:21.139512Z",
     "iopub.status.idle": "2022-09-18T14:13:21.148518Z",
     "shell.execute_reply": "2022-09-18T14:13:21.147237Z"
    },
    "papermill": {
     "duration": 0.018401,
     "end_time": "2022-09-18T14:13:21.151342",
     "exception": false,
     "start_time": "2022-09-18T14:13:21.132941",
     "status": "completed"
    },
    "tags": []
   },
   "outputs": [],
   "source": [
    "from sklearn.pipeline import Pipeline\n",
    "clf = Pipeline([\n",
    "        ('vecorize',CountVectorizer()),\n",
    "        ('nb',MultinomialNB())\n",
    "])"
   ]
  },
  {
   "cell_type": "code",
   "execution_count": 8,
   "id": "c8979867",
   "metadata": {
    "execution": {
     "iopub.execute_input": "2022-09-18T14:13:21.162927Z",
     "iopub.status.busy": "2022-09-18T14:13:21.162426Z",
     "iopub.status.idle": "2022-09-18T14:13:21.193697Z",
     "shell.execute_reply": "2022-09-18T14:13:21.192584Z"
    },
    "papermill": {
     "duration": 0.040077,
     "end_time": "2022-09-18T14:13:21.196384",
     "exception": false,
     "start_time": "2022-09-18T14:13:21.156307",
     "status": "completed"
    },
    "tags": []
   },
   "outputs": [
    {
     "data": {
      "text/plain": [
       "Pipeline(steps=[('vecorize', CountVectorizer()), ('nb', MultinomialNB())])"
      ]
     },
     "execution_count": 8,
     "metadata": {},
     "output_type": "execute_result"
    }
   ],
   "source": [
    "clf.fit(X_train, y_train)"
   ]
  },
  {
   "cell_type": "code",
   "execution_count": 9,
   "id": "e827abc3",
   "metadata": {
    "execution": {
     "iopub.execute_input": "2022-09-18T14:13:21.208480Z",
     "iopub.status.busy": "2022-09-18T14:13:21.208107Z",
     "iopub.status.idle": "2022-09-18T14:13:21.222748Z",
     "shell.execute_reply": "2022-09-18T14:13:21.221420Z"
    },
    "papermill": {
     "duration": 0.023689,
     "end_time": "2022-09-18T14:13:21.225312",
     "exception": false,
     "start_time": "2022-09-18T14:13:21.201623",
     "status": "completed"
    },
    "tags": []
   },
   "outputs": [
    {
     "data": {
      "text/plain": [
       "1.0"
      ]
     },
     "execution_count": 9,
     "metadata": {},
     "output_type": "execute_result"
    }
   ],
   "source": [
    "clf.score(X_test, y_test)"
   ]
  },
  {
   "cell_type": "code",
   "execution_count": 10,
   "id": "e68b9143",
   "metadata": {
    "execution": {
     "iopub.execute_input": "2022-09-18T14:13:21.244627Z",
     "iopub.status.busy": "2022-09-18T14:13:21.244246Z",
     "iopub.status.idle": "2022-09-18T14:13:21.251924Z",
     "shell.execute_reply": "2022-09-18T14:13:21.250935Z"
    },
    "papermill": {
     "duration": 0.023616,
     "end_time": "2022-09-18T14:13:21.254114",
     "exception": false,
     "start_time": "2022-09-18T14:13:21.230498",
     "status": "completed"
    },
    "tags": []
   },
   "outputs": [
    {
     "data": {
      "text/plain": [
       "array([0, 0])"
      ]
     },
     "execution_count": 10,
     "metadata": {},
     "output_type": "execute_result"
    }
   ],
   "source": [
    "clf.predict(emails)"
   ]
  },
  {
   "cell_type": "code",
   "execution_count": 11,
   "id": "6060c776",
   "metadata": {
    "execution": {
     "iopub.execute_input": "2022-09-18T14:13:21.266324Z",
     "iopub.status.busy": "2022-09-18T14:13:21.265606Z",
     "iopub.status.idle": "2022-09-18T14:13:21.283427Z",
     "shell.execute_reply": "2022-09-18T14:13:21.282257Z"
    },
    "papermill": {
     "duration": 0.026619,
     "end_time": "2022-09-18T14:13:21.285794",
     "exception": false,
     "start_time": "2022-09-18T14:13:21.259175",
     "status": "completed"
    },
    "tags": []
   },
   "outputs": [
    {
     "name": "stdout",
     "output_type": "stream",
     "text": [
      "              precision    recall  f1-score   support\n",
      "\n",
      "           0       1.00      1.00      1.00      1218\n",
      "           1       1.00      1.00      1.00       175\n",
      "\n",
      "    accuracy                           1.00      1393\n",
      "   macro avg       1.00      1.00      1.00      1393\n",
      "weighted avg       1.00      1.00      1.00      1393\n",
      "\n"
     ]
    }
   ],
   "source": [
    "y_pred = clf.predict(X_test)\n",
    "from sklearn.metrics import classification_report\n",
    "print(classification_report(y_test,y_pred))"
   ]
  },
  {
   "cell_type": "code",
   "execution_count": 12,
   "id": "cfb31d5c",
   "metadata": {
    "execution": {
     "iopub.execute_input": "2022-09-18T14:13:21.298172Z",
     "iopub.status.busy": "2022-09-18T14:13:21.297472Z",
     "iopub.status.idle": "2022-09-18T14:13:21.459143Z",
     "shell.execute_reply": "2022-09-18T14:13:21.457702Z"
    },
    "papermill": {
     "duration": 0.174918,
     "end_time": "2022-09-18T14:13:21.465851",
     "exception": false,
     "start_time": "2022-09-18T14:13:21.290933",
     "status": "completed"
    },
    "tags": []
   },
   "outputs": [
    {
     "name": "stdout",
     "output_type": "stream",
     "text": [
      "Accuracy using Cross Validation is : 100.0  %\n"
     ]
    }
   ],
   "source": [
    "import numpy as np\n",
    "from sklearn.model_selection import KFold, cross_val_score\n",
    "kfold = KFold(n_splits=5,shuffle=True)\n",
    "print(\"Accuracy using Cross Validation is :\",np.mean(cross_val_score(clf,df.v1,df.spam,cv=kfold,scoring=\"accuracy\"))*100,\" %\")"
   ]
  }
 ],
 "metadata": {
  "kernelspec": {
   "display_name": "Python 3",
   "language": "python",
   "name": "python3"
  },
  "language_info": {
   "codemirror_mode": {
    "name": "ipython",
    "version": 3
   },
   "file_extension": ".py",
   "mimetype": "text/x-python",
   "name": "python",
   "nbconvert_exporter": "python",
   "pygments_lexer": "ipython3",
   "version": "3.7.12"
  },
  "papermill": {
   "default_parameters": {},
   "duration": 12.188517,
   "end_time": "2022-09-18T14:13:22.198526",
   "environment_variables": {},
   "exception": null,
   "input_path": "__notebook__.ipynb",
   "output_path": "__notebook__.ipynb",
   "parameters": {},
   "start_time": "2022-09-18T14:13:10.010009",
   "version": "2.3.4"
  }
 },
 "nbformat": 4,
 "nbformat_minor": 5
}

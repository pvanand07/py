{
 "cells": [
  {
   "cell_type": "code",
   "execution_count": 1,
   "id": "e29af517",
   "metadata": {
    "execution": {
     "iopub.execute_input": "2022-09-18T14:43:25.634416Z",
     "iopub.status.busy": "2022-09-18T14:43:25.633577Z",
     "iopub.status.idle": "2022-09-18T14:43:25.717275Z",
     "shell.execute_reply": "2022-09-18T14:43:25.715996Z"
    },
    "papermill": {
     "duration": 0.093654,
     "end_time": "2022-09-18T14:43:25.720151",
     "exception": false,
     "start_time": "2022-09-18T14:43:25.626497",
     "status": "completed"
    },
    "tags": []
   },
   "outputs": [
    {
     "data": {
      "text/html": [
       "<div>\n",
       "<style scoped>\n",
       "    .dataframe tbody tr th:only-of-type {\n",
       "        vertical-align: middle;\n",
       "    }\n",
       "\n",
       "    .dataframe tbody tr th {\n",
       "        vertical-align: top;\n",
       "    }\n",
       "\n",
       "    .dataframe thead th {\n",
       "        text-align: right;\n",
       "    }\n",
       "</style>\n",
       "<table border=\"1\" class=\"dataframe\">\n",
       "  <thead>\n",
       "    <tr style=\"text-align: right;\">\n",
       "      <th></th>\n",
       "      <th>v1</th>\n",
       "      <th>v2</th>\n",
       "      <th>Unnamed: 2</th>\n",
       "      <th>Unnamed: 3</th>\n",
       "      <th>Unnamed: 4</th>\n",
       "    </tr>\n",
       "  </thead>\n",
       "  <tbody>\n",
       "    <tr>\n",
       "      <th>0</th>\n",
       "      <td>ham</td>\n",
       "      <td>Go until jurong point, crazy.. Available only ...</td>\n",
       "      <td>NaN</td>\n",
       "      <td>NaN</td>\n",
       "      <td>NaN</td>\n",
       "    </tr>\n",
       "    <tr>\n",
       "      <th>1</th>\n",
       "      <td>ham</td>\n",
       "      <td>Ok lar... Joking wif u oni...</td>\n",
       "      <td>NaN</td>\n",
       "      <td>NaN</td>\n",
       "      <td>NaN</td>\n",
       "    </tr>\n",
       "    <tr>\n",
       "      <th>2</th>\n",
       "      <td>spam</td>\n",
       "      <td>Free entry in 2 a wkly comp to win FA Cup fina...</td>\n",
       "      <td>NaN</td>\n",
       "      <td>NaN</td>\n",
       "      <td>NaN</td>\n",
       "    </tr>\n",
       "    <tr>\n",
       "      <th>3</th>\n",
       "      <td>ham</td>\n",
       "      <td>U dun say so early hor... U c already then say...</td>\n",
       "      <td>NaN</td>\n",
       "      <td>NaN</td>\n",
       "      <td>NaN</td>\n",
       "    </tr>\n",
       "    <tr>\n",
       "      <th>4</th>\n",
       "      <td>ham</td>\n",
       "      <td>Nah I don't think he goes to usf, he lives aro...</td>\n",
       "      <td>NaN</td>\n",
       "      <td>NaN</td>\n",
       "      <td>NaN</td>\n",
       "    </tr>\n",
       "    <tr>\n",
       "      <th>...</th>\n",
       "      <td>...</td>\n",
       "      <td>...</td>\n",
       "      <td>...</td>\n",
       "      <td>...</td>\n",
       "      <td>...</td>\n",
       "    </tr>\n",
       "    <tr>\n",
       "      <th>5567</th>\n",
       "      <td>spam</td>\n",
       "      <td>This is the 2nd time we have tried 2 contact u...</td>\n",
       "      <td>NaN</td>\n",
       "      <td>NaN</td>\n",
       "      <td>NaN</td>\n",
       "    </tr>\n",
       "    <tr>\n",
       "      <th>5568</th>\n",
       "      <td>ham</td>\n",
       "      <td>Will Ì_ b going to esplanade fr home?</td>\n",
       "      <td>NaN</td>\n",
       "      <td>NaN</td>\n",
       "      <td>NaN</td>\n",
       "    </tr>\n",
       "    <tr>\n",
       "      <th>5569</th>\n",
       "      <td>ham</td>\n",
       "      <td>Pity, * was in mood for that. So...any other s...</td>\n",
       "      <td>NaN</td>\n",
       "      <td>NaN</td>\n",
       "      <td>NaN</td>\n",
       "    </tr>\n",
       "    <tr>\n",
       "      <th>5570</th>\n",
       "      <td>ham</td>\n",
       "      <td>The guy did some bitching but I acted like i'd...</td>\n",
       "      <td>NaN</td>\n",
       "      <td>NaN</td>\n",
       "      <td>NaN</td>\n",
       "    </tr>\n",
       "    <tr>\n",
       "      <th>5571</th>\n",
       "      <td>ham</td>\n",
       "      <td>Rofl. Its true to its name</td>\n",
       "      <td>NaN</td>\n",
       "      <td>NaN</td>\n",
       "      <td>NaN</td>\n",
       "    </tr>\n",
       "  </tbody>\n",
       "</table>\n",
       "<p>5572 rows × 5 columns</p>\n",
       "</div>"
      ],
      "text/plain": [
       "        v1                                                 v2 Unnamed: 2  \\\n",
       "0      ham  Go until jurong point, crazy.. Available only ...        NaN   \n",
       "1      ham                      Ok lar... Joking wif u oni...        NaN   \n",
       "2     spam  Free entry in 2 a wkly comp to win FA Cup fina...        NaN   \n",
       "3      ham  U dun say so early hor... U c already then say...        NaN   \n",
       "4      ham  Nah I don't think he goes to usf, he lives aro...        NaN   \n",
       "...    ...                                                ...        ...   \n",
       "5567  spam  This is the 2nd time we have tried 2 contact u...        NaN   \n",
       "5568   ham              Will Ì_ b going to esplanade fr home?        NaN   \n",
       "5569   ham  Pity, * was in mood for that. So...any other s...        NaN   \n",
       "5570   ham  The guy did some bitching but I acted like i'd...        NaN   \n",
       "5571   ham                         Rofl. Its true to its name        NaN   \n",
       "\n",
       "     Unnamed: 3 Unnamed: 4  \n",
       "0           NaN        NaN  \n",
       "1           NaN        NaN  \n",
       "2           NaN        NaN  \n",
       "3           NaN        NaN  \n",
       "4           NaN        NaN  \n",
       "...         ...        ...  \n",
       "5567        NaN        NaN  \n",
       "5568        NaN        NaN  \n",
       "5569        NaN        NaN  \n",
       "5570        NaN        NaN  \n",
       "5571        NaN        NaN  \n",
       "\n",
       "[5572 rows x 5 columns]"
      ]
     },
     "execution_count": 1,
     "metadata": {},
     "output_type": "execute_result"
    }
   ],
   "source": [
    "import pandas as pd\n",
    "df=pd.read_csv('../input/spamcsv/spam.csv',encoding='ISO-8859-1', engine='python')\n",
    "df"
   ]
  },
  {
   "cell_type": "code",
   "execution_count": 2,
   "id": "e95e1fa8",
   "metadata": {
    "execution": {
     "iopub.execute_input": "2022-09-18T14:43:25.730922Z",
     "iopub.status.busy": "2022-09-18T14:43:25.730193Z",
     "iopub.status.idle": "2022-09-18T14:43:25.793365Z",
     "shell.execute_reply": "2022-09-18T14:43:25.792035Z"
    },
    "papermill": {
     "duration": 0.071849,
     "end_time": "2022-09-18T14:43:25.796357",
     "exception": false,
     "start_time": "2022-09-18T14:43:25.724508",
     "status": "completed"
    },
    "tags": []
   },
   "outputs": [
    {
     "data": {
      "text/html": [
       "<div>\n",
       "<style scoped>\n",
       "    .dataframe tbody tr th:only-of-type {\n",
       "        vertical-align: middle;\n",
       "    }\n",
       "\n",
       "    .dataframe tbody tr th {\n",
       "        vertical-align: top;\n",
       "    }\n",
       "\n",
       "    .dataframe thead tr th {\n",
       "        text-align: left;\n",
       "    }\n",
       "\n",
       "    .dataframe thead tr:last-of-type th {\n",
       "        text-align: right;\n",
       "    }\n",
       "</style>\n",
       "<table border=\"1\" class=\"dataframe\">\n",
       "  <thead>\n",
       "    <tr>\n",
       "      <th></th>\n",
       "      <th colspan=\"4\" halign=\"left\">v2</th>\n",
       "      <th colspan=\"4\" halign=\"left\">Unnamed: 2</th>\n",
       "      <th colspan=\"4\" halign=\"left\">Unnamed: 3</th>\n",
       "      <th colspan=\"4\" halign=\"left\">Unnamed: 4</th>\n",
       "    </tr>\n",
       "    <tr>\n",
       "      <th></th>\n",
       "      <th>count</th>\n",
       "      <th>unique</th>\n",
       "      <th>top</th>\n",
       "      <th>freq</th>\n",
       "      <th>count</th>\n",
       "      <th>unique</th>\n",
       "      <th>top</th>\n",
       "      <th>freq</th>\n",
       "      <th>count</th>\n",
       "      <th>unique</th>\n",
       "      <th>top</th>\n",
       "      <th>freq</th>\n",
       "      <th>count</th>\n",
       "      <th>unique</th>\n",
       "      <th>top</th>\n",
       "      <th>freq</th>\n",
       "    </tr>\n",
       "    <tr>\n",
       "      <th>v1</th>\n",
       "      <th></th>\n",
       "      <th></th>\n",
       "      <th></th>\n",
       "      <th></th>\n",
       "      <th></th>\n",
       "      <th></th>\n",
       "      <th></th>\n",
       "      <th></th>\n",
       "      <th></th>\n",
       "      <th></th>\n",
       "      <th></th>\n",
       "      <th></th>\n",
       "      <th></th>\n",
       "      <th></th>\n",
       "      <th></th>\n",
       "      <th></th>\n",
       "    </tr>\n",
       "  </thead>\n",
       "  <tbody>\n",
       "    <tr>\n",
       "      <th>ham</th>\n",
       "      <td>4825</td>\n",
       "      <td>4516</td>\n",
       "      <td>Sorry, I'll call later</td>\n",
       "      <td>30</td>\n",
       "      <td>45</td>\n",
       "      <td>39</td>\n",
       "      <td>bt not his girlfrnd... G o o d n i g h t . . .@\"</td>\n",
       "      <td>3</td>\n",
       "      <td>10</td>\n",
       "      <td>9</td>\n",
       "      <td>GE</td>\n",
       "      <td>2</td>\n",
       "      <td>6</td>\n",
       "      <td>5</td>\n",
       "      <td>GNT:-)\"</td>\n",
       "      <td>2</td>\n",
       "    </tr>\n",
       "    <tr>\n",
       "      <th>spam</th>\n",
       "      <td>747</td>\n",
       "      <td>653</td>\n",
       "      <td>Please call our customer service representativ...</td>\n",
       "      <td>4</td>\n",
       "      <td>5</td>\n",
       "      <td>4</td>\n",
       "      <td>PO Box 5249</td>\n",
       "      <td>2</td>\n",
       "      <td>2</td>\n",
       "      <td>1</td>\n",
       "      <td>MK17 92H. 450Ppw 16\"</td>\n",
       "      <td>2</td>\n",
       "      <td>0</td>\n",
       "      <td>0</td>\n",
       "      <td>NaN</td>\n",
       "      <td>NaN</td>\n",
       "    </tr>\n",
       "  </tbody>\n",
       "</table>\n",
       "</div>"
      ],
      "text/plain": [
       "        v2                                                                 \\\n",
       "     count unique                                                top freq   \n",
       "v1                                                                          \n",
       "ham   4825   4516                             Sorry, I'll call later   30   \n",
       "spam   747    653  Please call our customer service representativ...    4   \n",
       "\n",
       "     Unnamed: 2                                                            \\\n",
       "          count unique                                                top   \n",
       "v1                                                                          \n",
       "ham          45     39   bt not his girlfrnd... G o o d n i g h t . . .@\"   \n",
       "spam          5      4                                        PO Box 5249   \n",
       "\n",
       "          Unnamed: 3                                    Unnamed: 4         \\\n",
       "     freq      count unique                    top freq      count unique   \n",
       "v1                                                                          \n",
       "ham     3         10      9                     GE    2          6      5   \n",
       "spam    2          2      1   MK17 92H. 450Ppw 16\"    2          0      0   \n",
       "\n",
       "                    \n",
       "          top freq  \n",
       "v1                  \n",
       "ham   GNT:-)\"    2  \n",
       "spam      NaN  NaN  "
      ]
     },
     "execution_count": 2,
     "metadata": {},
     "output_type": "execute_result"
    }
   ],
   "source": [
    "df.groupby('v1').describe()"
   ]
  },
  {
   "cell_type": "code",
   "execution_count": 3,
   "id": "b892119b",
   "metadata": {
    "execution": {
     "iopub.execute_input": "2022-09-18T14:43:25.807656Z",
     "iopub.status.busy": "2022-09-18T14:43:25.807244Z",
     "iopub.status.idle": "2022-09-18T14:43:25.821890Z",
     "shell.execute_reply": "2022-09-18T14:43:25.820699Z"
    },
    "papermill": {
     "duration": 0.022823,
     "end_time": "2022-09-18T14:43:25.824302",
     "exception": false,
     "start_time": "2022-09-18T14:43:25.801479",
     "status": "completed"
    },
    "tags": []
   },
   "outputs": [
    {
     "data": {
      "text/plain": [
       "0       0\n",
       "1       0\n",
       "2       1\n",
       "3       0\n",
       "4       0\n",
       "       ..\n",
       "5567    1\n",
       "5568    0\n",
       "5569    0\n",
       "5570    0\n",
       "5571    0\n",
       "Name: spam, Length: 5572, dtype: int64"
      ]
     },
     "execution_count": 3,
     "metadata": {},
     "output_type": "execute_result"
    }
   ],
   "source": [
    "df['spam']=df.v1.apply(lambda x: 1 if x=='spam' else 0)\n",
    "df['spam']"
   ]
  },
  {
   "cell_type": "code",
   "execution_count": 4,
   "id": "fddbd2f4",
   "metadata": {
    "execution": {
     "iopub.execute_input": "2022-09-18T14:43:25.836465Z",
     "iopub.status.busy": "2022-09-18T14:43:25.835352Z",
     "iopub.status.idle": "2022-09-18T14:43:27.245468Z",
     "shell.execute_reply": "2022-09-18T14:43:27.243358Z"
    },
    "papermill": {
     "duration": 1.419992,
     "end_time": "2022-09-18T14:43:27.249132",
     "exception": false,
     "start_time": "2022-09-18T14:43:25.829140",
     "status": "completed"
    },
    "tags": []
   },
   "outputs": [
    {
     "data": {
      "text/plain": [
       "array([[1, 0],\n",
       "       [0, 1]])"
      ]
     },
     "execution_count": 4,
     "metadata": {},
     "output_type": "execute_result"
    }
   ],
   "source": [
    "from sklearn.model_selection import train_test_split\n",
    "X_train, X_test, y_train, y_test = train_test_split(df.v1,df.spam)\n",
    "from sklearn.feature_extraction.text import CountVectorizer\n",
    "v=CountVectorizer()\n",
    "X_train_count=v.fit_transform(X_train.values)\n",
    "X_train_count.toarray()[:2]"
   ]
  },
  {
   "cell_type": "code",
   "execution_count": 5,
   "id": "67701a35",
   "metadata": {
    "execution": {
     "iopub.execute_input": "2022-09-18T14:43:27.265588Z",
     "iopub.status.busy": "2022-09-18T14:43:27.265175Z",
     "iopub.status.idle": "2022-09-18T14:43:27.290579Z",
     "shell.execute_reply": "2022-09-18T14:43:27.288848Z"
    },
    "papermill": {
     "duration": 0.037197,
     "end_time": "2022-09-18T14:43:27.293851",
     "exception": false,
     "start_time": "2022-09-18T14:43:27.256654",
     "status": "completed"
    },
    "tags": []
   },
   "outputs": [
    {
     "data": {
      "text/plain": [
       "1.0"
      ]
     },
     "execution_count": 5,
     "metadata": {},
     "output_type": "execute_result"
    }
   ],
   "source": [
    "from sklearn.naive_bayes import MultinomialNB\n",
    "model=MultinomialNB()\n",
    "model.fit(X_train_count,y_train)\n",
    "X_test_count=v.fit_transform(X_test.values)\n",
    "X_test_count.toarray()[:2]\n",
    "model.score(X_test_count,y_test)"
   ]
  },
  {
   "cell_type": "code",
   "execution_count": 6,
   "id": "0ec3c151",
   "metadata": {
    "execution": {
     "iopub.execute_input": "2022-09-18T14:43:27.305322Z",
     "iopub.status.busy": "2022-09-18T14:43:27.304858Z",
     "iopub.status.idle": "2022-09-18T14:43:27.314797Z",
     "shell.execute_reply": "2022-09-18T14:43:27.313532Z"
    },
    "papermill": {
     "duration": 0.018641,
     "end_time": "2022-09-18T14:43:27.317295",
     "exception": false,
     "start_time": "2022-09-18T14:43:27.298654",
     "status": "completed"
    },
    "tags": []
   },
   "outputs": [
    {
     "data": {
      "text/plain": [
       "array([0, 0])"
      ]
     },
     "execution_count": 6,
     "metadata": {},
     "output_type": "execute_result"
    }
   ],
   "source": [
    "emails = [\n",
    "    'Hey mohan, can we get together to watch footbal game tomorrow?',\n",
    "    'Upto 20% discount on parking, exclusive offer just for you. Dont miss this reward!'\n",
    "]\n",
    "emails_count = v.transform(emails)\n",
    "model.predict(emails_count)"
   ]
  },
  {
   "cell_type": "code",
   "execution_count": 7,
   "id": "a02bd495",
   "metadata": {
    "execution": {
     "iopub.execute_input": "2022-09-18T14:43:27.328732Z",
     "iopub.status.busy": "2022-09-18T14:43:27.328347Z",
     "iopub.status.idle": "2022-09-18T14:43:27.337457Z",
     "shell.execute_reply": "2022-09-18T14:43:27.335955Z"
    },
    "papermill": {
     "duration": 0.018259,
     "end_time": "2022-09-18T14:43:27.340436",
     "exception": false,
     "start_time": "2022-09-18T14:43:27.322177",
     "status": "completed"
    },
    "tags": []
   },
   "outputs": [],
   "source": [
    "from sklearn.pipeline import Pipeline\n",
    "clf = Pipeline([\n",
    "        ('vecorize',CountVectorizer()),\n",
    "        ('nb',MultinomialNB())\n",
    "])"
   ]
  },
  {
   "cell_type": "code",
   "execution_count": 8,
   "id": "54c27798",
   "metadata": {
    "execution": {
     "iopub.execute_input": "2022-09-18T14:43:27.353296Z",
     "iopub.status.busy": "2022-09-18T14:43:27.352243Z",
     "iopub.status.idle": "2022-09-18T14:43:27.383727Z",
     "shell.execute_reply": "2022-09-18T14:43:27.382466Z"
    },
    "papermill": {
     "duration": 0.040877,
     "end_time": "2022-09-18T14:43:27.386426",
     "exception": false,
     "start_time": "2022-09-18T14:43:27.345549",
     "status": "completed"
    },
    "tags": []
   },
   "outputs": [
    {
     "data": {
      "text/plain": [
       "Pipeline(steps=[('vecorize', CountVectorizer()), ('nb', MultinomialNB())])"
      ]
     },
     "execution_count": 8,
     "metadata": {},
     "output_type": "execute_result"
    }
   ],
   "source": [
    "clf.fit(X_train, y_train)"
   ]
  },
  {
   "cell_type": "code",
   "execution_count": 9,
   "id": "ac4156db",
   "metadata": {
    "execution": {
     "iopub.execute_input": "2022-09-18T14:43:27.400167Z",
     "iopub.status.busy": "2022-09-18T14:43:27.398641Z",
     "iopub.status.idle": "2022-09-18T14:43:27.414956Z",
     "shell.execute_reply": "2022-09-18T14:43:27.413331Z"
    },
    "papermill": {
     "duration": 0.026582,
     "end_time": "2022-09-18T14:43:27.418184",
     "exception": false,
     "start_time": "2022-09-18T14:43:27.391602",
     "status": "completed"
    },
    "tags": []
   },
   "outputs": [
    {
     "data": {
      "text/plain": [
       "1.0"
      ]
     },
     "execution_count": 9,
     "metadata": {},
     "output_type": "execute_result"
    }
   ],
   "source": [
    "clf.score(X_test, y_test)"
   ]
  },
  {
   "cell_type": "code",
   "execution_count": 10,
   "id": "fdd3c064",
   "metadata": {
    "execution": {
     "iopub.execute_input": "2022-09-18T14:43:27.430364Z",
     "iopub.status.busy": "2022-09-18T14:43:27.429919Z",
     "iopub.status.idle": "2022-09-18T14:43:27.439451Z",
     "shell.execute_reply": "2022-09-18T14:43:27.438046Z"
    },
    "papermill": {
     "duration": 0.018895,
     "end_time": "2022-09-18T14:43:27.442203",
     "exception": false,
     "start_time": "2022-09-18T14:43:27.423308",
     "status": "completed"
    },
    "tags": []
   },
   "outputs": [
    {
     "data": {
      "text/plain": [
       "array([0, 0])"
      ]
     },
     "execution_count": 10,
     "metadata": {},
     "output_type": "execute_result"
    }
   ],
   "source": [
    "clf.predict(emails)"
   ]
  },
  {
   "cell_type": "code",
   "execution_count": 11,
   "id": "38ad033a",
   "metadata": {
    "execution": {
     "iopub.execute_input": "2022-09-18T14:43:27.454812Z",
     "iopub.status.busy": "2022-09-18T14:43:27.454385Z",
     "iopub.status.idle": "2022-09-18T14:43:27.475211Z",
     "shell.execute_reply": "2022-09-18T14:43:27.473425Z"
    },
    "papermill": {
     "duration": 0.030685,
     "end_time": "2022-09-18T14:43:27.478582",
     "exception": false,
     "start_time": "2022-09-18T14:43:27.447897",
     "status": "completed"
    },
    "tags": []
   },
   "outputs": [
    {
     "name": "stdout",
     "output_type": "stream",
     "text": [
      "              precision    recall  f1-score   support\n",
      "\n",
      "           0       1.00      1.00      1.00      1211\n",
      "           1       1.00      1.00      1.00       182\n",
      "\n",
      "    accuracy                           1.00      1393\n",
      "   macro avg       1.00      1.00      1.00      1393\n",
      "weighted avg       1.00      1.00      1.00      1393\n",
      "\n"
     ]
    }
   ],
   "source": [
    "y_pred = clf.predict(X_test)\n",
    "from sklearn.metrics import classification_report\n",
    "print(classification_report(y_test,y_pred))"
   ]
  },
  {
   "cell_type": "code",
   "execution_count": 12,
   "id": "ec18b712",
   "metadata": {
    "execution": {
     "iopub.execute_input": "2022-09-18T14:43:27.491585Z",
     "iopub.status.busy": "2022-09-18T14:43:27.491206Z",
     "iopub.status.idle": "2022-09-18T14:43:27.628361Z",
     "shell.execute_reply": "2022-09-18T14:43:27.626250Z"
    },
    "papermill": {
     "duration": 0.148551,
     "end_time": "2022-09-18T14:43:27.632807",
     "exception": false,
     "start_time": "2022-09-18T14:43:27.484256",
     "status": "completed"
    },
    "tags": []
   },
   "outputs": [
    {
     "name": "stdout",
     "output_type": "stream",
     "text": [
      "Accuracy using Cross Validation is : 100.0  %\n"
     ]
    }
   ],
   "source": [
    "import numpy as np\n",
    "from sklearn.model_selection import KFold, cross_val_score\n",
    "kfold = KFold(n_splits=5,shuffle=True)\n",
    "print(\"Accuracy using Cross Validation is :\",np.mean(cross_val_score(clf,df.v1,df.spam,cv=kfold,scoring=\"accuracy\"))*100,\" %\")"
   ]
  }
 ],
 "metadata": {
  "kernelspec": {
   "display_name": "Python 3",
   "language": "python",
   "name": "python3"
  },
  "language_info": {
   "codemirror_mode": {
    "name": "ipython",
    "version": 3
   },
   "file_extension": ".py",
   "mimetype": "text/x-python",
   "name": "python",
   "nbconvert_exporter": "python",
   "pygments_lexer": "ipython3",
   "version": "3.7.12"
  },
  "papermill": {
   "default_parameters": {},
   "duration": 13.97772,
   "end_time": "2022-09-18T14:43:28.464381",
   "environment_variables": {},
   "exception": null,
   "input_path": "__notebook__.ipynb",
   "output_path": "__notebook__.ipynb",
   "parameters": {},
   "start_time": "2022-09-18T14:43:14.486661",
   "version": "2.3.4"
  }
 },
 "nbformat": 4,
 "nbformat_minor": 5
}

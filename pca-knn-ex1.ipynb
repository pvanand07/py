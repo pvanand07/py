{
 "cells": [
  {
   "cell_type": "code",
   "execution_count": 1,
   "id": "f1e2f583",
   "metadata": {
    "_cell_guid": "b1076dfc-b9ad-4769-8c92-a6c4dae69d19",
    "_uuid": "8f2839f25d086af736a60e9eeb907d3b93b6e0e5",
    "execution": {
     "iopub.execute_input": "2022-09-20T10:50:54.874586Z",
     "iopub.status.busy": "2022-09-20T10:50:54.873929Z",
     "iopub.status.idle": "2022-09-20T10:50:54.886738Z",
     "shell.execute_reply": "2022-09-20T10:50:54.885661Z"
    },
    "papermill": {
     "duration": 0.023983,
     "end_time": "2022-09-20T10:50:54.889580",
     "exception": false,
     "start_time": "2022-09-20T10:50:54.865597",
     "status": "completed"
    },
    "tags": []
   },
   "outputs": [],
   "source": [
    "# This Python 3 environment comes with many helpful analytics libraries installed\n",
    "# It is defined by the kaggle/python Docker image: https://github.com/kaggle/docker-python\n",
    "# For example, here's several helpful packages to load\n",
    "\n",
    "import numpy as np # linear algebra\n",
    "import pandas as pd # data processing, CSV file I/O (e.g. pd.read_csv)\n",
    "\n",
    "# Input data files are available in the read-only \"../input/\" directory\n",
    "# For example, running this (by clicking run or pressing Shift+Enter) will list all files under the input directory\n",
    "\n",
    "import os\n",
    "for dirname, _, filenames in os.walk('/kaggle/input'):\n",
    "    for filename in filenames:\n",
    "        print(os.path.join(dirname, filename))\n",
    "\n",
    "# You can write up to 20GB to the current directory (/kaggle/working/) that gets preserved as output when you create a version using \"Save & Run All\" \n",
    "# You can also write temporary files to /kaggle/temp/, but they won't be saved outside of the current session"
   ]
  },
  {
   "cell_type": "code",
   "execution_count": 2,
   "id": "5b4eab70",
   "metadata": {
    "execution": {
     "iopub.execute_input": "2022-09-20T10:50:54.902427Z",
     "iopub.status.busy": "2022-09-20T10:50:54.901758Z",
     "iopub.status.idle": "2022-09-20T10:50:56.079788Z",
     "shell.execute_reply": "2022-09-20T10:50:56.078650Z"
    },
    "papermill": {
     "duration": 1.187201,
     "end_time": "2022-09-20T10:50:56.082525",
     "exception": false,
     "start_time": "2022-09-20T10:50:54.895324",
     "status": "completed"
    },
    "tags": []
   },
   "outputs": [],
   "source": [
    "import pandas as pd\n",
    "from sklearn.datasets import load_digits"
   ]
  },
  {
   "cell_type": "code",
   "execution_count": 3,
   "id": "12bfd767",
   "metadata": {
    "execution": {
     "iopub.execute_input": "2022-09-20T10:50:56.095067Z",
     "iopub.status.busy": "2022-09-20T10:50:56.094583Z",
     "iopub.status.idle": "2022-09-20T10:50:56.390786Z",
     "shell.execute_reply": "2022-09-20T10:50:56.389010Z"
    },
    "papermill": {
     "duration": 0.305568,
     "end_time": "2022-09-20T10:50:56.393626",
     "exception": false,
     "start_time": "2022-09-20T10:50:56.088058",
     "status": "completed"
    },
    "tags": []
   },
   "outputs": [
    {
     "data": {
      "text/html": [
       "<div>\n",
       "<style scoped>\n",
       "    .dataframe tbody tr th:only-of-type {\n",
       "        vertical-align: middle;\n",
       "    }\n",
       "\n",
       "    .dataframe tbody tr th {\n",
       "        vertical-align: top;\n",
       "    }\n",
       "\n",
       "    .dataframe thead th {\n",
       "        text-align: right;\n",
       "    }\n",
       "</style>\n",
       "<table border=\"1\" class=\"dataframe\">\n",
       "  <thead>\n",
       "    <tr style=\"text-align: right;\">\n",
       "      <th></th>\n",
       "      <th>pixel_0_0</th>\n",
       "      <th>pixel_0_1</th>\n",
       "      <th>pixel_0_2</th>\n",
       "      <th>pixel_0_3</th>\n",
       "      <th>pixel_0_4</th>\n",
       "      <th>pixel_0_5</th>\n",
       "      <th>pixel_0_6</th>\n",
       "      <th>pixel_0_7</th>\n",
       "      <th>pixel_1_0</th>\n",
       "      <th>pixel_1_1</th>\n",
       "      <th>...</th>\n",
       "      <th>pixel_6_7</th>\n",
       "      <th>pixel_7_0</th>\n",
       "      <th>pixel_7_1</th>\n",
       "      <th>pixel_7_2</th>\n",
       "      <th>pixel_7_3</th>\n",
       "      <th>pixel_7_4</th>\n",
       "      <th>pixel_7_5</th>\n",
       "      <th>pixel_7_6</th>\n",
       "      <th>pixel_7_7</th>\n",
       "      <th>target</th>\n",
       "    </tr>\n",
       "  </thead>\n",
       "  <tbody>\n",
       "    <tr>\n",
       "      <th>count</th>\n",
       "      <td>1797.0</td>\n",
       "      <td>1797.000000</td>\n",
       "      <td>1797.000000</td>\n",
       "      <td>1797.000000</td>\n",
       "      <td>1797.000000</td>\n",
       "      <td>1797.000000</td>\n",
       "      <td>1797.000000</td>\n",
       "      <td>1797.000000</td>\n",
       "      <td>1797.000000</td>\n",
       "      <td>1797.000000</td>\n",
       "      <td>...</td>\n",
       "      <td>1797.000000</td>\n",
       "      <td>1797.000000</td>\n",
       "      <td>1797.000000</td>\n",
       "      <td>1797.000000</td>\n",
       "      <td>1797.000000</td>\n",
       "      <td>1797.000000</td>\n",
       "      <td>1797.000000</td>\n",
       "      <td>1797.000000</td>\n",
       "      <td>1797.000000</td>\n",
       "      <td>1797.000000</td>\n",
       "    </tr>\n",
       "    <tr>\n",
       "      <th>mean</th>\n",
       "      <td>0.0</td>\n",
       "      <td>0.303840</td>\n",
       "      <td>5.204786</td>\n",
       "      <td>11.835838</td>\n",
       "      <td>11.848080</td>\n",
       "      <td>5.781859</td>\n",
       "      <td>1.362270</td>\n",
       "      <td>0.129661</td>\n",
       "      <td>0.005565</td>\n",
       "      <td>1.993879</td>\n",
       "      <td>...</td>\n",
       "      <td>0.206455</td>\n",
       "      <td>0.000556</td>\n",
       "      <td>0.279354</td>\n",
       "      <td>5.557596</td>\n",
       "      <td>12.089037</td>\n",
       "      <td>11.809126</td>\n",
       "      <td>6.764051</td>\n",
       "      <td>2.067891</td>\n",
       "      <td>0.364496</td>\n",
       "      <td>4.490818</td>\n",
       "    </tr>\n",
       "    <tr>\n",
       "      <th>std</th>\n",
       "      <td>0.0</td>\n",
       "      <td>0.907192</td>\n",
       "      <td>4.754826</td>\n",
       "      <td>4.248842</td>\n",
       "      <td>4.287388</td>\n",
       "      <td>5.666418</td>\n",
       "      <td>3.325775</td>\n",
       "      <td>1.037383</td>\n",
       "      <td>0.094222</td>\n",
       "      <td>3.196160</td>\n",
       "      <td>...</td>\n",
       "      <td>0.984401</td>\n",
       "      <td>0.023590</td>\n",
       "      <td>0.934302</td>\n",
       "      <td>5.103019</td>\n",
       "      <td>4.374694</td>\n",
       "      <td>4.933947</td>\n",
       "      <td>5.900623</td>\n",
       "      <td>4.090548</td>\n",
       "      <td>1.860122</td>\n",
       "      <td>2.865304</td>\n",
       "    </tr>\n",
       "    <tr>\n",
       "      <th>min</th>\n",
       "      <td>0.0</td>\n",
       "      <td>0.000000</td>\n",
       "      <td>0.000000</td>\n",
       "      <td>0.000000</td>\n",
       "      <td>0.000000</td>\n",
       "      <td>0.000000</td>\n",
       "      <td>0.000000</td>\n",
       "      <td>0.000000</td>\n",
       "      <td>0.000000</td>\n",
       "      <td>0.000000</td>\n",
       "      <td>...</td>\n",
       "      <td>0.000000</td>\n",
       "      <td>0.000000</td>\n",
       "      <td>0.000000</td>\n",
       "      <td>0.000000</td>\n",
       "      <td>0.000000</td>\n",
       "      <td>0.000000</td>\n",
       "      <td>0.000000</td>\n",
       "      <td>0.000000</td>\n",
       "      <td>0.000000</td>\n",
       "      <td>0.000000</td>\n",
       "    </tr>\n",
       "    <tr>\n",
       "      <th>25%</th>\n",
       "      <td>0.0</td>\n",
       "      <td>0.000000</td>\n",
       "      <td>1.000000</td>\n",
       "      <td>10.000000</td>\n",
       "      <td>10.000000</td>\n",
       "      <td>0.000000</td>\n",
       "      <td>0.000000</td>\n",
       "      <td>0.000000</td>\n",
       "      <td>0.000000</td>\n",
       "      <td>0.000000</td>\n",
       "      <td>...</td>\n",
       "      <td>0.000000</td>\n",
       "      <td>0.000000</td>\n",
       "      <td>0.000000</td>\n",
       "      <td>1.000000</td>\n",
       "      <td>11.000000</td>\n",
       "      <td>10.000000</td>\n",
       "      <td>0.000000</td>\n",
       "      <td>0.000000</td>\n",
       "      <td>0.000000</td>\n",
       "      <td>2.000000</td>\n",
       "    </tr>\n",
       "    <tr>\n",
       "      <th>50%</th>\n",
       "      <td>0.0</td>\n",
       "      <td>0.000000</td>\n",
       "      <td>4.000000</td>\n",
       "      <td>13.000000</td>\n",
       "      <td>13.000000</td>\n",
       "      <td>4.000000</td>\n",
       "      <td>0.000000</td>\n",
       "      <td>0.000000</td>\n",
       "      <td>0.000000</td>\n",
       "      <td>0.000000</td>\n",
       "      <td>...</td>\n",
       "      <td>0.000000</td>\n",
       "      <td>0.000000</td>\n",
       "      <td>0.000000</td>\n",
       "      <td>4.000000</td>\n",
       "      <td>13.000000</td>\n",
       "      <td>14.000000</td>\n",
       "      <td>6.000000</td>\n",
       "      <td>0.000000</td>\n",
       "      <td>0.000000</td>\n",
       "      <td>4.000000</td>\n",
       "    </tr>\n",
       "    <tr>\n",
       "      <th>75%</th>\n",
       "      <td>0.0</td>\n",
       "      <td>0.000000</td>\n",
       "      <td>9.000000</td>\n",
       "      <td>15.000000</td>\n",
       "      <td>15.000000</td>\n",
       "      <td>11.000000</td>\n",
       "      <td>0.000000</td>\n",
       "      <td>0.000000</td>\n",
       "      <td>0.000000</td>\n",
       "      <td>3.000000</td>\n",
       "      <td>...</td>\n",
       "      <td>0.000000</td>\n",
       "      <td>0.000000</td>\n",
       "      <td>0.000000</td>\n",
       "      <td>10.000000</td>\n",
       "      <td>16.000000</td>\n",
       "      <td>16.000000</td>\n",
       "      <td>12.000000</td>\n",
       "      <td>2.000000</td>\n",
       "      <td>0.000000</td>\n",
       "      <td>7.000000</td>\n",
       "    </tr>\n",
       "    <tr>\n",
       "      <th>max</th>\n",
       "      <td>0.0</td>\n",
       "      <td>8.000000</td>\n",
       "      <td>16.000000</td>\n",
       "      <td>16.000000</td>\n",
       "      <td>16.000000</td>\n",
       "      <td>16.000000</td>\n",
       "      <td>16.000000</td>\n",
       "      <td>15.000000</td>\n",
       "      <td>2.000000</td>\n",
       "      <td>16.000000</td>\n",
       "      <td>...</td>\n",
       "      <td>13.000000</td>\n",
       "      <td>1.000000</td>\n",
       "      <td>9.000000</td>\n",
       "      <td>16.000000</td>\n",
       "      <td>16.000000</td>\n",
       "      <td>16.000000</td>\n",
       "      <td>16.000000</td>\n",
       "      <td>16.000000</td>\n",
       "      <td>16.000000</td>\n",
       "      <td>9.000000</td>\n",
       "    </tr>\n",
       "  </tbody>\n",
       "</table>\n",
       "<p>8 rows × 65 columns</p>\n",
       "</div>"
      ],
      "text/plain": [
       "       pixel_0_0    pixel_0_1    pixel_0_2    pixel_0_3    pixel_0_4  \\\n",
       "count     1797.0  1797.000000  1797.000000  1797.000000  1797.000000   \n",
       "mean         0.0     0.303840     5.204786    11.835838    11.848080   \n",
       "std          0.0     0.907192     4.754826     4.248842     4.287388   \n",
       "min          0.0     0.000000     0.000000     0.000000     0.000000   \n",
       "25%          0.0     0.000000     1.000000    10.000000    10.000000   \n",
       "50%          0.0     0.000000     4.000000    13.000000    13.000000   \n",
       "75%          0.0     0.000000     9.000000    15.000000    15.000000   \n",
       "max          0.0     8.000000    16.000000    16.000000    16.000000   \n",
       "\n",
       "         pixel_0_5    pixel_0_6    pixel_0_7    pixel_1_0    pixel_1_1  ...  \\\n",
       "count  1797.000000  1797.000000  1797.000000  1797.000000  1797.000000  ...   \n",
       "mean      5.781859     1.362270     0.129661     0.005565     1.993879  ...   \n",
       "std       5.666418     3.325775     1.037383     0.094222     3.196160  ...   \n",
       "min       0.000000     0.000000     0.000000     0.000000     0.000000  ...   \n",
       "25%       0.000000     0.000000     0.000000     0.000000     0.000000  ...   \n",
       "50%       4.000000     0.000000     0.000000     0.000000     0.000000  ...   \n",
       "75%      11.000000     0.000000     0.000000     0.000000     3.000000  ...   \n",
       "max      16.000000    16.000000    15.000000     2.000000    16.000000  ...   \n",
       "\n",
       "         pixel_6_7    pixel_7_0    pixel_7_1    pixel_7_2    pixel_7_3  \\\n",
       "count  1797.000000  1797.000000  1797.000000  1797.000000  1797.000000   \n",
       "mean      0.206455     0.000556     0.279354     5.557596    12.089037   \n",
       "std       0.984401     0.023590     0.934302     5.103019     4.374694   \n",
       "min       0.000000     0.000000     0.000000     0.000000     0.000000   \n",
       "25%       0.000000     0.000000     0.000000     1.000000    11.000000   \n",
       "50%       0.000000     0.000000     0.000000     4.000000    13.000000   \n",
       "75%       0.000000     0.000000     0.000000    10.000000    16.000000   \n",
       "max      13.000000     1.000000     9.000000    16.000000    16.000000   \n",
       "\n",
       "         pixel_7_4    pixel_7_5    pixel_7_6    pixel_7_7       target  \n",
       "count  1797.000000  1797.000000  1797.000000  1797.000000  1797.000000  \n",
       "mean     11.809126     6.764051     2.067891     0.364496     4.490818  \n",
       "std       4.933947     5.900623     4.090548     1.860122     2.865304  \n",
       "min       0.000000     0.000000     0.000000     0.000000     0.000000  \n",
       "25%      10.000000     0.000000     0.000000     0.000000     2.000000  \n",
       "50%      14.000000     6.000000     0.000000     0.000000     4.000000  \n",
       "75%      16.000000    12.000000     2.000000     0.000000     7.000000  \n",
       "max      16.000000    16.000000    16.000000    16.000000     9.000000  \n",
       "\n",
       "[8 rows x 65 columns]"
      ]
     },
     "execution_count": 3,
     "metadata": {},
     "output_type": "execute_result"
    }
   ],
   "source": [
    "digits=load_digits()\n",
    "df = pd.DataFrame(digits.data,columns=digits.feature_names)\n",
    "df['target']=digits.target\n",
    "df.describe()"
   ]
  },
  {
   "cell_type": "code",
   "execution_count": 4,
   "id": "085ac5fe",
   "metadata": {
    "execution": {
     "iopub.execute_input": "2022-09-20T10:50:56.406975Z",
     "iopub.status.busy": "2022-09-20T10:50:56.406500Z",
     "iopub.status.idle": "2022-09-20T10:50:56.471081Z",
     "shell.execute_reply": "2022-09-20T10:50:56.469654Z"
    },
    "papermill": {
     "duration": 0.074663,
     "end_time": "2022-09-20T10:50:56.474038",
     "exception": false,
     "start_time": "2022-09-20T10:50:56.399375",
     "status": "completed"
    },
    "tags": []
   },
   "outputs": [],
   "source": [
    "from sklearn.model_selection import train_test_split"
   ]
  },
  {
   "cell_type": "code",
   "execution_count": 5,
   "id": "d837aef1",
   "metadata": {
    "execution": {
     "iopub.execute_input": "2022-09-20T10:50:56.487461Z",
     "iopub.status.busy": "2022-09-20T10:50:56.486999Z",
     "iopub.status.idle": "2022-09-20T10:50:56.494703Z",
     "shell.execute_reply": "2022-09-20T10:50:56.493321Z"
    },
    "papermill": {
     "duration": 0.017669,
     "end_time": "2022-09-20T10:50:56.497407",
     "exception": false,
     "start_time": "2022-09-20T10:50:56.479738",
     "status": "completed"
    },
    "tags": []
   },
   "outputs": [],
   "source": [
    "X = df.drop(['target'], axis='columns')\n",
    "y = df.target"
   ]
  },
  {
   "cell_type": "code",
   "execution_count": 6,
   "id": "6bb8b9f8",
   "metadata": {
    "execution": {
     "iopub.execute_input": "2022-09-20T10:50:56.510763Z",
     "iopub.status.busy": "2022-09-20T10:50:56.510362Z",
     "iopub.status.idle": "2022-09-20T10:50:56.522345Z",
     "shell.execute_reply": "2022-09-20T10:50:56.520926Z"
    },
    "papermill": {
     "duration": 0.022119,
     "end_time": "2022-09-20T10:50:56.525303",
     "exception": false,
     "start_time": "2022-09-20T10:50:56.503184",
     "status": "completed"
    },
    "tags": []
   },
   "outputs": [],
   "source": [
    "from sklearn.preprocessing import StandardScaler\n",
    "scaler = StandardScaler()\n",
    "X=scaler.fit_transform(X)"
   ]
  },
  {
   "cell_type": "code",
   "execution_count": 7,
   "id": "6279ec1b",
   "metadata": {
    "execution": {
     "iopub.execute_input": "2022-09-20T10:50:56.538520Z",
     "iopub.status.busy": "2022-09-20T10:50:56.538117Z",
     "iopub.status.idle": "2022-09-20T10:50:56.545414Z",
     "shell.execute_reply": "2022-09-20T10:50:56.544279Z"
    },
    "papermill": {
     "duration": 0.017405,
     "end_time": "2022-09-20T10:50:56.548461",
     "exception": false,
     "start_time": "2022-09-20T10:50:56.531056",
     "status": "completed"
    },
    "tags": []
   },
   "outputs": [],
   "source": [
    "X_train, X_test, y_train, y_test = train_test_split(X, y, test_size=0.2, random_state=1)"
   ]
  },
  {
   "cell_type": "code",
   "execution_count": 8,
   "id": "bb0d27ff",
   "metadata": {
    "execution": {
     "iopub.execute_input": "2022-09-20T10:50:56.561610Z",
     "iopub.status.busy": "2022-09-20T10:50:56.561207Z",
     "iopub.status.idle": "2022-09-20T10:50:56.706658Z",
     "shell.execute_reply": "2022-09-20T10:50:56.705576Z"
    },
    "papermill": {
     "duration": 0.155244,
     "end_time": "2022-09-20T10:50:56.709244",
     "exception": false,
     "start_time": "2022-09-20T10:50:56.554000",
     "status": "completed"
    },
    "tags": []
   },
   "outputs": [],
   "source": [
    "from sklearn.neighbors import KNeighborsClassifier\n",
    "knn=KNeighborsClassifier(n_neighbors=10)"
   ]
  },
  {
   "cell_type": "code",
   "execution_count": 9,
   "id": "ef29a489",
   "metadata": {
    "execution": {
     "iopub.execute_input": "2022-09-20T10:50:56.722636Z",
     "iopub.status.busy": "2022-09-20T10:50:56.721982Z",
     "iopub.status.idle": "2022-09-20T10:50:56.732593Z",
     "shell.execute_reply": "2022-09-20T10:50:56.731297Z"
    },
    "papermill": {
     "duration": 0.020282,
     "end_time": "2022-09-20T10:50:56.735172",
     "exception": false,
     "start_time": "2022-09-20T10:50:56.714890",
     "status": "completed"
    },
    "tags": []
   },
   "outputs": [
    {
     "data": {
      "text/plain": [
       "KNeighborsClassifier(n_neighbors=10)"
      ]
     },
     "execution_count": 9,
     "metadata": {},
     "output_type": "execute_result"
    }
   ],
   "source": [
    "knn.fit(X_train,y_train)"
   ]
  },
  {
   "cell_type": "code",
   "execution_count": 10,
   "id": "30faae3e",
   "metadata": {
    "execution": {
     "iopub.execute_input": "2022-09-20T10:50:56.749028Z",
     "iopub.status.busy": "2022-09-20T10:50:56.747844Z",
     "iopub.status.idle": "2022-09-20T10:50:56.808876Z",
     "shell.execute_reply": "2022-09-20T10:50:56.807568Z"
    },
    "papermill": {
     "duration": 0.071476,
     "end_time": "2022-09-20T10:50:56.812441",
     "exception": false,
     "start_time": "2022-09-20T10:50:56.740965",
     "status": "completed"
    },
    "tags": []
   },
   "outputs": [
    {
     "data": {
      "text/plain": [
       "0.9833333333333333"
      ]
     },
     "execution_count": 10,
     "metadata": {},
     "output_type": "execute_result"
    }
   ],
   "source": [
    "knn.score(X_test,y_test)"
   ]
  },
  {
   "cell_type": "code",
   "execution_count": 11,
   "id": "c5ade806",
   "metadata": {
    "execution": {
     "iopub.execute_input": "2022-09-20T10:50:56.836033Z",
     "iopub.status.busy": "2022-09-20T10:50:56.835457Z",
     "iopub.status.idle": "2022-09-20T10:50:56.872359Z",
     "shell.execute_reply": "2022-09-20T10:50:56.871047Z"
    },
    "papermill": {
     "duration": 0.051421,
     "end_time": "2022-09-20T10:50:56.875876",
     "exception": false,
     "start_time": "2022-09-20T10:50:56.824455",
     "status": "completed"
    },
    "tags": []
   },
   "outputs": [],
   "source": [
    "import numpy as np\n",
    "from sklearn.decomposition import PCA\n",
    "pca = PCA(0.95)\n",
    "X_pca=pca.fit_transform(X)"
   ]
  },
  {
   "cell_type": "code",
   "execution_count": 12,
   "id": "9e76a057",
   "metadata": {
    "execution": {
     "iopub.execute_input": "2022-09-20T10:50:56.897072Z",
     "iopub.status.busy": "2022-09-20T10:50:56.896363Z",
     "iopub.status.idle": "2022-09-20T10:50:56.911709Z",
     "shell.execute_reply": "2022-09-20T10:50:56.910137Z"
    },
    "papermill": {
     "duration": 0.031034,
     "end_time": "2022-09-20T10:50:56.916252",
     "exception": false,
     "start_time": "2022-09-20T10:50:56.885218",
     "status": "completed"
    },
    "tags": []
   },
   "outputs": [
    {
     "name": "stdout",
     "output_type": "stream",
     "text": [
      "[0.12033916 0.09561054 0.08444415 0.06498408 0.04860155 0.0421412\n",
      " 0.03942083 0.03389381 0.02998221 0.02932003 0.02781805 0.02577055\n",
      " 0.02275303 0.0222718  0.02165229 0.01914167 0.01775547 0.01638069\n",
      " 0.0159646  0.01489191 0.0134797  0.01271931 0.01165837 0.01057647\n",
      " 0.00975316 0.00944559 0.00863014 0.00836643 0.00797693 0.00746471\n",
      " 0.00725582 0.00691911 0.00653909 0.00640793 0.00591384 0.00571162\n",
      " 0.00523637 0.00481808 0.00453719 0.00423163]\n"
     ]
    }
   ],
   "source": [
    " print(pca.explained_variance_ratio_)"
   ]
  },
  {
   "cell_type": "code",
   "execution_count": 13,
   "id": "8b6a5bea",
   "metadata": {
    "execution": {
     "iopub.execute_input": "2022-09-20T10:50:56.937443Z",
     "iopub.status.busy": "2022-09-20T10:50:56.936806Z",
     "iopub.status.idle": "2022-09-20T10:50:56.951583Z",
     "shell.execute_reply": "2022-09-20T10:50:56.950003Z"
    },
    "papermill": {
     "duration": 0.030013,
     "end_time": "2022-09-20T10:50:56.955773",
     "exception": false,
     "start_time": "2022-09-20T10:50:56.925760",
     "status": "completed"
    },
    "tags": []
   },
   "outputs": [],
   "source": [
    "X_train, X_test, y_train, y_test = train_test_split(X_pca, y, test_size=0.2, random_state=1)\n",
    "from sklearn.neighbors import KNeighborsClassifier\n",
    "model=KNeighborsClassifier(n_neighbors=10)"
   ]
  },
  {
   "cell_type": "code",
   "execution_count": 14,
   "id": "79a7c3a2",
   "metadata": {
    "execution": {
     "iopub.execute_input": "2022-09-20T10:50:56.977913Z",
     "iopub.status.busy": "2022-09-20T10:50:56.977312Z",
     "iopub.status.idle": "2022-09-20T10:50:56.991252Z",
     "shell.execute_reply": "2022-09-20T10:50:56.989867Z"
    },
    "papermill": {
     "duration": 0.028956,
     "end_time": "2022-09-20T10:50:56.994666",
     "exception": false,
     "start_time": "2022-09-20T10:50:56.965710",
     "status": "completed"
    },
    "tags": []
   },
   "outputs": [
    {
     "data": {
      "text/plain": [
       "KNeighborsClassifier(n_neighbors=10)"
      ]
     },
     "execution_count": 14,
     "metadata": {},
     "output_type": "execute_result"
    }
   ],
   "source": [
    "model.fit(X_train,y_train)"
   ]
  },
  {
   "cell_type": "code",
   "execution_count": 15,
   "id": "14386c86",
   "metadata": {
    "execution": {
     "iopub.execute_input": "2022-09-20T10:50:57.009585Z",
     "iopub.status.busy": "2022-09-20T10:50:57.009157Z",
     "iopub.status.idle": "2022-09-20T10:50:57.060607Z",
     "shell.execute_reply": "2022-09-20T10:50:57.059248Z"
    },
    "papermill": {
     "duration": 0.064236,
     "end_time": "2022-09-20T10:50:57.064768",
     "exception": false,
     "start_time": "2022-09-20T10:50:57.000532",
     "status": "completed"
    },
    "tags": []
   },
   "outputs": [
    {
     "data": {
      "text/plain": [
       "0.9805555555555555"
      ]
     },
     "execution_count": 15,
     "metadata": {},
     "output_type": "execute_result"
    }
   ],
   "source": [
    "model.score(X_test,y_test)"
   ]
  },
  {
   "cell_type": "code",
   "execution_count": 16,
   "id": "ca03959b",
   "metadata": {
    "execution": {
     "iopub.execute_input": "2022-09-20T10:50:57.088404Z",
     "iopub.status.busy": "2022-09-20T10:50:57.087555Z",
     "iopub.status.idle": "2022-09-20T10:50:57.193544Z",
     "shell.execute_reply": "2022-09-20T10:50:57.192639Z"
    },
    "papermill": {
     "duration": 0.119954,
     "end_time": "2022-09-20T10:50:57.196106",
     "exception": false,
     "start_time": "2022-09-20T10:50:57.076152",
     "status": "completed"
    },
    "tags": []
   },
   "outputs": [
    {
     "data": {
      "text/plain": [
       "0.8111111111111111"
      ]
     },
     "execution_count": 16,
     "metadata": {},
     "output_type": "execute_result"
    }
   ],
   "source": [
    "from sklearn.tree import DecisionTreeClassifier\n",
    "model=DecisionTreeClassifier()\n",
    "model.fit(X_train,y_train)\n",
    "model.score(X_test,y_test)"
   ]
  },
  {
   "cell_type": "code",
   "execution_count": 17,
   "id": "caddd839",
   "metadata": {
    "execution": {
     "iopub.execute_input": "2022-09-20T10:50:57.210026Z",
     "iopub.status.busy": "2022-09-20T10:50:57.209595Z",
     "iopub.status.idle": "2022-09-20T10:50:57.307303Z",
     "shell.execute_reply": "2022-09-20T10:50:57.305962Z"
    },
    "papermill": {
     "duration": 0.107802,
     "end_time": "2022-09-20T10:50:57.310048",
     "exception": false,
     "start_time": "2022-09-20T10:50:57.202246",
     "status": "completed"
    },
    "tags": []
   },
   "outputs": [
    {
     "data": {
      "text/plain": [
       "0.802447414006434"
      ]
     },
     "execution_count": 17,
     "metadata": {},
     "output_type": "execute_result"
    }
   ],
   "source": [
    "from sklearn.model_selection import cross_val_score\n",
    "cross_val_score(model, X, y, cv=4).mean()"
   ]
  },
  {
   "cell_type": "code",
   "execution_count": null,
   "id": "5f0423ff",
   "metadata": {
    "execution": {
     "iopub.execute_input": "2022-09-20T08:20:54.868997Z",
     "iopub.status.busy": "2022-09-20T08:20:54.868562Z",
     "iopub.status.idle": "2022-09-20T08:20:54.920580Z",
     "shell.execute_reply": "2022-09-20T08:20:54.918987Z",
     "shell.execute_reply.started": "2022-09-20T08:20:54.868964Z"
    },
    "papermill": {
     "duration": 0.006111,
     "end_time": "2022-09-20T10:50:57.322531",
     "exception": false,
     "start_time": "2022-09-20T10:50:57.316420",
     "status": "completed"
    },
    "tags": []
   },
   "outputs": [],
   "source": []
  }
 ],
 "metadata": {
  "kernelspec": {
   "display_name": "Python 3",
   "language": "python",
   "name": "python3"
  },
  "language_info": {
   "codemirror_mode": {
    "name": "ipython",
    "version": 3
   },
   "file_extension": ".py",
   "mimetype": "text/x-python",
   "name": "python",
   "nbconvert_exporter": "python",
   "pygments_lexer": "ipython3",
   "version": "3.7.12"
  },
  "papermill": {
   "default_parameters": {},
   "duration": 12.800964,
   "end_time": "2022-09-20T10:50:58.151581",
   "environment_variables": {},
   "exception": null,
   "input_path": "__notebook__.ipynb",
   "output_path": "__notebook__.ipynb",
   "parameters": {},
   "start_time": "2022-09-20T10:50:45.350617",
   "version": "2.3.4"
  }
 },
 "nbformat": 4,
 "nbformat_minor": 5
}
